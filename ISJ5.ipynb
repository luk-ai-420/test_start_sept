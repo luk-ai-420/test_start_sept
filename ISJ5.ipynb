{
 "cells": [
  {
   "cell_type": "markdown",
   "metadata": {
    "slideshow": {
     "slide_type": "slide"
    }
   },
   "source": [
    "# ISJ - Introduction to Python (2nd part)"
   ]
  },
  {
   "cell_type": "markdown",
   "metadata": {
    "slideshow": {
     "slide_type": "slide"
    }
   },
   "source": [
    "# Basic control structures"
   ]
  },
  {
   "cell_type": "code",
   "execution_count": null,
   "metadata": {
    "scrolled": true,
    "slideshow": {
     "slide_type": "slide"
    }
   },
   "outputs": [],
   "source": [
    "if True:\n",
    "    print('This is true')\n",
    "else:\n",
    "    print('This is false')"
   ]
  },
  {
   "cell_type": "code",
   "execution_count": null,
   "metadata": {
    "scrolled": true,
    "slideshow": {
     "slide_type": "slide"
    }
   },
   "outputs": [],
   "source": [
    "x = 0\n",
    "while x < 5:\n",
    "    x = x + 1\n",
    "    print(x)"
   ]
  },
  {
   "cell_type": "code",
   "execution_count": null,
   "metadata": {
    "slideshow": {
     "slide_type": "slide"
    }
   },
   "outputs": [],
   "source": [
    "import random\n",
    "\n",
    "def random_numbers():\n",
    "    # Print and return a random int\n",
    "    result = random.randint(0, 5)\n",
    "    print(result)\n",
    "    return result\n",
    "\n",
    "# Continue calling x while its value is at least 1.\n",
    "# ... Use no loop body.\n",
    "while random_numbers() >= 1:\n",
    "    pass\n",
    "\n",
    "print(\"DONE\")"
   ]
  },
  {
   "cell_type": "code",
   "execution_count": null,
   "metadata": {
    "scrolled": true,
    "slideshow": {
     "slide_type": "slide"
    }
   },
   "outputs": [],
   "source": [
    "lst = [ 1, 2, 3 ]\n",
    "for x in lst:\n",
    "    print(x)"
   ]
  },
  {
   "cell_type": "code",
   "execution_count": null,
   "metadata": {
    "scrolled": true,
    "slideshow": {
     "slide_type": "slide"
    }
   },
   "outputs": [],
   "source": [
    "print(range(3))\n",
    "for x in range(3):\n",
    "    print(x)"
   ]
  },
  {
   "cell_type": "code",
   "execution_count": null,
   "metadata": {
    "scrolled": true,
    "slideshow": {
     "slide_type": "slide"
    }
   },
   "outputs": [],
   "source": [
    "for x in range(10):\n",
    "    if x % 2 == 0:\n",
    "        continue\n",
    "    if x > 5: break\n",
    "    print(x)"
   ]
  },
  {
   "cell_type": "code",
   "execution_count": null,
   "metadata": {
    "slideshow": {
     "slide_type": "subslide"
    }
   },
   "outputs": [],
   "source": [
    "from pprint import pprint\n",
    "pprint(list(zip(range(32, 127), map(chr, range(32, 127)))))"
   ]
  },
  {
   "cell_type": "markdown",
   "metadata": {
    "slideshow": {
     "slide_type": "slide"
    }
   },
   "source": [
    "### Exercises\n",
    "\n",
    "- Write a function that sums the values in a list using a `for` loop\n",
    "- Write a function that sums the even-numbered values in a list\n",
    "- Write a function that returns the reversed version of a list"
   ]
  },
  {
   "cell_type": "markdown",
   "metadata": {
    "slideshow": {
     "slide_type": "slide"
    }
   },
   "source": [
    "# Dicts\n",
    "\n",
    "A *dict* is a hash table (also known as a \"dictionary\"). Dicts are pervasive in Python."
   ]
  },
  {
   "cell_type": "code",
   "execution_count": null,
   "metadata": {
    "scrolled": true,
    "slideshow": {
     "slide_type": "slide"
    }
   },
   "outputs": [],
   "source": [
    "print({'key':'value'})"
   ]
  },
  {
   "cell_type": "code",
   "execution_count": 18,
   "metadata": {
    "scrolled": true,
    "slideshow": {
     "slide_type": "slide"
    }
   },
   "outputs": [
    {
     "name": "stdout",
     "output_type": "stream",
     "text": [
      "{'key1': 1, 'key2': 'foo'}\n"
     ]
    }
   ],
   "source": [
    "d = {'key1':1, 'key2':'foo'}\n",
    "print(d)"
   ]
  },
  {
   "cell_type": "code",
   "execution_count": 19,
   "metadata": {
    "scrolled": true,
    "slideshow": {
     "slide_type": "slide"
    }
   },
   "outputs": [
    {
     "data": {
      "text/plain": [
       "1"
      ]
     },
     "execution_count": 19,
     "metadata": {},
     "output_type": "execute_result"
    }
   ],
   "source": [
    "d['key1']"
   ]
  },
  {
   "cell_type": "code",
   "execution_count": 20,
   "metadata": {
    "scrolled": true,
    "slideshow": {
     "slide_type": "slide"
    }
   },
   "outputs": [],
   "source": [
    "d['key3'] = 'bar'"
   ]
  },
  {
   "cell_type": "code",
   "execution_count": 21,
   "metadata": {
    "scrolled": true,
    "slideshow": {
     "slide_type": "slide"
    }
   },
   "outputs": [
    {
     "name": "stdout",
     "output_type": "stream",
     "text": [
      "{'key1': 1, 'key2': 'foo', 'key3': 'bar'}\n"
     ]
    }
   ],
   "source": [
    "print(d)"
   ]
  },
  {
   "cell_type": "code",
   "execution_count": 22,
   "metadata": {
    "scrolled": true,
    "slideshow": {
     "slide_type": "slide"
    }
   },
   "outputs": [
    {
     "name": "stdout",
     "output_type": "stream",
     "text": [
      "dict_keys(['key1', 'key2', 'key3'])\n"
     ]
    }
   ],
   "source": [
    "# we can get a list of their keys, values, or (key,value) pairs\n",
    "print(d.keys())"
   ]
  },
  {
   "cell_type": "code",
   "execution_count": 23,
   "metadata": {
    "scrolled": true,
    "slideshow": {
     "slide_type": "slide"
    }
   },
   "outputs": [
    {
     "name": "stdout",
     "output_type": "stream",
     "text": [
      "dict_values([1, 'foo', 'bar'])\n"
     ]
    }
   ],
   "source": [
    "print(d.values())"
   ]
  },
  {
   "cell_type": "code",
   "execution_count": 24,
   "metadata": {
    "scrolled": true,
    "slideshow": {
     "slide_type": "slide"
    }
   },
   "outputs": [
    {
     "name": "stdout",
     "output_type": "stream",
     "text": [
      "dict_items([('key1', 1), ('key2', 'foo'), ('key3', 'bar')])\n"
     ]
    }
   ],
   "source": [
    "print(d.items())"
   ]
  },
  {
   "cell_type": "code",
   "execution_count": null,
   "metadata": {
    "scrolled": true,
    "slideshow": {
     "slide_type": "slide"
    }
   },
   "outputs": [],
   "source": [
    "#  Values that are not hashable, that is, values containing lists, \n",
    "#  dictionaries or other mutable types (that are compared by value\n",
    "#  rather than by object identity) may not be used as keys\n",
    "d = { 'foo': 1,  2: 'bar' }\n",
    "print(d)"
   ]
  },
  {
   "cell_type": "code",
   "execution_count": 25,
   "metadata": {
    "scrolled": true,
    "slideshow": {
     "slide_type": "slide"
    }
   },
   "outputs": [
    {
     "name": "stdout",
     "output_type": "stream",
     "text": [
      "{'key1': 1, 'key2': 'foo', 'key3': 'bar', (1, 2): 'baz'}\n"
     ]
    }
   ],
   "source": [
    "d[(1,2)] = 'baz'\n",
    "print(d)"
   ]
  },
  {
   "cell_type": "markdown",
   "metadata": {
    "slideshow": {
     "slide_type": "slide"
    }
   },
   "source": [
    "Items can be removed using del"
   ]
  },
  {
   "cell_type": "code",
   "execution_count": 26,
   "metadata": {
    "scrolled": true,
    "slideshow": {
     "slide_type": "fragment"
    }
   },
   "outputs": [
    {
     "ename": "KeyError",
     "evalue": "2",
     "output_type": "error",
     "traceback": [
      "\u001b[1;31m---------------------------------------------------------------------------\u001b[0m",
      "\u001b[1;31mKeyError\u001b[0m                                  Traceback (most recent call last)",
      "\u001b[1;32m<ipython-input-26-44257b6e1a85>\u001b[0m in \u001b[0;36m<module>\u001b[1;34m\u001b[0m\n\u001b[1;32m----> 1\u001b[1;33m \u001b[1;32mdel\u001b[0m \u001b[0md\u001b[0m\u001b[1;33m[\u001b[0m\u001b[1;36m2\u001b[0m\u001b[1;33m]\u001b[0m\u001b[1;33m\u001b[0m\u001b[1;33m\u001b[0m\u001b[0m\n\u001b[0m\u001b[0;32m      2\u001b[0m \u001b[0mprint\u001b[0m\u001b[1;33m(\u001b[0m\u001b[0md\u001b[0m\u001b[1;33m)\u001b[0m\u001b[1;33m\u001b[0m\u001b[1;33m\u001b[0m\u001b[0m\n",
      "\u001b[1;31mKeyError\u001b[0m: 2"
     ]
    }
   ],
   "source": [
    "del d[2]\n",
    "print(d)"
   ]
  },
  {
   "cell_type": "code",
   "execution_count": 27,
   "metadata": {
    "scrolled": true,
    "slideshow": {
     "slide_type": "slide"
    }
   },
   "outputs": [
    {
     "name": "stdout",
     "output_type": "stream",
     "text": [
      "key1\n",
      "key2\n",
      "key3\n",
      "(1, 2)\n"
     ]
    }
   ],
   "source": [
    "#iteration over keys\n",
    "for k in d.keys():\n",
    "    print(k)"
   ]
  },
  {
   "cell_type": "code",
   "execution_count": 28,
   "metadata": {
    "slideshow": {
     "slide_type": "subslide"
    }
   },
   "outputs": [
    {
     "name": "stdout",
     "output_type": "stream",
     "text": [
      "key1\n",
      "key2\n",
      "key3\n",
      "(1, 2)\n"
     ]
    }
   ],
   "source": [
    "#iteration over keys\n",
    "for k in d:\n",
    "    print(k)"
   ]
  },
  {
   "cell_type": "code",
   "execution_count": 29,
   "metadata": {
    "scrolled": true,
    "slideshow": {
     "slide_type": "slide"
    }
   },
   "outputs": [
    {
     "name": "stdout",
     "output_type": "stream",
     "text": [
      "1\n",
      "foo\n",
      "bar\n",
      "baz\n"
     ]
    }
   ],
   "source": [
    "#iteration over values\n",
    "for v in d.values():\n",
    "    print(v)"
   ]
  },
  {
   "cell_type": "code",
   "execution_count": 30,
   "metadata": {
    "scrolled": true,
    "slideshow": {
     "slide_type": "slide"
    }
   },
   "outputs": [
    {
     "name": "stdout",
     "output_type": "stream",
     "text": [
      "key1 1\n",
      "key2 foo\n",
      "key3 bar\n",
      "(1, 2) baz\n"
     ]
    }
   ],
   "source": [
    "#iteration over items\n",
    "for k,v in d.items():\n",
    "    print(k, v)"
   ]
  },
  {
   "cell_type": "code",
   "execution_count": 31,
   "metadata": {
    "scrolled": true,
    "slideshow": {
     "slide_type": "slide"
    }
   },
   "outputs": [
    {
     "data": {
      "text/plain": [
       "False"
      ]
     },
     "execution_count": 31,
     "metadata": {},
     "output_type": "execute_result"
    }
   ],
   "source": [
    "'foo' in d # Test for key membership "
   ]
  },
  {
   "cell_type": "markdown",
   "metadata": {
    "slideshow": {
     "slide_type": "subslide"
    }
   },
   "source": [
    "## Antipattern\n"
   ]
  },
  {
   "cell_type": "code",
   "execution_count": 32,
   "metadata": {
    "slideshow": {
     "slide_type": "subslide"
    }
   },
   "outputs": [
    {
     "name": "stdout",
     "output_type": "stream",
     "text": [
      "men\n",
      "children\n",
      "dogs\n"
     ]
    }
   ],
   "source": [
    "sing2plur = {'goose':'geese', 'man':'men', 'child':'children'}\n",
    "singulars = ['man','child','dog']\n",
    "for w in singulars:\n",
    "    if w in sing2plur:\n",
    "        print(sing2plur[w])\n",
    "    else:\n",
    "        print(w+'s')"
   ]
  },
  {
   "cell_type": "markdown",
   "metadata": {
    "slideshow": {
     "slide_type": "subslide"
    }
   },
   "source": [
    "`get(key[, default])`\n",
    "\n",
    "Return the value for key if key is in the dictionary, else default.\n",
    "If default is not given, it defaults to None, so that this method never raises a KeyError.\n"
   ]
  },
  {
   "cell_type": "code",
   "execution_count": 33,
   "metadata": {
    "slideshow": {
     "slide_type": "subslide"
    }
   },
   "outputs": [
    {
     "name": "stdout",
     "output_type": "stream",
     "text": [
      "men\n",
      "children\n",
      "dogs\n"
     ]
    }
   ],
   "source": [
    "sing2plur = {'goose':'geese', 'man':'men', 'child':'children'}\n",
    "singulars = ['man','child','dog']\n",
    "for w in singulars:\n",
    "    print(sing2plur.get(w, w+'s'))"
   ]
  },
  {
   "cell_type": "markdown",
   "metadata": {
    "slideshow": {
     "slide_type": "subslide"
    }
   },
   "source": [
    "However, `get(key[, default])` does not create key\n",
    "\n",
    "`setdefault(key[, default])`\n",
    "\n",
    "If key is in the dictionary, return its value. If not, insert key with a value of default and return default.\n",
    "default defaults to None.\n",
    "\n"
   ]
  },
  {
   "cell_type": "code",
   "execution_count": 34,
   "metadata": {
    "slideshow": {
     "slide_type": "subslide"
    }
   },
   "outputs": [
    {
     "name": "stdout",
     "output_type": "stream",
     "text": [
      "{'be': ['was', 'were'], 'arise': ['arose']}\n"
     ]
    }
   ],
   "source": [
    "wordforms = [('be','was'),('arise', 'arose'),('be','were')]\n",
    "wfdict = {}\n",
    "for (lemma, wordform) in wordforms:\n",
    "    wfdict.setdefault(lemma,[]).append(wordform)\n",
    "print(wfdict)"
   ]
  },
  {
   "cell_type": "markdown",
   "metadata": {},
   "source": [
    "`collections.defaultdict`\n",
    "\n",
    "takes a function (default factory) as its argument\n",
    "\n",
    "By default, default factory is set to âintâ, i.e 0.\n",
    "\n",
    "If a key is not present in defaultdict, the default factory value is returned and displayed"
   ]
  },
  {
   "cell_type": "code",
   "execution_count": 35,
   "metadata": {
    "slideshow": {
     "slide_type": "subslide"
    }
   },
   "outputs": [
    {
     "name": "stdout",
     "output_type": "stream",
     "text": [
      "defaultdict(<class 'list'>, {'be': ['was', 'were'], 'arise': ['arose']})\n"
     ]
    }
   ],
   "source": [
    "from collections import defaultdict\n",
    "wordforms = [('be','was'),('arise', 'arose'),('be','were')]\n",
    "wfdict = defaultdict(list)\n",
    "for (lemma, wordform) in wordforms:\n",
    "    wfdict[lemma].append(wordform)\n",
    "print(wfdict)"
   ]
  },
  {
   "cell_type": "code",
   "execution_count": null,
   "metadata": {
    "scrolled": true,
    "slideshow": {
     "slide_type": "subslide"
    }
   },
   "outputs": [],
   "source": [
    "import os\n",
    "venv_dir = os.environ.setdefault('VENV_DIR', '/my/default/path')\n",
    "processor_level = os.environ.setdefault('PROCESSOR_LEVEL', '7')\n",
    "print(venv_dir)\n",
    "print(processor_level)"
   ]
  },
  {
   "cell_type": "markdown",
   "metadata": {
    "hide_input": true,
    "slideshow": {
     "slide_type": "slide"
    }
   },
   "source": [
    "# List, Dict and Set Comprehensions"
   ]
  },
  {
   "cell_type": "markdown",
   "metadata": {
    "slideshow": {
     "slide_type": "subslide"
    }
   },
   "source": [
    "A very common paradigm for building a list is as follows"
   ]
  },
  {
   "cell_type": "code",
   "execution_count": null,
   "metadata": {
    "slideshow": {
     "slide_type": "subslide"
    }
   },
   "outputs": [],
   "source": [
    "two_to_the_power_of = []\n",
    "for i in range(10):\n",
    "    two_to_the_power_of.append(2**i)\n",
    "\n",
    "two_to_the_power_of"
   ]
  },
  {
   "cell_type": "markdown",
   "metadata": {
    "slideshow": {
     "slide_type": "subslide"
    }
   },
   "source": [
    "The Python developers realised that it would be nice to be able to construct such lists using just an expression and invented the _list comprehension_"
   ]
  },
  {
   "cell_type": "markdown",
   "metadata": {
    "slideshow": {
     "slide_type": "subslide"
    }
   },
   "source": [
    "Using a comprehension we can write an expression that evaluates to the same list as above"
   ]
  },
  {
   "cell_type": "code",
   "execution_count": null,
   "metadata": {
    "slideshow": {
     "slide_type": "subslide"
    }
   },
   "outputs": [],
   "source": [
    "two_to_the_power_of = [2**x for x in range(10)]\n",
    "two_to_the_power_of"
   ]
  },
  {
   "cell_type": "code",
   "execution_count": null,
   "metadata": {
    "slideshow": {
     "slide_type": "subslide"
    }
   },
   "outputs": [],
   "source": [
    "x # In Python 3, i is purely local to the comprehension"
   ]
  },
  {
   "cell_type": "markdown",
   "metadata": {
    "slideshow": {
     "slide_type": "subslide"
    }
   },
   "source": [
    "You can also add conditions, which can be used to include only \"approved\" values"
   ]
  },
  {
   "cell_type": "markdown",
   "metadata": {
    "slideshow": {
     "slide_type": "subslide"
    }
   },
   "source": [
    "Suppose we wanted a list of the squares of even numbers, we could have written"
   ]
  },
  {
   "cell_type": "code",
   "execution_count": null,
   "metadata": {
    "slideshow": {
     "slide_type": "subslide"
    }
   },
   "outputs": [],
   "source": [
    "[x*x for x in range(10) if not x % 2]"
   ]
  },
  {
   "cell_type": "code",
   "execution_count": null,
   "metadata": {
    "slideshow": {
     "slide_type": "subslide"
    }
   },
   "outputs": [],
   "source": [
    "[len(str(2**x)) for x in range(10)]"
   ]
  },
  {
   "cell_type": "markdown",
   "metadata": {
    "slideshow": {
     "slide_type": "subslide"
    }
   },
   "source": [
    "More recently the language has been expanded to all the creation of sets and dicts\n",
    "using similar syntax."
   ]
  },
  {
   "cell_type": "code",
   "execution_count": 36,
   "metadata": {
    "slideshow": {
     "slide_type": "subslide"
    }
   },
   "outputs": [
    {
     "data": {
      "text/plain": [
       "{0: '',\n",
       " 1: '*',\n",
       " 2: '**',\n",
       " 3: '***',\n",
       " 4: '****',\n",
       " 5: '*****',\n",
       " 6: '******',\n",
       " 7: '*******',\n",
       " 8: '********',\n",
       " 9: '*********',\n",
       " 10: '**********',\n",
       " 11: '***********',\n",
       " 12: '************',\n",
       " 13: '*************',\n",
       " 14: '**************',\n",
       " 15: '***************',\n",
       " 16: '****************',\n",
       " 17: '*****************',\n",
       " 18: '******************',\n",
       " 19: '*******************'}"
      ]
     },
     "execution_count": 36,
     "metadata": {},
     "output_type": "execute_result"
    }
   ],
   "source": [
    "{i: \"*\"*i for i in range(20)}"
   ]
  },
  {
   "cell_type": "code",
   "execution_count": 37,
   "metadata": {
    "slideshow": {
     "slide_type": "subslide"
    }
   },
   "outputs": [
    {
     "data": {
      "text/plain": [
       "{'&', '&&&', '&&&&&', '&&&&&&&', '&&&&&&&&&'}"
      ]
     },
     "execution_count": 37,
     "metadata": {},
     "output_type": "execute_result"
    }
   ],
   "source": [
    "{\"&\"*i for i in range(10) if i%2}"
   ]
  },
  {
   "cell_type": "code",
   "execution_count": null,
   "metadata": {
    "slideshow": {
     "slide_type": "subslide"
    }
   },
   "outputs": [],
   "source": [
    "n = 4\n",
    "[[(i, k) for i in range(1, k + 1)] for k in range(1, n + 1)]"
   ]
  },
  {
   "cell_type": "code",
   "execution_count": null,
   "metadata": {
    "slideshow": {
     "slide_type": "subslide"
    }
   },
   "outputs": [],
   "source": [
    "result_exter = []\n",
    "for k in range(1, n + 1):\n",
    "    result_inter = []\n",
    "    for i in range(1, k + 1):\n",
    "        result_inter.append((i, k))\n",
    "    result_exter.append(result_inter)\n",
    "result_exter"
   ]
  },
  {
   "cell_type": "code",
   "execution_count": null,
   "metadata": {
    "slideshow": {
     "slide_type": "subslide"
    }
   },
   "outputs": [],
   "source": [
    "[[(i, k) for i in range(1, k + 1) if (i + k)%2 == 0] \\\n",
    "         for k in range(1, n + 1) if k % 2 == 0]"
   ]
  },
  {
   "cell_type": "code",
   "execution_count": null,
   "metadata": {
    "slideshow": {
     "slide_type": "subslide"
    }
   },
   "outputs": [],
   "source": [
    "result_exter = []\n",
    "for k in range(1,n + 1):\n",
    "    if k % 2 == 0:\n",
    "        result_inter = []\n",
    "        for i in range(1, k + 1):\n",
    "            if (i + k) % 2 == 0:\n",
    "                result_inter.append((i, k))\n",
    "        result_exter.append(result_inter)\n",
    "result_exter"
   ]
  },
  {
   "cell_type": "code",
   "execution_count": null,
   "metadata": {
    "slideshow": {
     "slide_type": "subslide"
    }
   },
   "outputs": [],
   "source": [
    "[(x, y) for x in [1, 2] for y in [1, 2]]"
   ]
  },
  {
   "cell_type": "code",
   "execution_count": null,
   "metadata": {
    "slideshow": {
     "slide_type": "subslide"
    }
   },
   "outputs": [],
   "source": [
    "n = 4\n",
    "[i**2 for i in range(1, k + 1) for k in range(1, n + 1)]"
   ]
  },
  {
   "cell_type": "code",
   "execution_count": null,
   "metadata": {
    "slideshow": {
     "slide_type": "slide"
    }
   },
   "outputs": [],
   "source": [
    "import numpy as np\n",
    "import simpleaudio as sa\n",
    "\n",
    "frequency = 440  # Our played note will be 440 Hz\n",
    "fs = 44100  # 44100 samples per second\n",
    "seconds = 3  # Note duration of 3 seconds\n",
    "\n",
    "# Generate array with seconds*sample_rate steps, ranging between 0 and seconds\n",
    "t = np.linspace(0, seconds, seconds * fs, False)\n",
    "\n",
    "# Generate a 440 Hz sine wave\n",
    "note = np.sin(frequency * t * 2 * np.pi)\n",
    "\n",
    "# Ensure that highest value is in 16-bit range\n",
    "audio = note * (2**15 - 1) / np.max(np.abs(note))\n",
    "# Convert to 16-bit data\n",
    "audio = audio.astype(np.int16)\n",
    "\n",
    "# Start playback\n",
    "play_obj = sa.play_buffer(audio, 1, 2, fs)\n",
    "\n",
    "# Wait for playback to finish before exiting\n",
    "play_obj.wait_done()"
   ]
  },
  {
   "cell_type": "code",
   "execution_count": null,
   "metadata": {
    "slideshow": {
     "slide_type": "subslide"
    }
   },
   "outputs": [],
   "source": [
    "# Convert Celsius to Fahrenheit\n",
    "celsius = [0,10,20,30]\n",
    "fahrenheit = [ 9/5 * temp + 32 for temp in celsius ]\n",
    "fahrenheit"
   ]
  },
  {
   "cell_type": "code",
   "execution_count": null,
   "metadata": {
    "slideshow": {
     "slide_type": "slide"
    }
   },
   "outputs": [],
   "source": [
    "#from fractions import Fraction\n",
    "import winsound\n",
    "semitone = 2 ** (1/12)\n",
    "steps = {'Octave': 12, 'Perfect 5th': 7, 'Perfect 4th': 5, 'Major 3rd': 4, 'Minor 3rd': 3, 'Unison': 0}\n",
    "for interval, n in steps.items():\n",
    "    ratio = Fraction(semitone**n).limit_denominator(10)\n",
    "    print(ratio, interval)"
   ]
  },
  {
   "cell_type": "code",
   "execution_count": 5,
   "metadata": {
    "slideshow": {
     "slide_type": "subslide"
    }
   },
   "outputs": [
    {
     "data": {
      "text/plain": [
       "[0, 1, 16, 81, 256, 625, 1296, 2401, 4096, 6561, 10000]"
      ]
     },
     "execution_count": 5,
     "metadata": {},
     "output_type": "execute_result"
    }
   ],
   "source": [
    "lst = [ x**2 for x in [x**2 for x in range(11)]]\n",
    "lst"
   ]
  },
  {
   "cell_type": "code",
   "execution_count": 6,
   "metadata": {
    "slideshow": {
     "slide_type": "subslide"
    }
   },
   "outputs": [
    {
     "data": {
      "text/plain": [
       "'SHRLCK HLMS'"
      ]
     },
     "execution_count": 6,
     "metadata": {},
     "output_type": "execute_result"
    }
   ],
   "source": [
    "''.join([letter.upper() for letter in \"Sherlock Holmes\" if letter.lower() not in 'aeiou'])"
   ]
  },
  {
   "cell_type": "code",
   "execution_count": 7,
   "metadata": {
    "slideshow": {
     "slide_type": "subslide"
    }
   },
   "outputs": [
    {
     "data": {
      "text/plain": [
       "[1, 8, 64, 512, 4096, 32768, 262144, 2097152, 16777216, 134217728]"
      ]
     },
     "execution_count": 7,
     "metadata": {},
     "output_type": "execute_result"
    }
   ],
   "source": [
    "[2**x for x in range(30) if x%3 ==0 ]"
   ]
  },
  {
   "cell_type": "code",
   "execution_count": null,
   "metadata": {
    "slideshow": {
     "slide_type": "subslide"
    }
   },
   "outputs": [],
   "source": [
    "result=[]\n",
    "for x in range(30):\n",
    "    if x%3 == 0:\n",
    "        result.append(2**x)\n",
    "print(result)"
   ]
  },
  {
   "cell_type": "markdown",
   "metadata": {
    "slideshow": {
     "slide_type": "subslide"
    }
   },
   "source": [
    "Comprehensions are an example of what we call **syntactic sugar**: they do not increase the capabilities of the language."
   ]
  },
  {
   "cell_type": "markdown",
   "metadata": {
    "slideshow": {
     "slide_type": "subslide"
    }
   },
   "source": [
    "Instead, they make it possible to write the same thing in a more readable way"
   ]
  },
  {
   "cell_type": "markdown",
   "metadata": {
    "slideshow": {
     "slide_type": "subslide"
    }
   },
   "source": [
    "## Nested comprehensions"
   ]
  },
  {
   "cell_type": "markdown",
   "metadata": {
    "slideshow": {
     "slide_type": "subslide"
    }
   },
   "source": [
    "If you write two `for` statements in a comprehension, you get a single array generated over all the pairs:"
   ]
  },
  {
   "cell_type": "code",
   "execution_count": 8,
   "metadata": {
    "slideshow": {
     "slide_type": "subslide"
    }
   },
   "outputs": [
    {
     "data": {
      "text/plain": [
       "[0, -1, -2, -3, 1, 0, -1, -2, 2, 1, 0, -1, 3, 2, 1, 0]"
      ]
     },
     "execution_count": 8,
     "metadata": {},
     "output_type": "execute_result"
    }
   ],
   "source": [
    "[x - y for x in range(4) for y in range(4)]"
   ]
  },
  {
   "cell_type": "code",
   "execution_count": null,
   "metadata": {},
   "outputs": [],
   "source": []
  },
  {
   "cell_type": "markdown",
   "metadata": {
    "slideshow": {
     "slide_type": "subslide"
    }
   },
   "source": [
    "You can select on either, or on some combination:"
   ]
  },
  {
   "cell_type": "code",
   "execution_count": 9,
   "metadata": {
    "slideshow": {
     "slide_type": "subslide"
    }
   },
   "outputs": [
    {
     "data": {
      "text/plain": [
       "[0, 1, 0, 2, 1, 0, 3, 2, 1, 0]"
      ]
     },
     "execution_count": 9,
     "metadata": {},
     "output_type": "execute_result"
    }
   ],
   "source": [
    "[x - y for x in range(4) for y in range(4) if x>=y]"
   ]
  },
  {
   "cell_type": "markdown",
   "metadata": {
    "slideshow": {
     "slide_type": "subslide"
    }
   },
   "source": [
    "If you want something more like a matrix, you need to do *two nested* comprehensions!"
   ]
  },
  {
   "cell_type": "code",
   "execution_count": 10,
   "metadata": {
    "slideshow": {
     "slide_type": "subslide"
    }
   },
   "outputs": [
    {
     "data": {
      "text/plain": [
       "[[0, 1, 2, 3], [-1, 0, 1, 2], [-2, -1, 0, 1], [-3, -2, -1, 0]]"
      ]
     },
     "execution_count": 10,
     "metadata": {},
     "output_type": "execute_result"
    }
   ],
   "source": [
    "[[x - y for x in range(4)] for y in range(4)]"
   ]
  },
  {
   "cell_type": "markdown",
   "metadata": {
    "slideshow": {
     "slide_type": "subslide"
    }
   },
   "source": [
    "Note the subtly different square brackets"
   ]
  },
  {
   "cell_type": "code",
   "execution_count": 11,
   "metadata": {
    "slideshow": {
     "slide_type": "subslide"
    }
   },
   "outputs": [
    {
     "data": {
      "text/plain": [
       "[8, 6, -18, 16, 12, -36, 24, 18, -54]"
      ]
     },
     "execution_count": 11,
     "metadata": {},
     "output_type": "execute_result"
    }
   ],
   "source": [
    "vec1 = [2, 4, 6]\n",
    "vec2 = [4, 3, -9]\n",
    "[x*y for x in vec1 for y in vec2]\n"
   ]
  },
  {
   "cell_type": "code",
   "execution_count": 12,
   "metadata": {
    "slideshow": {
     "slide_type": "subslide"
    }
   },
   "outputs": [
    {
     "data": {
      "text/plain": [
       "[8, 12, -54]"
      ]
     },
     "execution_count": 12,
     "metadata": {},
     "output_type": "execute_result"
    }
   ],
   "source": [
    "[vec1[i]*vec2[i] for i in range(len(vec1))]"
   ]
  },
  {
   "cell_type": "code",
   "execution_count": 13,
   "metadata": {
    "slideshow": {
     "slide_type": "subslide"
    }
   },
   "outputs": [
    {
     "data": {
      "text/plain": [
       "['3.1', '3.14', '3.142', '3.1416', '3.14159']"
      ]
     },
     "execution_count": 13,
     "metadata": {},
     "output_type": "execute_result"
    }
   ],
   "source": [
    "[str(round(355/113, i)) for i in range(1, 6)]"
   ]
  },
  {
   "cell_type": "markdown",
   "metadata": {
    "slideshow": {
     "slide_type": "subslide"
    }
   },
   "source": [
    "Note that the list order for multiple or nested comprehensions can be confusing:"
   ]
  },
  {
   "cell_type": "code",
   "execution_count": 15,
   "metadata": {
    "slideshow": {
     "slide_type": "subslide"
    }
   },
   "outputs": [
    {
     "data": {
      "text/plain": [
       "['a1', 'a2', 'a3', 'b1', 'b2', 'b3', 'c1', 'c2', 'c3']"
      ]
     },
     "execution_count": 15,
     "metadata": {},
     "output_type": "execute_result"
    }
   ],
   "source": [
    "[x+y for x in ['a','b','c'] for y in ['1','2','3']]"
   ]
  },
  {
   "cell_type": "code",
   "execution_count": 14,
   "metadata": {
    "slideshow": {
     "slide_type": "subslide"
    }
   },
   "outputs": [
    {
     "data": {
      "text/plain": [
       "[['a1', 'b1', 'c1'], ['a2', 'b2', 'c2'], ['a3', 'b3', 'c3']]"
      ]
     },
     "execution_count": 14,
     "metadata": {},
     "output_type": "execute_result"
    }
   ],
   "source": [
    "[[x+y for x in ['a','b','c']] for y in ['1','2','3']]"
   ]
  },
  {
   "cell_type": "code",
   "execution_count": 16,
   "metadata": {
    "slideshow": {
     "slide_type": "subslide"
    }
   },
   "outputs": [
    {
     "data": {
      "text/plain": [
       "[[1, 5, 9], [2, 6, 10], [3, 7, 11], [4, 8, 12]]"
      ]
     },
     "execution_count": 16,
     "metadata": {},
     "output_type": "execute_result"
    }
   ],
   "source": [
    "matrix = [\n",
    "    [1, 2, 3, 4],\n",
    "    [5, 6, 7, 8],\n",
    "    [9, 10, 11, 12]\n",
    "]\n",
    "[[row[i] for row in matrix] for i in range(4)]\n",
    "[[1, 5, 9], [2, 6, 10], [3, 7, 11], [4, 8, 12]]"
   ]
  },
  {
   "cell_type": "code",
   "execution_count": null,
   "metadata": {
    "slideshow": {
     "slide_type": "subslide"
    }
   },
   "outputs": [],
   "source": [
    "[list(x) for x in zip(*matrix)]"
   ]
  },
  {
   "cell_type": "code",
   "execution_count": null,
   "metadata": {
    "slideshow": {
     "slide_type": "subslide"
    }
   },
   "outputs": [],
   "source": [
    "import os\n",
    "import glob # Unix style pathname pattern expansion\n",
    "[f for f in glob.glob('*.ipynb') if os.stat(f).st_size > 6000]"
   ]
  },
  {
   "cell_type": "code",
   "execution_count": null,
   "metadata": {
    "slideshow": {
     "slide_type": "subslide"
    }
   },
   "outputs": [],
   "source": [
    "import os, glob\n",
    "[(os.stat(f).st_size, os.path.realpath(f)) for f in glob.glob('*.ipynb')]"
   ]
  },
  {
   "cell_type": "code",
   "execution_count": 17,
   "metadata": {
    "slideshow": {
     "slide_type": "subslide"
    }
   },
   "outputs": [
    {
     "data": {
      "text/plain": [
       "[[1, 0, 0], [0, 1, 0], [0, 0, 1]]"
      ]
     },
     "execution_count": 17,
     "metadata": {},
     "output_type": "execute_result"
    }
   ],
   "source": [
    "[ [ 1 if item_idx == row_idx else 0 for item_idx in range(0, 3) ] for row_idx in range(0, 3) ]"
   ]
  },
  {
   "cell_type": "markdown",
   "metadata": {
    "slideshow": {
     "slide_type": "subslide"
    }
   },
   "source": [
    "## Dictionary and Set Comprehensions"
   ]
  },
  {
   "cell_type": "markdown",
   "metadata": {
    "slideshow": {
     "slide_type": "subslide"
    }
   },
   "source": [
    "You can automatically build dictionaries, by using a list comprehension syntax, but with curly brackets and a colon:"
   ]
  },
  {
   "cell_type": "code",
   "execution_count": 38,
   "metadata": {
    "slideshow": {
     "slide_type": "subslide"
    }
   },
   "outputs": [
    {
     "data": {
      "text/plain": [
       "{'000': 0, '111': 1, '222': 2}"
      ]
     },
     "execution_count": 38,
     "metadata": {},
     "output_type": "execute_result"
    }
   ],
   "source": [
    "{ (str(x))*3: x for x in range(3) }"
   ]
  },
  {
   "cell_type": "code",
   "execution_count": null,
   "metadata": {
    "slideshow": {
     "slide_type": "subslide"
    }
   },
   "outputs": [],
   "source": [
    "metadata_dict = {f:os.stat(f) for f in glob.glob('*.ipynb')}\n",
    "metadata_dict"
   ]
  },
  {
   "cell_type": "code",
   "execution_count": 39,
   "metadata": {
    "slideshow": {
     "slide_type": "subslide"
    }
   },
   "outputs": [
    {
     "data": {
      "text/plain": [
       "{1: 'a', 2: 'b', 3: 'c'}"
      ]
     },
     "execution_count": 39,
     "metadata": {},
     "output_type": "execute_result"
    }
   ],
   "source": [
    "a_dict = {'a': 1, 'b': 2, 'c': 3}\n",
    "{value:key for key, value in a_dict.items()}"
   ]
  },
  {
   "cell_type": "code",
   "execution_count": 40,
   "metadata": {
    "slideshow": {
     "slide_type": "subslide"
    }
   },
   "outputs": [
    {
     "ename": "TypeError",
     "evalue": "unhashable type: 'list'",
     "output_type": "error",
     "traceback": [
      "\u001b[1;31m---------------------------------------------------------------------------\u001b[0m",
      "\u001b[1;31mTypeError\u001b[0m                                 Traceback (most recent call last)",
      "\u001b[1;32m<ipython-input-40-6c41be98b0c2>\u001b[0m in \u001b[0;36m<module>\u001b[1;34m\u001b[0m\n\u001b[0;32m      1\u001b[0m \u001b[0ma_dict\u001b[0m \u001b[1;33m=\u001b[0m \u001b[1;33m{\u001b[0m\u001b[1;34m'a'\u001b[0m\u001b[1;33m:\u001b[0m \u001b[1;33m[\u001b[0m\u001b[1;36m1\u001b[0m\u001b[1;33m,\u001b[0m \u001b[1;36m2\u001b[0m\u001b[1;33m,\u001b[0m \u001b[1;36m3\u001b[0m\u001b[1;33m]\u001b[0m\u001b[1;33m,\u001b[0m \u001b[1;34m'b'\u001b[0m\u001b[1;33m:\u001b[0m \u001b[1;36m4\u001b[0m\u001b[1;33m,\u001b[0m \u001b[1;34m'c'\u001b[0m\u001b[1;33m:\u001b[0m \u001b[1;36m5\u001b[0m\u001b[1;33m}\u001b[0m\u001b[1;33m\u001b[0m\u001b[1;33m\u001b[0m\u001b[0m\n\u001b[1;32m----> 2\u001b[1;33m \u001b[1;33m{\u001b[0m\u001b[0mvalue\u001b[0m\u001b[1;33m:\u001b[0m\u001b[0mkey\u001b[0m \u001b[1;32mfor\u001b[0m \u001b[0mkey\u001b[0m\u001b[1;33m,\u001b[0m \u001b[0mvalue\u001b[0m \u001b[1;32min\u001b[0m \u001b[0ma_dict\u001b[0m\u001b[1;33m.\u001b[0m\u001b[0mitems\u001b[0m\u001b[1;33m(\u001b[0m\u001b[1;33m)\u001b[0m\u001b[1;33m}\u001b[0m\u001b[1;33m\u001b[0m\u001b[1;33m\u001b[0m\u001b[0m\n\u001b[0m",
      "\u001b[1;32m<ipython-input-40-6c41be98b0c2>\u001b[0m in \u001b[0;36m<dictcomp>\u001b[1;34m(.0)\u001b[0m\n\u001b[0;32m      1\u001b[0m \u001b[0ma_dict\u001b[0m \u001b[1;33m=\u001b[0m \u001b[1;33m{\u001b[0m\u001b[1;34m'a'\u001b[0m\u001b[1;33m:\u001b[0m \u001b[1;33m[\u001b[0m\u001b[1;36m1\u001b[0m\u001b[1;33m,\u001b[0m \u001b[1;36m2\u001b[0m\u001b[1;33m,\u001b[0m \u001b[1;36m3\u001b[0m\u001b[1;33m]\u001b[0m\u001b[1;33m,\u001b[0m \u001b[1;34m'b'\u001b[0m\u001b[1;33m:\u001b[0m \u001b[1;36m4\u001b[0m\u001b[1;33m,\u001b[0m \u001b[1;34m'c'\u001b[0m\u001b[1;33m:\u001b[0m \u001b[1;36m5\u001b[0m\u001b[1;33m}\u001b[0m\u001b[1;33m\u001b[0m\u001b[1;33m\u001b[0m\u001b[0m\n\u001b[1;32m----> 2\u001b[1;33m \u001b[1;33m{\u001b[0m\u001b[0mvalue\u001b[0m\u001b[1;33m:\u001b[0m\u001b[0mkey\u001b[0m \u001b[1;32mfor\u001b[0m \u001b[0mkey\u001b[0m\u001b[1;33m,\u001b[0m \u001b[0mvalue\u001b[0m \u001b[1;32min\u001b[0m \u001b[0ma_dict\u001b[0m\u001b[1;33m.\u001b[0m\u001b[0mitems\u001b[0m\u001b[1;33m(\u001b[0m\u001b[1;33m)\u001b[0m\u001b[1;33m}\u001b[0m\u001b[1;33m\u001b[0m\u001b[1;33m\u001b[0m\u001b[0m\n\u001b[0m",
      "\u001b[1;31mTypeError\u001b[0m: unhashable type: 'list'"
     ]
    }
   ],
   "source": [
    "a_dict = {'a': [1, 2, 3], 'b': 4, 'c': 5}\n",
    "{value:key for key, value in a_dict.items()}"
   ]
  },
  {
   "cell_type": "code",
   "execution_count": 41,
   "metadata": {
    "slideshow": {
     "slide_type": "subslide"
    }
   },
   "outputs": [],
   "source": [
    "names = [ 'Bob', 'Adam', 'alice', 'bob', 'ALICE', 'J', 'Bob' ]\n",
    "\n",
    "wanted = {'Alice', 'Bob', 'John'}"
   ]
  },
  {
   "cell_type": "code",
   "execution_count": 42,
   "metadata": {
    "slideshow": {
     "slide_type": "subslide"
    }
   },
   "outputs": [
    {
     "data": {
      "text/plain": [
       "{'Adam', 'Alice', 'Bob'}"
      ]
     },
     "execution_count": 42,
     "metadata": {},
     "output_type": "execute_result"
    }
   ],
   "source": [
    "{ name[0].upper() + name[1:].lower() for name in names if len(name) > 1 }"
   ]
  },
  {
   "cell_type": "code",
   "execution_count": null,
   "metadata": {
    "slideshow": {
     "slide_type": "subslide"
    }
   },
   "outputs": [],
   "source": [
    "# minitask 4\n",
    "mcase = {'a':10, 'b': 34, 'A': 7, 'Z':3}\n",
    "wanted = {'a': 17, 'b': 34, 'z': 3}"
   ]
  },
  {
   "cell_type": "code",
   "execution_count": null,
   "metadata": {
    "slideshow": {
     "slide_type": "subslide"
    }
   },
   "outputs": [],
   "source": [
    "{x for x in range(2, 41) if all(x%y for y in range(2, min(x, 11)))}"
   ]
  },
  {
   "cell_type": "code",
   "execution_count": null,
   "metadata": {
    "slideshow": {
     "slide_type": "slide"
    }
   },
   "outputs": [],
   "source": [
    "# Dicts are more compact than equivalent\n",
    "# lists of 2-tuples when length >= 3\n",
    "from sys import getsizeof\n",
    "for n in range(5):\n",
    "    d = dict(enumerate(range(n)))\n",
    "    lot = list(d.items())\n",
    "    print(f'n={n}, d={getsizeof(d)}, lot={getsizeof(lot) + sum(map(getsizeof, lot))}')"
   ]
  },
  {
   "cell_type": "code",
   "execution_count": null,
   "metadata": {
    "slideshow": {
     "slide_type": "slide"
    }
   },
   "outputs": [],
   "source": [
    "def mersenne(n):\n",
    "    return  2**n - 1"
   ]
  },
  {
   "cell_type": "code",
   "execution_count": null,
   "metadata": {
    "slideshow": {
     "slide_type": "slide"
    }
   },
   "outputs": [],
   "source": [
    "print(mersenne(5))"
   ]
  },
  {
   "cell_type": "code",
   "execution_count": null,
   "metadata": {
    "slideshow": {
     "slide_type": "slide"
    }
   },
   "outputs": [],
   "source": [
    "def give_4():\n",
    "    return 4\n",
    "a = give_4()\n",
    "b = give_4\n",
    "print(a)\n",
    "print(b)\n",
    "a = b = 1\n",
    "dir(mersenne)"
   ]
  },
  {
   "cell_type": "code",
   "execution_count": null,
   "metadata": {
    "slideshow": {
     "slide_type": "slide"
    }
   },
   "outputs": [],
   "source": [
    "def print_hello():\n",
    "    print('hello')\n",
    "print_hello()"
   ]
  },
  {
   "cell_type": "code",
   "execution_count": null,
   "metadata": {
    "slideshow": {
     "slide_type": "slide"
    }
   },
   "outputs": [],
   "source": [
    "from datetime import datetime\n",
    "def print_now():\n",
    "    print(datetime.now())\n",
    "print_now()"
   ]
  },
  {
   "cell_type": "code",
   "execution_count": null,
   "metadata": {
    "slideshow": {
     "slide_type": "slide"
    }
   },
   "outputs": [],
   "source": [
    "options = {\n",
    "           '1': print_now(),\n",
    "           '2': print_hello()}\n",
    "opt1 = print_now\n",
    "answer=input()\n",
    "options[answer]()\n",
    "print(options[answer])"
   ]
  },
  {
   "cell_type": "code",
   "execution_count": null,
   "metadata": {
    "slideshow": {
     "slide_type": "slide"
    }
   },
   "outputs": [],
   "source": [
    "dir(1)"
   ]
  },
  {
   "cell_type": "code",
   "execution_count": null,
   "metadata": {
    "slideshow": {
     "slide_type": "slide"
    }
   },
   "outputs": [],
   "source": [
    "dir(print_hello)"
   ]
  },
  {
   "cell_type": "code",
   "execution_count": null,
   "metadata": {
    "slideshow": {
     "slide_type": "slide"
    }
   },
   "outputs": [],
   "source": [
    "import sys\n",
    "d={}\n",
    "print(sys.getsizeof(d))"
   ]
  },
  {
   "cell_type": "code",
   "execution_count": null,
   "metadata": {
    "slideshow": {
     "slide_type": "slide"
    }
   },
   "outputs": [],
   "source": [
    "a = 6\n",
    "print(id(a))\n",
    "a = ['a','b']\n",
    "print(id(a))\n",
    "b = a\n",
    "print(id(b))"
   ]
  },
  {
   "cell_type": "markdown",
   "metadata": {
    "slideshow": {
     "slide_type": "slide"
    }
   },
   "source": [
    "# Exceptions\n",
    "\n",
    "Python handles errors by throwing *exceptions*. For instance, trying to read a non-existent\n",
    "key in a dict:"
   ]
  },
  {
   "cell_type": "code",
   "execution_count": null,
   "metadata": {
    "scrolled": true,
    "slideshow": {
     "slide_type": "slide"
    }
   },
   "outputs": [],
   "source": [
    "d = {}\n",
    "d['this key does not exist']"
   ]
  },
  {
   "cell_type": "markdown",
   "metadata": {
    "slideshow": {
     "slide_type": "slide"
    }
   },
   "source": [
    "To handle exceptions gracefully, we must enclose them in a `try:` *block*:"
   ]
  },
  {
   "cell_type": "code",
   "execution_count": null,
   "metadata": {
    "scrolled": true,
    "slideshow": {
     "slide_type": "slide"
    }
   },
   "outputs": [],
   "source": [
    "try:\n",
    "    x = d['does not exist']\n",
    "    print('This statement never executes!')\n",
    "except KeyError:\n",
    "    print('There was a key error!')"
   ]
  },
  {
   "cell_type": "markdown",
   "metadata": {
    "slideshow": {
     "slide_type": "slide"
    }
   },
   "source": [
    "We can also write code that will *always* run, whether an exception is raised or not:"
   ]
  },
  {
   "cell_type": "code",
   "execution_count": null,
   "metadata": {
    "scrolled": true,
    "slideshow": {
     "slide_type": "slide"
    }
   },
   "outputs": [],
   "source": [
    "try:\n",
    "    x = d['does not exist']\n",
    "except KeyError:\n",
    "    print('There was a key error!')\n",
    "finally:\n",
    "    print('This always runs!')"
   ]
  },
  {
   "cell_type": "code",
   "execution_count": null,
   "metadata": {
    "scrolled": true,
    "slideshow": {
     "slide_type": "slide"
    }
   },
   "outputs": [],
   "source": [
    "try:\n",
    "    x = d['key1']\n",
    "except KeyError:\n",
    "    print('There was a key error!'\n",
    "finally:\n",
    "    print('This always runs!')"
   ]
  },
  {
   "cell_type": "markdown",
   "metadata": {
    "slideshow": {
     "slide_type": "subslide"
    }
   },
   "source": [
    "If we want code that only runs when there is *not* an error, we can use the `else:` clause:"
   ]
  },
  {
   "cell_type": "code",
   "execution_count": null,
   "metadata": {
    "scrolled": true,
    "slideshow": {
     "slide_type": "slide"
    }
   },
   "outputs": [],
   "source": [
    "try:\n",
    "    x = d['key1']\n",
    "except KeyError:\n",
    "    print('There was a key error!')\n",
    "else:\n",
    "    print('The try: block completed without error.'\n",
    "finally:\n",
    "    print('This always runs!')"
   ]
  },
  {
   "cell_type": "markdown",
   "metadata": {
    "slideshow": {
     "slide_type": "slide"
    }
   },
   "source": [
    "To *cause* an exception, use the `raise` keyword:"
   ]
  },
  {
   "cell_type": "code",
   "execution_count": null,
   "metadata": {
    "scrolled": true,
    "slideshow": {
     "slide_type": "slide"
    }
   },
   "outputs": [],
   "source": [
    "raise KeyError('This is a key error')"
   ]
  },
  {
   "cell_type": "code",
   "execution_count": null,
   "metadata": {
    "slideshow": {
     "slide_type": "slide"
    }
   },
   "outputs": [],
   "source": [
    "{(1,2):'a',[3,4]:'b'}"
   ]
  },
  {
   "cell_type": "code",
   "execution_count": null,
   "metadata": {
    "slideshow": {
     "slide_type": "slide"
    }
   },
   "outputs": [],
   "source": [
    "one = 1\n",
    "li1 = [2,3]\n",
    "li2 = [5,6]\n",
    "tu = (one, li1)\n",
    "di = {tu:li2}"
   ]
  },
  {
   "cell_type": "code",
   "execution_count": null,
   "metadata": {
    "slideshow": {
     "slide_type": "slide"
    }
   },
   "outputs": [],
   "source": [
    "class MyListReprHash(list):\n",
    "    def __hash__(self):\n",
    "        return hash(str(self))\n",
    "print(str([1,2]))"
   ]
  },
  {
   "cell_type": "code",
   "execution_count": null,
   "metadata": {
    "slideshow": {
     "slide_type": "slide"
    }
   },
   "outputs": [],
   "source": [
    "a = MyListReprHash([1, 2, 3])\n",
    "b = MyListReprHash([1, 2, 3])\n",
    "di = {a: 42}\n",
    "li = list(di.keys())\n",
    "b_in_di = b in di.keys()\n",
    "b_in_li = b in li"
   ]
  },
  {
   "cell_type": "code",
   "execution_count": null,
   "metadata": {
    "slideshow": {
     "slide_type": "subslide"
    }
   },
   "outputs": [],
   "source": [
    "print(b in di)"
   ]
  },
  {
   "cell_type": "code",
   "execution_count": null,
   "metadata": {
    "slideshow": {
     "slide_type": "subslide"
    }
   },
   "outputs": [],
   "source": [
    "print(b in li)"
   ]
  },
  {
   "cell_type": "code",
   "execution_count": null,
   "metadata": {
    "slideshow": {
     "slide_type": "slide"
    }
   },
   "outputs": [],
   "source": [
    "a.append(4)\n",
    "a_in_di = a in di\n",
    "a_in_li = a in li"
   ]
  },
  {
   "cell_type": "code",
   "execution_count": null,
   "metadata": {
    "slideshow": {
     "slide_type": "subslide"
    }
   },
   "outputs": [],
   "source": [
    "print(a in di)"
   ]
  },
  {
   "cell_type": "code",
   "execution_count": null,
   "metadata": {
    "slideshow": {
     "slide_type": "subslide"
    }
   },
   "outputs": [],
   "source": [
    "print(b in li)"
   ]
  },
  {
   "cell_type": "code",
   "execution_count": null,
   "metadata": {},
   "outputs": [],
   "source": [
    "class MyListIdHash(list):\n",
    "    def __hash__(self):\n",
    "        return hash(id(self))\n"
   ]
  },
  {
   "cell_type": "code",
   "execution_count": null,
   "metadata": {
    "slideshow": {
     "slide_type": "slide"
    }
   },
   "outputs": [],
   "source": [
    "a = MyListIdHash([1, 2, 3])\n",
    "b = MyListIdHash([1, 2, 3])\n",
    "print(isinstance(a, list))\n",
    "print(isinstance(b, list))\n",
    "di = {a: 42}\n",
    "li = list(di.keys())\n",
    "print(a in di)\n",
    "print(a in li)\n",
    "b_in_di = b in di\n",
    "b_in_li = b in li\n",
    "print(id(a))\n",
    "print(id(b))"
   ]
  },
  {
   "cell_type": "code",
   "execution_count": null,
   "metadata": {
    "slideshow": {
     "slide_type": "subslide"
    }
   },
   "outputs": [],
   "source": [
    "print(b in di)"
   ]
  },
  {
   "cell_type": "code",
   "execution_count": null,
   "metadata": {
    "slideshow": {
     "slide_type": "subslide"
    }
   },
   "outputs": [],
   "source": [
    "print(b in li)"
   ]
  },
  {
   "cell_type": "code",
   "execution_count": null,
   "metadata": {
    "slideshow": {
     "slide_type": "slide"
    }
   },
   "outputs": [],
   "source": [
    "a.append(4)\n",
    "a_in_di = a in di\n",
    "a_in_li = a in li"
   ]
  },
  {
   "cell_type": "code",
   "execution_count": null,
   "metadata": {
    "slideshow": {
     "slide_type": "subslide"
    }
   },
   "outputs": [],
   "source": [
    "print(a in di)"
   ]
  },
  {
   "cell_type": "code",
   "execution_count": null,
   "metadata": {
    "slideshow": {
     "slide_type": "subslide"
    }
   },
   "outputs": [],
   "source": [
    "print(b in li)"
   ]
  },
  {
   "cell_type": "code",
   "execution_count": null,
   "metadata": {},
   "outputs": [],
   "source": [
    "class MyListReprHash(list):\n",
    "    def __hash__(self):\n",
    "        return hash(repr(self))\n",
    "r1 = MyListReprHash([1, 2, 3])\n",
    "r2 = MyListReprHash([1, 2, 3])\n",
    "dr = {r1: 'repr'}\n",
    "lr = list(dr.keys())\n",
    "print(r1 in dr, r2 in dr, r1 in lr, r2 in lr)\n",
    "r1.append(4)\n",
    "print(r1 in dr, r2 in dr, r1 in lr, r2 in lr)\n",
    "class MyListIdHash(list):\n",
    "    def __hash__(self):\n",
    "        return hash(id(self))\n",
    "i1 = MyListIdHash([1, 2, 3])\n",
    "i2 = MyListIdHash([1, 2, 3])\n",
    "di = {i1: 'repr'}\n",
    "li = list(di.keys())\n",
    "print(i1 in di, i2 in di, i1 in li, i2 in li)\n",
    "i1.append(4)\n",
    "print(i1 in di, i2 in di, i1 in li, i2 in li) \n"
   ]
  },
  {
   "cell_type": "markdown",
   "metadata": {
    "slideshow": {
     "slide_type": "slide"
    }
   },
   "source": [
    "[ SF CompactDict Talk ](https://dl.dropboxusercontent.com/u/3967849/sfmu2/_build/html/index.html) 1.0 \n",
    "* [Our Journey: The Beginning and the End](https://dl.dropboxusercontent.com/u/3967849/sfmu2/_build/html/goal.html#)\n",
    "  * [Instance Dictionaries](https://dl.dropboxusercontent.com/u/3967849/sfmu2/_build/html/goal.html#instance-dictionaries)\n",
    "  * [Contents of the Instance Dictionaries](https://dl.dropboxusercontent.com/u/3967849/sfmu2/_build/html/goal.html#contents-of-the-instance-dictionaries)\n",
    "  * [Dictionary Size](https://dl.dropboxusercontent.com/u/3967849/sfmu2/_build/html/goal.html#dictionary-size)\n",
    "\n",
    "\n",
    "* [Evolution: A Half Dozen Good Ideas](https://dl.dropboxusercontent.com/u/3967849/sfmu2/_build/html/main.html)\n",
    "* [Original Recipe for the Compact Dict](https://dl.dropboxusercontent.com/u/3967849/sfmu2/_build/html/recipe.html)\n",
    "\n",
    "**[SF CompactDict Talk](https://dl.dropboxusercontent.com/u/3967849/sfmu2/_build/html/index.html)\n",
    "* [Docs](https://dl.dropboxusercontent.com/u/3967849/sfmu2/_build/html/index.html) Âť\n",
    "* Our Journey: The Beginning and the End\n",
    "* \n",
    "\n",
    "# Our Journey: The Beginning and the End[Âś](https://dl.dropboxusercontent.com/u/3967849/sfmu2/_build/html/goal.html#our-journey-the-beginning-and-the-end)\n",
    "Python is built around dictionaries. The various namespaces include globals, locals, module dictionaries, class dictionaries, instance dictionaries.Of these, instance dictionaries are among the most prolific.## Instance Dictionaries[Âś](https://dl.dropboxusercontent.com/u/3967849/sfmu2/_build/html/goal.html#instance-dictionaries)\n",
    "Create a class to track user assignments with in a property category."
   ]
  },
  {
   "cell_type": "code",
   "execution_count": null,
   "metadata": {
    "slideshow": {
     "slide_type": "subslide"
    }
   },
   "outputs": [],
   "source": [
    "from __future__ import division, print_function\n",
    "import sys\n",
    "\n",
    "class UserProperty:\n",
    "    def __init__(self, v0, v1, v2, v3, v4):\n",
    "        self.guido = v0\n",
    "        self.sarah = v1\n",
    "        self.barry = v2\n",
    "        self.rachel = v3\n",
    "        self.tim = v4\n",
    "\n",
    "    def __repr__(self):\n",
    "        return 'UserProperty(%r, %r, %r, %r, %r)' \\\n",
    "               % (self.guido, self.sarah, self.barry, self.rachel, self.tim)\n",
    "\n",
    "colors = UserProperty('blue', 'orange', 'green', 'yellow', 'red')\n",
    "cities = UserProperty('austin', 'dallas', 'tuscon', 'reno', 'portland')\n",
    "fruits = UserProperty('apple', 'banana', 'orange', 'pear', 'peach')\n",
    "\n",
    "for user in [colors, cities, fruits]:\n",
    "    print(vars(user))\n",
    "\n",
    "print(list(map(sys.getsizeof, map(vars, [colors, cities, fruits]))))"
   ]
  },
  {
   "cell_type": "markdown",
   "metadata": {
    "slideshow": {
     "slide_type": "subslide"
    }
   },
   "source": [
    "## Contents of the Instance Dictionaries[Âś](https://dl.dropboxusercontent.com/u/3967849/sfmu2/_build/html/goal.html#contents-of-the-instance-dictionaries)\n",
    "The three instance dictionaries:"
   ]
  },
  {
   "cell_type": "code",
   "execution_count": null,
   "metadata": {
    "slideshow": {
     "slide_type": "subslide"
    }
   },
   "outputs": [],
   "source": [
    "{'guido': 'blue',\n",
    " 'sarah': 'orange',\n",
    " 'barry': 'green',\n",
    " 'rachel': 'yellow',\n",
    " 'tim': 'red'}\n",
    "\n",
    "{'guido': 'austin',\n",
    " 'sarah': 'dallas',\n",
    " 'barry': 'tuscon',\n",
    " 'rachel': 'reno',\n",
    " 'tim': 'portland'}\n",
    "\n",
    "{'guido': 'apple',\n",
    " 'sarah': 'banana',\n",
    " 'barry': 'orange',\n",
    " 'rachel': 'pear',\n",
    " 'tim': 'peach'}"
   ]
  },
  {
   "cell_type": "markdown",
   "metadata": {
    "slideshow": {
     "slide_type": "subslide"
    }
   },
   "source": [
    "[ SF CompactDict Talk ](https://dl.dropboxusercontent.com/u/3967849/sfmu2/_build/html/index.html) 1.0 \n",
    "* [Our Journey: The Beginning and the End](https://dl.dropboxusercontent.com/u/3967849/sfmu2/_build/html/goal.html)\n",
    "* [Evolution: A Half Dozen Good Ideas](https://dl.dropboxusercontent.com/u/3967849/sfmu2/_build/html/main.html#)\n",
    "  * [Setup](https://dl.dropboxusercontent.com/u/3967849/sfmu2/_build/html/main.html#setup)\n",
    "  * [How a Database Would Do It](https://dl.dropboxusercontent.com/u/3967849/sfmu2/_build/html/main.html#how-a-database-would-do-it)\n",
    "  * [How LISP Would Do It](https://dl.dropboxusercontent.com/u/3967849/sfmu2/_build/html/main.html#how-lisp-would-do-it)\n",
    "  * [Separate Chaining](https://dl.dropboxusercontent.com/u/3967849/sfmu2/_build/html/main.html#separate-chaining)\n",
    "  * [Open Addressing](https://dl.dropboxusercontent.com/u/3967849/sfmu2/_build/html/main.html#open-addressing)\n",
    "  * [Open Addressing Multiple Hashing](https://dl.dropboxusercontent.com/u/3967849/sfmu2/_build/html/main.html#open-addressing-multiple-hashing)\n",
    "  * [Compact Dict](https://dl.dropboxusercontent.com/u/3967849/sfmu2/_build/html/main.html#compact-dict)\n",
    "  * [Key-Sharing Dict](https://dl.dropboxusercontent.com/u/3967849/sfmu2/_build/html/main.html#key-sharing-dict)\n",
    "\n",
    "\n",
    "* [Original Recipe for the Compact Dict](https://dl.dropboxusercontent.com/u/3967849/sfmu2/_build/html/recipe.html)\n",
    "\n",
    "**[SF CompactDict Talk](https://dl.dropboxusercontent.com/u/3967849/sfmu2/_build/html/index.html)\n",
    "* [Docs](https://dl.dropboxusercontent.com/u/3967849/sfmu2/_build/html/index.html) Âť\n",
    "* Evolution: A Half Dozen Good Ideas\n",
    "* \n",
    "\n",
    "# Evolution: A Half Dozen Good Ideas[Âś](https://dl.dropboxusercontent.com/u/3967849/sfmu2/_build/html/main.html#evolution-a-half-dozen-good-ideas)\n",
    "In the beginning, there were databases.Now, we have come full circle. With all our progress on dictionaries, weâve reinvented what was done with databases long ago.## Setup[Âś](https://dl.dropboxusercontent.com/u/3967849/sfmu2/_build/html/main.html#setup)\n",
    "Here is our sample data to store in our dictionaries."
   ]
  },
  {
   "cell_type": "code",
   "execution_count": null,
   "metadata": {
    "slideshow": {
     "slide_type": "subslide"
    }
   },
   "outputs": [],
   "source": [
    "from __future__ import division, print_function\n",
    "from pprint import pprint\n",
    "\n",
    "keys = 'guido sarah barry rachel tim'.split()\n",
    "values1 = 'blue orange green yellow red'.split()\n",
    "values2 = 'austin dallas tuscon reno portland'.split()\n",
    "values3 = 'apple banana orange pear peach'.split()\n",
    "hashes = list(map(abs, map(hash, keys)))\n",
    "entries = list(zip(hashes, keys, values1))\n",
    "comb_entries = list(zip(hashes, keys, values1, values2, values3))"
   ]
  },
  {
   "cell_type": "markdown",
   "metadata": {
    "slideshow": {
     "slide_type": "subslide"
    }
   },
   "source": [
    "## How a Database Would Do It[Âś](https://dl.dropboxusercontent.com/u/3967849/sfmu2/_build/html/main.html#how-a-database-would-do-it)\n",
    "The data is dense (no holes or over-allocations). And without an index, the search is linear."
   ]
  },
  {
   "cell_type": "code",
   "execution_count": null,
   "metadata": {
    "slideshow": {
     "slide_type": "subslide"
    }
   },
   "outputs": [],
   "source": [
    "def database_linear_search():\n",
    "    pprint(list(zip(keys, values1, values2, values3)))\n",
    "database_linear_search()"
   ]
  },
  {
   "cell_type": "markdown",
   "metadata": {
    "slideshow": {
     "slide_type": "subslide"
    }
   },
   "source": [
    "## How LISP Would Do It[Âś](https://dl.dropboxusercontent.com/u/3967849/sfmu2/_build/html/main.html#how-lisp-would-do-it)\n",
    "Store lists of pairs."
   ]
  },
  {
   "cell_type": "code",
   "execution_count": null,
   "metadata": {
    "slideshow": {
     "slide_type": "subslide"
    }
   },
   "outputs": [],
   "source": [
    "def association_lists():\n",
    "    pprint([\n",
    "        list(zip(keys, values1)),\n",
    "        list(zip(keys, values2)),\n",
    "        list(zip(keys, values3)),\n",
    "    ])\n",
    "association_lists()"
   ]
  },
  {
   "cell_type": "code",
   "execution_count": null,
   "metadata": {
    "slideshow": {
     "slide_type": "subslide"
    }
   },
   "outputs": [],
   "source": [
    "from __future__ import division, print_function\n",
    "from pprint import pprint\n",
    "\n",
    "keys = 'guido sarah barry rachel tim'.split()\n",
    "values1 = 'blue orange green yellow red'.split()\n",
    "values2 = 'austin dallas tuscon reno portland'.split()\n",
    "values3 = 'apple banana orange pear peach'.split()\n",
    "hashes = list(map(abs, map(hash, keys)))\n",
    "entries = list(zip(hashes, keys, values1))\n",
    "comb_entries = list(zip(hashes, keys, values1, values2, values3))"
   ]
  },
  {
   "cell_type": "markdown",
   "metadata": {
    "slideshow": {
     "slide_type": "subslide"
    }
   },
   "source": [
    "## Separate Chaining[Âś](https://dl.dropboxusercontent.com/u/3967849/sfmu2/_build/html/main.html#separate-chaining)\n",
    "Use multiple buckets to reduce the linear search by a constant factor."
   ]
  },
  {
   "cell_type": "code",
   "execution_count": null,
   "metadata": {
    "slideshow": {
     "slide_type": "subslide"
    }
   },
   "outputs": [],
   "source": [
    "def separate_chaining(n):\n",
    "    buckets = [[] for i in range(n)]\n",
    "    for pair in entries:\n",
    "        h, key, value = pair\n",
    "        i = h % n\n",
    "        buckets[i].append(pair)\n",
    "    pprint(buckets)\n",
    "separate_chaining(2)"
   ]
  },
  {
   "cell_type": "markdown",
   "metadata": {
    "slideshow": {
     "slide_type": "subslide"
    }
   },
   "source": [
    "Now, increase the number of buckets to minimize the load per bucket"
   ]
  },
  {
   "cell_type": "code",
   "execution_count": null,
   "metadata": {
    "slideshow": {
     "slide_type": "subslide"
    }
   },
   "outputs": [],
   "source": [
    "separate_chaining(4)"
   ]
  },
  {
   "cell_type": "code",
   "execution_count": null,
   "metadata": {
    "slideshow": {
     "slide_type": "subslide"
    }
   },
   "outputs": [],
   "source": [
    "separate_chaining(64)"
   ]
  },
  {
   "cell_type": "markdown",
   "metadata": {
    "slideshow": {
     "slide_type": "subslide"
    }
   },
   "source": [
    "## Open Addressing[Âś](https://dl.dropboxusercontent.com/u/3967849/sfmu2/_build/html/main.html#open-addressing)\n",
    "Make the table more dense. Reduce memory allocator demands. Cope with collisions using linear probing."
   ]
  },
  {
   "cell_type": "code",
   "execution_count": null,
   "metadata": {
    "slideshow": {
     "slide_type": "subslide"
    }
   },
   "outputs": [],
   "source": [
    "def open_addressing_linear(n):\n",
    "    table = [None] * n\n",
    "    for h, key, value in entries:\n",
    "        i = h % n\n",
    "        while table[i] is not None:\n",
    "            i = (i + 1) % n\n",
    "        table[i] = (key, value)\n",
    "    pprint(table)\n",
    "open_addressing_linear(8)"
   ]
  },
  {
   "cell_type": "code",
   "execution_count": null,
   "metadata": {
    "slideshow": {
     "slide_type": "subslide"
    }
   },
   "outputs": [],
   "source": [
    "'tim' collided with 'sarah'\n",
    "\n",
    "[('tim', 'red'),\n",
    " None,\n",
    " None,\n",
    " ('guido', 'blue'),\n",
    " ('rachel', 'yellow'),\n",
    " None,\n",
    " ('barry', 'green'),\n",
    " ('sarah', 'orange')]"
   ]
  },
  {
   "cell_type": "markdown",
   "metadata": {
    "slideshow": {
     "slide_type": "subslide"
    }
   },
   "source": [
    "Unfortunately, we can end up with catastrophic linear pile-up.\n",
    "\n",
    "## Open Addressing Multiple Hashing[Âś](https://dl.dropboxusercontent.com/u/3967849/sfmu2/_build/html/main.html#open-addressing-multiple-hashing)\n",
    "Use all the bits in the hash and use a linear congruential random number generator:  `i = 5 * i + 1` ."
   ]
  },
  {
   "cell_type": "code",
   "execution_count": null,
   "metadata": {
    "slideshow": {
     "slide_type": "subslide"
    }
   },
   "outputs": [],
   "source": [
    "def open_addressing_multihash(n):\n",
    "    table = [None] * n\n",
    "    for h, key, value in entries:\n",
    "        perturb = h\n",
    "        i = h % n\n",
    "        while table[i] is not None:\n",
    "            print('%r collided with %r' % (key, table[i][0]))\n",
    "            i = (5 * i + perturb + 1) % n\n",
    "            perturb >>= 5\n",
    "        table[i] = (key, value)\n",
    "    pprint(table)\n",
    "open_addressing_multihash(8)"
   ]
  },
  {
   "cell_type": "markdown",
   "metadata": {
    "slideshow": {
     "slide_type": "subslide"
    }
   },
   "source": [
    "Structure for  `open_addressing_multihash(8)` :"
   ]
  },
  {
   "cell_type": "code",
   "execution_count": null,
   "metadata": {
    "slideshow": {
     "slide_type": "subslide"
    }
   },
   "outputs": [],
   "source": [
    "[('guido', 'blue'),\n",
    " ('barry', 'green'),\n",
    " None,\n",
    " ('sarah', 'orange'),\n",
    " None,\n",
    " ('rachel', 'yellow'),\n",
    " None,\n",
    " ('tim', 'red')]"
   ]
  },
  {
   "cell_type": "markdown",
   "metadata": {
    "slideshow": {
     "slide_type": "subslide"
    }
   },
   "source": [
    "## Compact Dict[Âś](https://dl.dropboxusercontent.com/u/3967849/sfmu2/_build/html/main.html#compact-dict)"
   ]
  },
  {
   "cell_type": "code",
   "execution_count": null,
   "metadata": {
    "slideshow": {
     "slide_type": "subslide"
    }
   },
   "outputs": [],
   "source": [
    "from pprint import pprint\n",
    "def compact_and_ordered(n):\n",
    "    table = [None] * n\n",
    "    for pos, entry in enumerate(entries):\n",
    "        h = perturb = entry[0]\n",
    "        i = h % n\n",
    "        while table[i] is not None:\n",
    "            i = (5 * i + perturb + 1) % n\n",
    "            perturb >>= 5\n",
    "        table[i] = pos\n",
    "    pprint(entries)\n",
    "    pprint(table)\n",
    "compact_and_ordered(8)"
   ]
  },
  {
   "cell_type": "code",
   "execution_count": null,
   "metadata": {
    "slideshow": {
     "slide_type": "subslide"
    }
   },
   "outputs": [],
   "source": [
    "[(6364898718648353932, 'guido', 'blue'),\n",
    " (8146850377148353162, 'sarah', 'orange'),\n",
    " (3730114606205358136, 'barry', 'green'),\n",
    " (5787227010730992086, 'rachel', 'yellow'),\n",
    " (4052556540843850702, 'tim', 'red')]\n",
    "\n",
    "[2, None, 1, None, 0, 4, 3, None]"
   ]
  },
  {
   "cell_type": "markdown",
   "metadata": {
    "slideshow": {
     "slide_type": "subslide"
    }
   },
   "source": [
    "Note that the index row can be stored in *only 8 bytes!*\n",
    "\n",
    "## Key-Sharing Dict[Âś](https://dl.dropboxusercontent.com/u/3967849/sfmu2/_build/html/main.html#key-sharing-dict)"
   ]
  },
  {
   "cell_type": "code",
   "execution_count": null,
   "metadata": {
    "slideshow": {
     "slide_type": "subslide"
    }
   },
   "outputs": [],
   "source": [
    "def shared_and_compact(n):\n",
    "    'Compact, ordered, and shared'\n",
    "    table = [None] * n\n",
    "    for pos, entry in enumerate(comb_entries):\n",
    "        h = perturb = entry[0]\n",
    "        i = h % n\n",
    "        while table[i] is not None:\n",
    "            i = (5 * i + perturb + 1) % n\n",
    "            perturb >>= 5\n",
    "        table[i] = pos\n",
    "    pprint(comb_entries)\n",
    "    pprint(table)\n",
    "shared_and_compact(8)"
   ]
  },
  {
   "cell_type": "markdown",
   "metadata": {
    "slideshow": {
     "slide_type": "subslide"
    }
   },
   "source": [
    "Structure for  `shared_and_compact(8)` :"
   ]
  },
  {
   "cell_type": "code",
   "execution_count": null,
   "metadata": {
    "slideshow": {
     "slide_type": "subslide"
    }
   },
   "outputs": [],
   "source": [
    "[(6677572791034679612, 'guido', 'blue', 'austin', 'apple'),\n",
    " (47390428681895070, 'sarah', 'orange', 'dallas', 'banana'),\n",
    " (2331978697662116749, 'barry', 'green', 'tuscon', 'orange'),\n",
    " (8526267319998534994, 'rachel', 'yellow', 'reno', 'pear'),\n",
    " (8496579755646384579, 'tim', 'red', 'portland', 'peach')]\n",
    "\n",
    "[None, None, 3, 4, 0, 2, 1, None]"
   ]
  },
  {
   "cell_type": "markdown",
   "metadata": {
    "slideshow": {
     "slide_type": "subslide"
    }
   },
   "source": [
    "We can make the dict more sparse without moving any of the hash/key/value entries. The additional sparsity only costs 8 bytes and removes all hash collisions.Structure for  `shared_and_compact(16)` :"
   ]
  },
  {
   "cell_type": "code",
   "execution_count": null,
   "metadata": {
    "slideshow": {
     "slide_type": "subslide"
    }
   },
   "outputs": [],
   "source": [
    "[(8950500660299631846, 'guido', 'blue', 'austin', 'apple'),\n",
    " (7019358351072014995, 'sarah', 'orange', 'dallas', 'banana'),\n",
    " (1995312852666664056, 'barry', 'green', 'tuscon', 'orange'),\n",
    " (4597548128032042170, 'rachel', 'yellow', 'reno', 'pear'),\n",
    " (4703852761116776113, 'tim', 'red', 'portland', 'peach')]\n",
    "\n",
    "[None, 4, None, 1, None, None, 0, None, 2,\n",
    " None, 3, None, None, None, None, None]"
   ]
  },
  {
   "cell_type": "code",
   "execution_count": null,
   "metadata": {
    "slideshow": {
     "slide_type": "subslide"
    }
   },
   "outputs": [],
   "source": [
    "[\n",
    " [('guido', 'blue'),\n",
    "  ('sarah', 'orange'),\n",
    "  ('barry', 'green'),\n",
    "  ('rachel', 'yellow'),\n",
    "  ('tim', 'red')],\n",
    "\n",
    " [('guido', 'austin'),\n",
    "  ('sarah', 'dallas'),\n",
    "  ('barry', 'tuscon'),\n",
    "  ('rachel', 'reno'),\n",
    "  ('tim', 'portland')],\n",
    "\n",
    " [('guido', 'apple'),\n",
    "  ('sarah', 'banana'),\n",
    "  ('barry', 'orange'),\n",
    "  ('rachel', 'pear'),\n",
    "  ('tim', 'peach')]\n",
    "]"
   ]
  },
  {
   "cell_type": "markdown",
   "metadata": {
    "slideshow": {
     "slide_type": "subslide"
    }
   },
   "source": [
    "## Separate Chaining[Âś](https://dl.dropboxusercontent.com/u/3967849/sfmu2/_build/html/main.html#separate-chaining)\n",
    "Use multiple buckets to reduce the linear search by a constant factor."
   ]
  },
  {
   "cell_type": "code",
   "execution_count": null,
   "metadata": {
    "slideshow": {
     "slide_type": "subslide"
    }
   },
   "outputs": [],
   "source": [
    "def separate_chaining(n):\n",
    "    buckets = [[] for i in range(n)]\n",
    "    for pair in entries:\n",
    "        h, key, value = pair\n",
    "        i = h % n\n",
    "        buckets[i].append(pair)\n",
    "    pprint(buckets)"
   ]
  },
  {
   "cell_type": "markdown",
   "metadata": {
    "slideshow": {
     "slide_type": "subslide"
    }
   },
   "source": [
    "Structure for  `separate_chaining(2)` :"
   ]
  },
  {
   "cell_type": "code",
   "execution_count": null,
   "metadata": {
    "slideshow": {
     "slide_type": "subslide"
    }
   },
   "outputs": [],
   "source": [
    "[[(6215036966478546084, 'guido', 'blue'), (4479677532809613468, 'tim', 'red')],\n",
    " [(4804832058245445773, 'sarah', 'orange'),\n",
    "  (4918871212735566225, 'barry', 'green'),\n",
    "  (3888405571597596461, 'rachel', 'yellow')]]"
   ]
  },
  {
   "cell_type": "markdown",
   "metadata": {
    "slideshow": {
     "slide_type": "subslide"
    }
   },
   "source": [
    "Now, increase the number of buckets to minimize the load per bucket.Structure for  `separate_chaining(4)` :"
   ]
  },
  {
   "cell_type": "code",
   "execution_count": null,
   "metadata": {
    "slideshow": {
     "slide_type": "subslide"
    }
   },
   "outputs": [],
   "source": [
    "[[(740465451476449964, 'sarah', 'orange'),\n",
    "  (6563952149983567252, 'barry', 'green')],\n",
    " [(2674850863322665229, 'guido', 'blue')],\n",
    " [(6733213444731639838, 'tim', 'red')],\n",
    " [(4171839506434624039, 'rachel', 'yellow')]]"
   ]
  },
  {
   "cell_type": "markdown",
   "metadata": {
    "slideshow": {
     "slide_type": "subslide"
    }
   },
   "source": [
    "Further increase the number of buckets so that some buckets are empty and most of the others only have one entry per bucket.Structure for  `separate_chaining(8)` :"
   ]
  },
  {
   "cell_type": "code",
   "execution_count": null,
   "metadata": {
    "slideshow": {
     "slide_type": "subslide"
    }
   },
   "outputs": [],
   "source": [
    "[[],\n",
    " [(873286367057653889, 'barry', 'green')],\n",
    " [(1395608851306079410, 'sarah', 'orange')],\n",
    " [],\n",
    " [],\n",
    " [(2612508993932319405, 'guido', 'blue'),\n",
    "  (8886176438393677637, 'rachel', 'yellow')],\n",
    " [],\n",
    " [(38617469636359399, 'tim', 'red')]]"
   ]
  },
  {
   "cell_type": "markdown",
   "metadata": {
    "slideshow": {
     "slide_type": "subslide"
    }
   },
   "source": [
    "## Open Addressing[Âś](https://dl.dropboxusercontent.com/u/3967849/sfmu2/_build/html/main.html#open-addressing)\n",
    "Make the table more dense. Reduce memory allocator demands. Cope with collisions using linear probing."
   ]
  },
  {
   "cell_type": "code",
   "execution_count": null,
   "metadata": {
    "slideshow": {
     "slide_type": "subslide"
    }
   },
   "outputs": [],
   "source": [
    "def open_addressing_linear(n):\n",
    "    table = [None] * n\n",
    "    for h, key, value in entries:\n",
    "        i = h % n\n",
    "        while table[i] is not None:\n",
    "            i = (i + 1) % n\n",
    "        table[i] = (key, value)\n",
    "    pprint(table)"
   ]
  },
  {
   "cell_type": "markdown",
   "metadata": {
    "slideshow": {
     "slide_type": "subslide"
    }
   },
   "source": [
    "Structure for  `open_addressing_linear(8)` :"
   ]
  },
  {
   "cell_type": "code",
   "execution_count": null,
   "metadata": {
    "slideshow": {
     "slide_type": "subslide"
    }
   },
   "outputs": [],
   "source": [
    "'tim' collided with 'sarah'\n",
    "\n",
    "[('tim', 'red'),\n",
    " None,\n",
    " None,\n",
    " ('guido', 'blue'),\n",
    " ('rachel', 'yellow'),\n",
    " None,\n",
    " ('barry', 'green'),\n",
    " ('sarah', 'orange')]"
   ]
  },
  {
   "cell_type": "markdown",
   "metadata": {
    "slideshow": {
     "slide_type": "subslide"
    }
   },
   "source": [
    "Unfortunately, we can end up with catastrophic linear pile-up.## Open Addressing Multiple Hashing[Âś](https://dl.dropboxusercontent.com/u/3967849/sfmu2/_build/html/main.html#open-addressing-multiple-hashing)\n",
    "Use all the bits in the hash and use a linear congruential random number generator:  `i = 5 * i + 1` ."
   ]
  },
  {
   "cell_type": "code",
   "execution_count": null,
   "metadata": {
    "slideshow": {
     "slide_type": "subslide"
    }
   },
   "outputs": [],
   "source": [
    "def open_addressing_multihash(n):\n",
    "    table = [None] * n\n",
    "    for h, key, value in entries:\n",
    "        perturb = h\n",
    "        i = h % n\n",
    "        while table[i] is not None:\n",
    "            print('%r collided with %r' % (key, table[i][0]))\n",
    "            i = (5 * i + perturb + 1) % n\n",
    "            perturb >>= 5\n",
    "        table[i] = (key, value)\n",
    "    pprint(table)"
   ]
  },
  {
   "cell_type": "markdown",
   "metadata": {
    "slideshow": {
     "slide_type": "subslide"
    }
   },
   "source": [
    "Structure for  `open_addressing_multihash(8)` :"
   ]
  },
  {
   "cell_type": "code",
   "execution_count": null,
   "metadata": {
    "slideshow": {
     "slide_type": "subslide"
    }
   },
   "outputs": [],
   "source": [
    "'barry' collided with 'guido'\n",
    "'rachel' collided with 'guido'\n",
    "'rachel' collided with 'barry'\n",
    "'rachel' collided with 'guido'\n",
    "'tim' collided with 'rachel'\n",
    "\n",
    "[('guido', 'blue'),\n",
    " ('barry', 'green'),\n",
    " None,\n",
    " ('sarah', 'orange'),\n",
    " None,\n",
    " ('rachel', 'yellow'),\n",
    " None,\n",
    " ('tim', 'red')]"
   ]
  },
  {
   "cell_type": "markdown",
   "metadata": {
    "slideshow": {
     "slide_type": "subslide"
    }
   },
   "source": [
    "## Compact Dict[Âś](https://dl.dropboxusercontent.com/u/3967849/sfmu2/_build/html/main.html#compact-dict)"
   ]
  },
  {
   "cell_type": "code",
   "execution_count": null,
   "metadata": {
    "slideshow": {
     "slide_type": "subslide"
    }
   },
   "outputs": [],
   "source": [
    "def compact_and_ordered(n):\n",
    "    table = [None] * n\n",
    "    for pos, entry in enumerate(entries):\n",
    "        h = perturb = entry[0]\n",
    "        i = h % n\n",
    "        while table[i] is not None:\n",
    "            i = (5 * i + perturb + 1) % n\n",
    "            perturb >>= 5\n",
    "        table[i] = pos\n",
    "    pprint(entries)\n",
    "    pprint(table)"
   ]
  },
  {
   "cell_type": "markdown",
   "metadata": {
    "slideshow": {
     "slide_type": "subslide"
    }
   },
   "source": [
    "Structure for  `compact_and_ordered(8)` :"
   ]
  },
  {
   "cell_type": "code",
   "execution_count": null,
   "metadata": {
    "slideshow": {
     "slide_type": "subslide"
    }
   },
   "outputs": [],
   "source": [
    "[(6364898718648353932, 'guido', 'blue'),\n",
    " (8146850377148353162, 'sarah', 'orange'),\n",
    " (3730114606205358136, 'barry', 'green'),\n",
    " (5787227010730992086, 'rachel', 'yellow'),\n",
    " (4052556540843850702, 'tim', 'red')]\n",
    "\n",
    "[2, None, 1, None, 0, 4, 3, None]"
   ]
  },
  {
   "cell_type": "markdown",
   "metadata": {
    "slideshow": {
     "slide_type": "subslide"
    }
   },
   "source": [
    "Note that the index row can be stored in *only 8 bytes!*## Key-Sharing Dict[Âś](https://dl.dropboxusercontent.com/u/3967849/sfmu2/_build/html/main.html#key-sharing-dict)"
   ]
  },
  {
   "cell_type": "code",
   "execution_count": null,
   "metadata": {
    "slideshow": {
     "slide_type": "subslide"
    }
   },
   "outputs": [],
   "source": [
    "def shared_and_compact(n):\n",
    "    'Compact, ordered, and shared'\n",
    "    table = [None] * n\n",
    "    for pos, entry in enumerate(comb_entries):\n",
    "        h = perturb = entry[0]\n",
    "        i = h % n\n",
    "        while table[i] is not None:\n",
    "            i = (5 * i + perturb + 1) % n\n",
    "            perturb >>= 5\n",
    "        table[i] = pos\n",
    "    pprint(comb_entries)\n",
    "    pprint(table)"
   ]
  },
  {
   "cell_type": "markdown",
   "metadata": {
    "slideshow": {
     "slide_type": "subslide"
    }
   },
   "source": [
    "Structure for  `shared_and_compact(8)` :"
   ]
  },
  {
   "cell_type": "code",
   "execution_count": null,
   "metadata": {
    "slideshow": {
     "slide_type": "subslide"
    }
   },
   "outputs": [],
   "source": [
    "[(6677572791034679612, 'guido', 'blue', 'austin', 'apple'),\n",
    " (47390428681895070, 'sarah', 'orange', 'dallas', 'banana'),\n",
    " (2331978697662116749, 'barry', 'green', 'tuscon', 'orange'),\n",
    " (8526267319998534994, 'rachel', 'yellow', 'reno', 'pear'),\n",
    " (8496579755646384579, 'tim', 'red', 'portland', 'peach')]\n",
    "\n",
    "[None, None, 3, 4, 0, 2, 1, None]"
   ]
  },
  {
   "cell_type": "markdown",
   "metadata": {
    "slideshow": {
     "slide_type": "subslide"
    }
   },
   "source": [
    "We can make the dict more sparse without moving any of the hash/key/value entries. The additional sparsity only costs 8 bytes and removes all hash collisions.Structure for  `shared_and_compact(16)` :"
   ]
  },
  {
   "cell_type": "code",
   "execution_count": null,
   "metadata": {
    "slideshow": {
     "slide_type": "subslide"
    }
   },
   "outputs": [],
   "source": [
    "[(8950500660299631846, 'guido', 'blue', 'austin', 'apple'),\n",
    " (7019358351072014995, 'sarah', 'orange', 'dallas', 'banana'),\n",
    " (1995312852666664056, 'barry', 'green', 'tuscon', 'orange'),\n",
    " (4597548128032042170, 'rachel', 'yellow', 'reno', 'pear'),\n",
    " (4703852761116776113, 'tim', 'red', 'portland', 'peach')]\n",
    "\n",
    "[None, 4, None, 1, None, None, 0, None, 2,\n",
    " None, 3, None, None, None, None, None]"
   ]
  },
  {
   "cell_type": "markdown",
   "metadata": {
    "slideshow": {
     "slide_type": "subslide"
    }
   },
   "source": [
    "And now, weâve come full circle![Next ](https://dl.dropboxusercontent.com/u/3967849/sfmu2/_build/html/recipe.html)[ Previous](https://dl.dropboxusercontent.com/u/3967849/sfmu2/_build/html/goal.html) ÂŠ Copyright 2016, Raymond Hettinger. [Sphinx](http://sphinx-doc.org/)[theme](https://github.com/snide/sphinx_rtd_theme)[Read the Docs](https://readthedocs.org)"
   ]
  },
  {
   "cell_type": "markdown",
   "metadata": {
    "slideshow": {
     "slide_type": "subslide"
    }
   },
   "source": [
    "## Dictionary Size[Âś](https://dl.dropboxusercontent.com/u/3967849/sfmu2/_build/html/goal.html#dictionary-size)\n",
    "\n",
    "| **Version**  | **Dict Size**  | **Dict Ordering**  | **Notes**  |\n",
    "| --- | --- | --- | --- |\n",
    "| Python 2.7  | 280, 280, 280  | [âsarahâ, âbarryâ, ârachelâ, âtimâ, âguidoâ]  | Scrambled  |\n",
    "| Python 3.5  | 196, 196, 196  | dict\\_keys([âsarahâ, âtimâ, ârachelâ, âbarryâ, âguidoâ])  | Randomized  |\n",
    "| Python 3.6  | 112, 112, 112  | dict\\_keys([âguidoâ, âsarahâ, âbarryâ, ârachelâ, âtimâ])  | Ordered  |\n",
    "[Next ](https://dl.dropboxusercontent.com/u/3967849/sfmu2/_build/html/main.html)[ Previous](https://dl.dropboxusercontent.com/u/3967849/sfmu2/_build/html/index.html) ÂŠ Copyright 2016, Raymond Hettinger. [Sphinx](http://sphinx-doc.org/)[theme](https://github.com/snide/sphinx_rtd_theme)[Read the Docs](https://readthedocs.org)"
   ]
  },
  {
   "cell_type": "code",
   "execution_count": null,
   "metadata": {
    "slideshow": {
     "slide_type": "subslide"
    }
   },
   "outputs": [],
   "source": []
  },
  {
   "cell_type": "markdown",
   "metadata": {
    "slideshow": {
     "slide_type": "subslide"
    }
   },
   "source": [
    "[ SF CompactDict Talk ](https://dl.dropboxusercontent.com/u/3967849/sfmu2/_build/html/index.html) 1.0 \n",
    "* [Our Journey: The Beginning and the End](https://dl.dropboxusercontent.com/u/3967849/sfmu2/_build/html/goal.html#)\n",
    "  * [Instance Dictionaries](https://dl.dropboxusercontent.com/u/3967849/sfmu2/_build/html/goal.html#instance-dictionaries)\n",
    "  * [Contents of the Instance Dictionaries](https://dl.dropboxusercontent.com/u/3967849/sfmu2/_build/html/goal.html#contents-of-the-instance-dictionaries)\n",
    "  * [Dictionary Size](https://dl.dropboxusercontent.com/u/3967849/sfmu2/_build/html/goal.html#dictionary-size)\n",
    "\n",
    "\n",
    "* [Evolution: A Half Dozen Good Ideas](https://dl.dropboxusercontent.com/u/3967849/sfmu2/_build/html/main.html)\n",
    "* [Original Recipe for the Compact Dict](https://dl.dropboxusercontent.com/u/3967849/sfmu2/_build/html/recipe.html)\n",
    "\n",
    "**[SF CompactDict Talk](https://dl.dropboxusercontent.com/u/3967849/sfmu2/_build/html/index.html)\n",
    "* [Docs](https://dl.dropboxusercontent.com/u/3967849/sfmu2/_build/html/index.html) Âť\n",
    "* Our Journey: The Beginning and the End\n",
    "* \n",
    "\n",
    "# Our Journey: The Beginning and the End[Âś](https://dl.dropboxusercontent.com/u/3967849/sfmu2/_build/html/goal.html#our-journey-the-beginning-and-the-end)\n",
    "Python is built around dictionaries. The various namespaces include globals, locals, module dictionaries, class dictionaries, instance dictionaries.Of these, instance dictionaries are among the most prolific.## Instance Dictionaries[Âś](https://dl.dropboxusercontent.com/u/3967849/sfmu2/_build/html/goal.html#instance-dictionaries)\n",
    "Create a class to track user assignments with in a property category."
   ]
  },
  {
   "cell_type": "code",
   "execution_count": null,
   "metadata": {
    "slideshow": {
     "slide_type": "subslide"
    }
   },
   "outputs": [],
   "source": [
    "from __future__ import division, print_function\n",
    "import sys\n",
    "\n",
    "class UserProperty:\n",
    "    def __init__(self, v0, v1, v2, v3, v4):\n",
    "        self.guido = v0\n",
    "        self.sarah = v1\n",
    "        self.barry = v2\n",
    "        self.rachel = v3\n",
    "        self.tim = v4\n",
    "\n",
    "    def __repr__(self):\n",
    "        return 'UserProperty(%r, %r, %r, %r, %r)' \\\n",
    "               % (self.guido, self.sarah, self.barry, self.rachel, self.tim)\n",
    "\n",
    "colors = UserProperty('blue', 'orange', 'green', 'yellow', 'red')\n",
    "cities = UserProperty('austin', 'dallas', 'tuscon', 'reno', 'portland')\n",
    "fruits = UserProperty('apple', 'banana', 'orange', 'pear', 'peach')\n",
    "\n",
    "for user in [colors, cities, fruits]:\n",
    "    print(vars(user))\n",
    "\n",
    "print(list(map(sys.getsizeof, map(vars, [colors, cities, fruits]))))"
   ]
  },
  {
   "cell_type": "markdown",
   "metadata": {
    "slideshow": {
     "slide_type": "subslide"
    }
   },
   "source": [
    "## Contents of the Instance Dictionaries[Âś](https://dl.dropboxusercontent.com/u/3967849/sfmu2/_build/html/goal.html#contents-of-the-instance-dictionaries)\n",
    "The three instance dictionaries:"
   ]
  },
  {
   "cell_type": "code",
   "execution_count": null,
   "metadata": {
    "slideshow": {
     "slide_type": "subslide"
    }
   },
   "outputs": [],
   "source": [
    "{'guido': 'blue',\n",
    " 'sarah': 'orange',\n",
    " 'barry': 'green',\n",
    " 'rachel': 'yellow',\n",
    " 'tim': 'red'}\n",
    "\n",
    "{'guido': 'austin',\n",
    " 'sarah': 'dallas',\n",
    " 'barry': 'tuscon',\n",
    " 'rachel': 'reno',\n",
    " 'tim': 'portland'}\n",
    "\n",
    "{'guido': 'apple',\n",
    " 'sarah': 'banana',\n",
    " 'barry': 'orange',\n",
    " 'rachel': 'pear',\n",
    " 'tim': 'peach'}"
   ]
  },
  {
   "cell_type": "markdown",
   "metadata": {
    "slideshow": {
     "slide_type": "subslide"
    }
   },
   "source": [
    "## Dictionary Size[Âś](https://dl.dropboxusercontent.com/u/3967849/sfmu2/_build/html/goal.html#dictionary-size)\n",
    "\n",
    "| **Version**  | **Dict Size**  | **Dict Ordering**  | **Notes**  |\n",
    "| --- | --- | --- | --- |\n",
    "| Python 2.7  | 280, 280, 280  | [âsarahâ, âbarryâ, ârachelâ, âtimâ, âguidoâ]  | Scrambled  |\n",
    "| Python 3.5  | 196, 196, 196  | dict\\_keys([âsarahâ, âtimâ, ârachelâ, âbarryâ, âguidoâ])  | Randomized  |\n",
    "| Python 3.6  | 112, 112, 112  | dict\\_keys([âguidoâ, âsarahâ, âbarryâ, ârachelâ, âtimâ])  | Ordered  |"
   ]
  },
  {
   "cell_type": "code",
   "execution_count": null,
   "metadata": {
    "slideshow": {
     "slide_type": "subslide"
    }
   },
   "outputs": [],
   "source": []
  },
  {
   "cell_type": "code",
   "execution_count": null,
   "metadata": {
    "slideshow": {
     "slide_type": "skip"
    }
   },
   "outputs": [],
   "source": [
    "{ k.lower() : mcase.get(k.lower(), 0) + mcase.get(k.upper(), 0) for k in mcase.keys() }\n"
   ]
  },
  {
   "cell_type": "code",
   "execution_count": null,
   "metadata": {
    "slideshow": {
     "slide_type": "subslide"
    }
   },
   "outputs": [],
   "source": [
    "url = \"https://dl.dropboxusercontent.com/u/3967849/sfmu2/_build/html/main.html\"\n",
    "xpath = \"/html/body/*\"\n",
    "image_file = \"dict/\"\n",
    "\n",
    "insert_html_page(url, xpath, image_file).start()"
   ]
  },
  {
   "cell_type": "code",
   "execution_count": null,
   "metadata": {
    "slideshow": {
     "slide_type": "fragment"
    }
   },
   "outputs": [],
   "source": [
    "print(bits(-1))"
   ]
  },
  {
   "cell_type": "code",
   "execution_count": null,
   "metadata": {
    "slideshow": {
     "slide_type": "subslide"
    }
   },
   "outputs": [],
   "source": [
    "timeit('mylist[0]', 'mylist = [1] * 9000')"
   ]
  },
  {
   "cell_type": "code",
   "execution_count": null,
   "metadata": {
    "slideshow": {
     "slide_type": "fragment"
    }
   },
   "outputs": [],
   "source": [
    "timeit('mylist[7000]', 'mylist = [1] * 9000')"
   ]
  },
  {
   "cell_type": "code",
   "execution_count": null,
   "metadata": {
    "slideshow": {
     "slide_type": "subslide"
    }
   },
   "outputs": [],
   "source": []
  },
  {
   "cell_type": "code",
   "execution_count": null,
   "metadata": {
    "slideshow": {
     "slide_type": "subslide"
    }
   },
   "outputs": [],
   "source": [
    "url = \"https://dl.dropboxusercontent.com/u/3967849/sfmu2/_build/html/goal.html\"\n",
    "xpath = \"/html/body/*\"\n",
    "image_file = \"dict/\"\n",
    "\n",
    "insert_html_page(url, xpath, image_file).start()"
   ]
  },
  {
   "cell_type": "code",
   "execution_count": null,
   "metadata": {
    "slideshow": {
     "slide_type": "subslide"
    }
   },
   "outputs": [],
   "source": []
  },
  {
   "cell_type": "code",
   "execution_count": null,
   "metadata": {
    "slideshow": {
     "slide_type": "slide"
    }
   },
   "outputs": [],
   "source": [
    "print(mersenne(5))"
   ]
  },
  {
   "cell_type": "code",
   "execution_count": null,
   "metadata": {
    "slideshow": {
     "slide_type": "slide"
    }
   },
   "outputs": [],
   "source": [
    "def give_4():\n",
    "    return 4\n",
    "a = give_4()\n",
    "b = give_4\n",
    "print(a)\n",
    "print(b)\n",
    "a = b = 1\n",
    "dir(mersenne)"
   ]
  },
  {
   "cell_type": "code",
   "execution_count": null,
   "metadata": {
    "slideshow": {
     "slide_type": "slide"
    }
   },
   "outputs": [],
   "source": [
    "def print_hello():\n",
    "    print('hello')\n",
    "print_hello()"
   ]
  },
  {
   "cell_type": "code",
   "execution_count": null,
   "metadata": {
    "slideshow": {
     "slide_type": "slide"
    }
   },
   "outputs": [],
   "source": [
    "from datetime import datetime\n",
    "def print_now():\n",
    "    print(datetime.now())\n",
    "print_now()"
   ]
  },
  {
   "cell_type": "code",
   "execution_count": null,
   "metadata": {
    "slideshow": {
     "slide_type": "slide"
    }
   },
   "outputs": [],
   "source": [
    "options = {\n",
    "           '1': print_now(),\n",
    "           '2': print_hello()}\n",
    "opt1 = print_now\n",
    "answer=input()\n",
    "options[answer]()\n",
    "print(options[answer])"
   ]
  },
  {
   "cell_type": "code",
   "execution_count": null,
   "metadata": {
    "slideshow": {
     "slide_type": "slide"
    }
   },
   "outputs": [],
   "source": [
    "dir(1)"
   ]
  },
  {
   "cell_type": "code",
   "execution_count": null,
   "metadata": {
    "slideshow": {
     "slide_type": "slide"
    }
   },
   "outputs": [],
   "source": [
    "dir(print_hello)"
   ]
  },
  {
   "cell_type": "code",
   "execution_count": null,
   "metadata": {
    "slideshow": {
     "slide_type": "slide"
    }
   },
   "outputs": [],
   "source": [
    "import sys\n",
    "d={}\n",
    "print(sys.getsizeof(d))"
   ]
  },
  {
   "cell_type": "code",
   "execution_count": null,
   "metadata": {
    "slideshow": {
     "slide_type": "slide"
    }
   },
   "outputs": [],
   "source": [
    "a = 6\n",
    "print(id(a))\n",
    "a = ['a','b']\n",
    "print(id(a))\n",
    "b = a\n",
    "print(id(b))"
   ]
  },
  {
   "cell_type": "code",
   "execution_count": null,
   "metadata": {
    "slideshow": {
     "slide_type": "slide"
    }
   },
   "outputs": [],
   "source": [
    "{(1,2):'a',[3,4]:'b'}"
   ]
  },
  {
   "cell_type": "code",
   "execution_count": null,
   "metadata": {
    "slideshow": {
     "slide_type": "slide"
    }
   },
   "outputs": [],
   "source": [
    "one = 1\n",
    "li1 = [2,3]\n",
    "li2 = [5,6]\n",
    "tu = (one, li1)\n",
    "di = {tu:li2}"
   ]
  },
  {
   "cell_type": "code",
   "execution_count": null,
   "metadata": {
    "slideshow": {
     "slide_type": "slide"
    }
   },
   "outputs": [],
   "source": [
    "class MyListReprHash(list):\n",
    "    def __hash__(self):\n",
    "        return hash(str(self))\n",
    "print(str([1,2]))"
   ]
  },
  {
   "cell_type": "code",
   "execution_count": null,
   "metadata": {
    "slideshow": {
     "slide_type": "slide"
    }
   },
   "outputs": [],
   "source": [
    "a = MyListReprHash([1, 2, 3])\n",
    "b = MyListReprHash([1, 2, 3])\n",
    "di = {a: 42}\n",
    "li = list(di.keys())\n",
    "b_in_di = b in di.keys()\n",
    "b_in_li = b in li"
   ]
  },
  {
   "cell_type": "code",
   "execution_count": null,
   "metadata": {
    "slideshow": {
     "slide_type": "subslide"
    }
   },
   "outputs": [],
   "source": [
    "print(b in di)"
   ]
  },
  {
   "cell_type": "code",
   "execution_count": null,
   "metadata": {
    "slideshow": {
     "slide_type": "subslide"
    }
   },
   "outputs": [],
   "source": [
    "print(b in li)"
   ]
  },
  {
   "cell_type": "code",
   "execution_count": null,
   "metadata": {
    "slideshow": {
     "slide_type": "slide"
    }
   },
   "outputs": [],
   "source": [
    "a.append(4)\n",
    "a_in_di = a in di\n",
    "a_in_li = a in li"
   ]
  },
  {
   "cell_type": "code",
   "execution_count": null,
   "metadata": {
    "slideshow": {
     "slide_type": "subslide"
    }
   },
   "outputs": [],
   "source": [
    "print(a in di)"
   ]
  },
  {
   "cell_type": "code",
   "execution_count": null,
   "metadata": {
    "slideshow": {
     "slide_type": "subslide"
    }
   },
   "outputs": [],
   "source": [
    "print(b in li)"
   ]
  },
  {
   "cell_type": "code",
   "execution_count": null,
   "metadata": {},
   "outputs": [],
   "source": [
    "class MyListIdHash(list):\n",
    "    def __hash__(self):\n",
    "        return hash(id(self))\n"
   ]
  },
  {
   "cell_type": "code",
   "execution_count": null,
   "metadata": {
    "slideshow": {
     "slide_type": "slide"
    }
   },
   "outputs": [],
   "source": [
    "a = MyListIdHash([1, 2, 3])\n",
    "b = MyListIdHash([1, 2, 3])\n",
    "print(isinstance(a, list))\n",
    "print(isinstance(a, list))\n",
    "di = {a: 42}\n",
    "li = list(di.keys())\n",
    "b_in_di = b in di\n",
    "b_in_li = b in li"
   ]
  },
  {
   "cell_type": "code",
   "execution_count": null,
   "metadata": {
    "slideshow": {
     "slide_type": "subslide"
    }
   },
   "outputs": [],
   "source": [
    "print(b in di)"
   ]
  },
  {
   "cell_type": "code",
   "execution_count": null,
   "metadata": {
    "slideshow": {
     "slide_type": "subslide"
    }
   },
   "outputs": [],
   "source": [
    "print(b in li)"
   ]
  },
  {
   "cell_type": "code",
   "execution_count": null,
   "metadata": {
    "slideshow": {
     "slide_type": "slide"
    }
   },
   "outputs": [],
   "source": [
    "a.append(4)\n",
    "a_in_di = a in di\n",
    "a_in_li = a in li"
   ]
  },
  {
   "cell_type": "code",
   "execution_count": null,
   "metadata": {
    "slideshow": {
     "slide_type": "subslide"
    }
   },
   "outputs": [],
   "source": [
    "print(a in di)"
   ]
  },
  {
   "cell_type": "code",
   "execution_count": null,
   "metadata": {
    "slideshow": {
     "slide_type": "subslide"
    }
   },
   "outputs": [],
   "source": [
    "print(b in li)"
   ]
  },
  {
   "cell_type": "code",
   "execution_count": null,
   "metadata": {},
   "outputs": [],
   "source": [
    "class MyListReprHash(list):\n",
    "    def __hash__(self):\n",
    "        return hash(repr(self))\n",
    "r1 = MyListReprHash([1, 2, 3])\n",
    "r2 = MyListReprHash([1, 2, 3])\n",
    "dr = {r1: 'repr'}\n",
    "lr = list(dr.keys())\n",
    "print(r1 in dr, r2 in dr, r1 in lr, r2 in lr)\n",
    "r1.append(4)\n",
    "print(r1 in dr, r2 in dr, r1 in lr, r2 in lr)\n",
    "class MyListIdHash(list):\n",
    "    def __hash__(self):\n",
    "        return hash(id(self))\n",
    "i1 = MyListIdHash([1, 2, 3])\n",
    "i2 = MyListIdHash([1, 2, 3])\n",
    "di = {i1: 'repr'}\n",
    "li = list(di.keys())\n",
    "print(i1 in di, i2 in di, i1 in li, i2 in li)\n",
    "i1.append(4)\n",
    "print(i1 in di, i2 in di, i1 in li, i2 in li) \n"
   ]
  },
  {
   "cell_type": "markdown",
   "metadata": {
    "slideshow": {
     "slide_type": "slide"
    }
   },
   "source": [
    "[ SF CompactDict Talk ](https://dl.dropboxusercontent.com/u/3967849/sfmu2/_build/html/index.html) 1.0 \n",
    "* [Our Journey: The Beginning and the End](https://dl.dropboxusercontent.com/u/3967849/sfmu2/_build/html/goal.html#)\n",
    "  * [Instance Dictionaries](https://dl.dropboxusercontent.com/u/3967849/sfmu2/_build/html/goal.html#instance-dictionaries)\n",
    "  * [Contents of the Instance Dictionaries](https://dl.dropboxusercontent.com/u/3967849/sfmu2/_build/html/goal.html#contents-of-the-instance-dictionaries)\n",
    "  * [Dictionary Size](https://dl.dropboxusercontent.com/u/3967849/sfmu2/_build/html/goal.html#dictionary-size)\n",
    "\n",
    "\n",
    "* [Evolution: A Half Dozen Good Ideas](https://dl.dropboxusercontent.com/u/3967849/sfmu2/_build/html/main.html)\n",
    "* [Original Recipe for the Compact Dict](https://dl.dropboxusercontent.com/u/3967849/sfmu2/_build/html/recipe.html)\n",
    "\n",
    "**[SF CompactDict Talk](https://dl.dropboxusercontent.com/u/3967849/sfmu2/_build/html/index.html)\n",
    "* [Docs](https://dl.dropboxusercontent.com/u/3967849/sfmu2/_build/html/index.html) Âť\n",
    "* Our Journey: The Beginning and the End\n",
    "* \n",
    "\n",
    "# Our Journey: The Beginning and the End[Âś](https://dl.dropboxusercontent.com/u/3967849/sfmu2/_build/html/goal.html#our-journey-the-beginning-and-the-end)\n",
    "Python is built around dictionaries. The various namespaces include globals, locals, module dictionaries, class dictionaries, instance dictionaries.Of these, instance dictionaries are among the most prolific.## Instance Dictionaries[Âś](https://dl.dropboxusercontent.com/u/3967849/sfmu2/_build/html/goal.html#instance-dictionaries)\n",
    "Create a class to track user assignments with in a property category."
   ]
  },
  {
   "cell_type": "code",
   "execution_count": null,
   "metadata": {
    "slideshow": {
     "slide_type": "subslide"
    }
   },
   "outputs": [],
   "source": [
    "from __future__ import division, print_function\n",
    "import sys\n",
    "\n",
    "class UserProperty:\n",
    "    def __init__(self, v0, v1, v2, v3, v4):\n",
    "        self.guido = v0\n",
    "        self.sarah = v1\n",
    "        self.barry = v2\n",
    "        self.rachel = v3\n",
    "        self.tim = v4\n",
    "\n",
    "    def __repr__(self):\n",
    "        return 'UserProperty(%r, %r, %r, %r, %r)' \\\n",
    "               % (self.guido, self.sarah, self.barry, self.rachel, self.tim)\n",
    "\n",
    "colors = UserProperty('blue', 'orange', 'green', 'yellow', 'red')\n",
    "cities = UserProperty('austin', 'dallas', 'tuscon', 'reno', 'portland')\n",
    "fruits = UserProperty('apple', 'banana', 'orange', 'pear', 'peach')\n",
    "\n",
    "for user in [colors, cities, fruits]:\n",
    "    print(vars(user))\n",
    "\n",
    "print(list(map(sys.getsizeof, map(vars, [colors, cities, fruits]))))"
   ]
  },
  {
   "cell_type": "markdown",
   "metadata": {
    "slideshow": {
     "slide_type": "subslide"
    }
   },
   "source": [
    "## Contents of the Instance Dictionaries[Âś](https://dl.dropboxusercontent.com/u/3967849/sfmu2/_build/html/goal.html#contents-of-the-instance-dictionaries)\n",
    "The three instance dictionaries:"
   ]
  },
  {
   "cell_type": "code",
   "execution_count": null,
   "metadata": {
    "slideshow": {
     "slide_type": "subslide"
    }
   },
   "outputs": [],
   "source": [
    "{'guido': 'blue',\n",
    " 'sarah': 'orange',\n",
    " 'barry': 'green',\n",
    " 'rachel': 'yellow',\n",
    " 'tim': 'red'}\n",
    "\n",
    "{'guido': 'austin',\n",
    " 'sarah': 'dallas',\n",
    " 'barry': 'tuscon',\n",
    " 'rachel': 'reno',\n",
    " 'tim': 'portland'}\n",
    "\n",
    "{'guido': 'apple',\n",
    " 'sarah': 'banana',\n",
    " 'barry': 'orange',\n",
    " 'rachel': 'pear',\n",
    " 'tim': 'peach'}"
   ]
  },
  {
   "cell_type": "markdown",
   "metadata": {
    "slideshow": {
     "slide_type": "subslide"
    }
   },
   "source": [
    "[ SF CompactDict Talk ](https://dl.dropboxusercontent.com/u/3967849/sfmu2/_build/html/index.html) 1.0 \n",
    "* [Our Journey: The Beginning and the End](https://dl.dropboxusercontent.com/u/3967849/sfmu2/_build/html/goal.html)\n",
    "* [Evolution: A Half Dozen Good Ideas](https://dl.dropboxusercontent.com/u/3967849/sfmu2/_build/html/main.html#)\n",
    "  * [Setup](https://dl.dropboxusercontent.com/u/3967849/sfmu2/_build/html/main.html#setup)\n",
    "  * [How a Database Would Do It](https://dl.dropboxusercontent.com/u/3967849/sfmu2/_build/html/main.html#how-a-database-would-do-it)\n",
    "  * [How LISP Would Do It](https://dl.dropboxusercontent.com/u/3967849/sfmu2/_build/html/main.html#how-lisp-would-do-it)\n",
    "  * [Separate Chaining](https://dl.dropboxusercontent.com/u/3967849/sfmu2/_build/html/main.html#separate-chaining)\n",
    "  * [Open Addressing](https://dl.dropboxusercontent.com/u/3967849/sfmu2/_build/html/main.html#open-addressing)\n",
    "  * [Open Addressing Multiple Hashing](https://dl.dropboxusercontent.com/u/3967849/sfmu2/_build/html/main.html#open-addressing-multiple-hashing)\n",
    "  * [Compact Dict](https://dl.dropboxusercontent.com/u/3967849/sfmu2/_build/html/main.html#compact-dict)\n",
    "  * [Key-Sharing Dict](https://dl.dropboxusercontent.com/u/3967849/sfmu2/_build/html/main.html#key-sharing-dict)\n",
    "\n",
    "\n",
    "* [Original Recipe for the Compact Dict](https://dl.dropboxusercontent.com/u/3967849/sfmu2/_build/html/recipe.html)\n",
    "\n",
    "**[SF CompactDict Talk](https://dl.dropboxusercontent.com/u/3967849/sfmu2/_build/html/index.html)\n",
    "* [Docs](https://dl.dropboxusercontent.com/u/3967849/sfmu2/_build/html/index.html) Âť\n",
    "* Evolution: A Half Dozen Good Ideas\n",
    "* \n",
    "\n",
    "# Evolution: A Half Dozen Good Ideas[Âś](https://dl.dropboxusercontent.com/u/3967849/sfmu2/_build/html/main.html#evolution-a-half-dozen-good-ideas)\n",
    "In the beginning, there were databases.Now, we have come full circle. With all our progress on dictionaries, weâve reinvented what was done with databases long ago.## Setup[Âś](https://dl.dropboxusercontent.com/u/3967849/sfmu2/_build/html/main.html#setup)\n",
    "Here is our sample data to store in our dictionaries."
   ]
  },
  {
   "cell_type": "code",
   "execution_count": null,
   "metadata": {
    "slideshow": {
     "slide_type": "subslide"
    }
   },
   "outputs": [],
   "source": [
    "from __future__ import division, print_function\n",
    "from pprint import pprint\n",
    "\n",
    "keys = 'guido sarah barry rachel tim'.split()\n",
    "values1 = 'blue orange green yellow red'.split()\n",
    "values2 = 'austin dallas tuscon reno portland'.split()\n",
    "values3 = 'apple banana orange pear peach'.split()\n",
    "hashes = list(map(abs, map(hash, keys)))\n",
    "entries = list(zip(hashes, keys, values1))\n",
    "comb_entries = list(zip(hashes, keys, values1, values2, values3))"
   ]
  },
  {
   "cell_type": "markdown",
   "metadata": {
    "slideshow": {
     "slide_type": "subslide"
    }
   },
   "source": [
    "## How a Database Would Do It[Âś](https://dl.dropboxusercontent.com/u/3967849/sfmu2/_build/html/main.html#how-a-database-would-do-it)\n",
    "The data is dense (no holes or over-allocations). And without an index, the search is linear."
   ]
  },
  {
   "cell_type": "code",
   "execution_count": null,
   "metadata": {
    "slideshow": {
     "slide_type": "subslide"
    }
   },
   "outputs": [],
   "source": [
    "def database_linear_search():\n",
    "    pprint(list(zip(keys, values1, values2, values3)))\n",
    "database_linear_search()"
   ]
  },
  {
   "cell_type": "markdown",
   "metadata": {
    "slideshow": {
     "slide_type": "subslide"
    }
   },
   "source": [
    "## How LISP Would Do It[Âś](https://dl.dropboxusercontent.com/u/3967849/sfmu2/_build/html/main.html#how-lisp-would-do-it)\n",
    "Store lists of pairs."
   ]
  },
  {
   "cell_type": "code",
   "execution_count": null,
   "metadata": {
    "slideshow": {
     "slide_type": "subslide"
    }
   },
   "outputs": [],
   "source": [
    "def association_lists():\n",
    "    pprint([\n",
    "        list(zip(keys, values1)),\n",
    "        list(zip(keys, values2)),\n",
    "        list(zip(keys, values3)),\n",
    "    ])\n",
    "association_lists()"
   ]
  },
  {
   "cell_type": "code",
   "execution_count": null,
   "metadata": {
    "slideshow": {
     "slide_type": "subslide"
    }
   },
   "outputs": [],
   "source": [
    "from __future__ import division, print_function\n",
    "from pprint import pprint\n",
    "\n",
    "keys = 'guido sarah barry rachel tim'.split()\n",
    "values1 = 'blue orange green yellow red'.split()\n",
    "values2 = 'austin dallas tuscon reno portland'.split()\n",
    "values3 = 'apple banana orange pear peach'.split()\n",
    "hashes = list(map(abs, map(hash, keys)))\n",
    "entries = list(zip(hashes, keys, values1))\n",
    "comb_entries = list(zip(hashes, keys, values1, values2, values3))"
   ]
  },
  {
   "cell_type": "markdown",
   "metadata": {
    "slideshow": {
     "slide_type": "subslide"
    }
   },
   "source": [
    "## Separate Chaining[Âś](https://dl.dropboxusercontent.com/u/3967849/sfmu2/_build/html/main.html#separate-chaining)\n",
    "Use multiple buckets to reduce the linear search by a constant factor."
   ]
  },
  {
   "cell_type": "code",
   "execution_count": null,
   "metadata": {
    "slideshow": {
     "slide_type": "subslide"
    }
   },
   "outputs": [],
   "source": [
    "def separate_chaining(n):\n",
    "    buckets = [[] for i in range(n)]\n",
    "    for pair in entries:\n",
    "        h, key, value = pair\n",
    "        i = h % n\n",
    "        buckets[i].append(pair)\n",
    "    pprint(buckets)\n",
    "separate_chaining(2)"
   ]
  },
  {
   "cell_type": "markdown",
   "metadata": {
    "slideshow": {
     "slide_type": "subslide"
    }
   },
   "source": [
    "Now, increase the number of buckets to minimize the load per bucket"
   ]
  },
  {
   "cell_type": "code",
   "execution_count": null,
   "metadata": {
    "slideshow": {
     "slide_type": "subslide"
    }
   },
   "outputs": [],
   "source": [
    "separate_chaining(4)"
   ]
  },
  {
   "cell_type": "code",
   "execution_count": null,
   "metadata": {
    "slideshow": {
     "slide_type": "subslide"
    }
   },
   "outputs": [],
   "source": [
    "separate_chaining(64)"
   ]
  },
  {
   "cell_type": "markdown",
   "metadata": {
    "slideshow": {
     "slide_type": "subslide"
    }
   },
   "source": [
    "## Open Addressing[Âś](https://dl.dropboxusercontent.com/u/3967849/sfmu2/_build/html/main.html#open-addressing)\n",
    "Make the table more dense. Reduce memory allocator demands. Cope with collisions using linear probing."
   ]
  },
  {
   "cell_type": "code",
   "execution_count": null,
   "metadata": {
    "slideshow": {
     "slide_type": "subslide"
    }
   },
   "outputs": [],
   "source": [
    "def open_addressing_linear(n):\n",
    "    table = [None] * n\n",
    "    for h, key, value in entries:\n",
    "        i = h % n\n",
    "        while table[i] is not None:\n",
    "            i = (i + 1) % n\n",
    "        table[i] = (key, value)\n",
    "    pprint(table)\n",
    "open_addressing_linear(8)"
   ]
  },
  {
   "cell_type": "code",
   "execution_count": null,
   "metadata": {
    "slideshow": {
     "slide_type": "subslide"
    }
   },
   "outputs": [],
   "source": [
    "'tim' collided with 'sarah'\n",
    "\n",
    "[('tim', 'red'),\n",
    " None,\n",
    " None,\n",
    " ('guido', 'blue'),\n",
    " ('rachel', 'yellow'),\n",
    " None,\n",
    " ('barry', 'green'),\n",
    " ('sarah', 'orange')]"
   ]
  },
  {
   "cell_type": "markdown",
   "metadata": {
    "slideshow": {
     "slide_type": "subslide"
    }
   },
   "source": [
    "Unfortunately, we can end up with catastrophic linear pile-up.\n",
    "\n",
    "## Open Addressing Multiple Hashing[Âś](https://dl.dropboxusercontent.com/u/3967849/sfmu2/_build/html/main.html#open-addressing-multiple-hashing)\n",
    "Use all the bits in the hash and use a linear congruential random number generator:  `i = 5 * i + 1` ."
   ]
  },
  {
   "cell_type": "code",
   "execution_count": null,
   "metadata": {
    "slideshow": {
     "slide_type": "subslide"
    }
   },
   "outputs": [],
   "source": [
    "def open_addressing_multihash(n):\n",
    "    table = [None] * n\n",
    "    for h, key, value in entries:\n",
    "        perturb = h\n",
    "        i = h % n\n",
    "        while table[i] is not None:\n",
    "            print('%r collided with %r' % (key, table[i][0]))\n",
    "            i = (5 * i + perturb + 1) % n\n",
    "            perturb >>= 5\n",
    "        table[i] = (key, value)\n",
    "    pprint(table)\n",
    "open_addressing_multihash(8)"
   ]
  },
  {
   "cell_type": "markdown",
   "metadata": {
    "slideshow": {
     "slide_type": "subslide"
    }
   },
   "source": [
    "Structure for  `open_addressing_multihash(8)` :"
   ]
  },
  {
   "cell_type": "code",
   "execution_count": null,
   "metadata": {
    "slideshow": {
     "slide_type": "subslide"
    }
   },
   "outputs": [],
   "source": [
    "'barry' collided with 'guido'\n",
    "'rachel' collided with 'guido'\n",
    "'rachel' collided with 'barry'\n",
    "'rachel' collided with 'guido'\n",
    "'tim' collided with 'rachel'\n",
    "\n",
    "[('guido', 'blue'),\n",
    " ('barry', 'green'),\n",
    " None,\n",
    " ('sarah', 'orange'),\n",
    " None,\n",
    " ('rachel', 'yellow'),\n",
    " None,\n",
    " ('tim', 'red')]"
   ]
  },
  {
   "cell_type": "markdown",
   "metadata": {
    "slideshow": {
     "slide_type": "subslide"
    }
   },
   "source": [
    "## Compact Dict[Âś](https://dl.dropboxusercontent.com/u/3967849/sfmu2/_build/html/main.html#compact-dict)"
   ]
  },
  {
   "cell_type": "code",
   "execution_count": null,
   "metadata": {
    "slideshow": {
     "slide_type": "subslide"
    }
   },
   "outputs": [],
   "source": [
    "from pprint import pprint\n",
    "def compact_and_ordered(n):\n",
    "    table = [None] * n\n",
    "    for pos, entry in enumerate(entries):\n",
    "        h = perturb = entry[0]\n",
    "        i = h % n\n",
    "        while table[i] is not None:\n",
    "            i = (5 * i + perturb + 1) % n\n",
    "            perturb >>= 5\n",
    "        table[i] = pos\n",
    "    pprint(entries)\n",
    "    pprint(table)\n",
    "compact_and_ordered(8)"
   ]
  },
  {
   "cell_type": "code",
   "execution_count": null,
   "metadata": {
    "slideshow": {
     "slide_type": "subslide"
    }
   },
   "outputs": [],
   "source": [
    "[(6364898718648353932, 'guido', 'blue'),\n",
    " (8146850377148353162, 'sarah', 'orange'),\n",
    " (3730114606205358136, 'barry', 'green'),\n",
    " (5787227010730992086, 'rachel', 'yellow'),\n",
    " (4052556540843850702, 'tim', 'red')]\n",
    "\n",
    "[2, None, 1, None, 0, 4, 3, None]"
   ]
  },
  {
   "cell_type": "markdown",
   "metadata": {
    "slideshow": {
     "slide_type": "subslide"
    }
   },
   "source": [
    "Note that the index row can be stored in *only 8 bytes!*\n",
    "\n",
    "## Key-Sharing Dict[Âś](https://dl.dropboxusercontent.com/u/3967849/sfmu2/_build/html/main.html#key-sharing-dict)"
   ]
  },
  {
   "cell_type": "code",
   "execution_count": null,
   "metadata": {
    "slideshow": {
     "slide_type": "subslide"
    }
   },
   "outputs": [],
   "source": [
    "def shared_and_compact(n):\n",
    "    'Compact, ordered, and shared'\n",
    "    table = [None] * n\n",
    "    for pos, entry in enumerate(comb_entries):\n",
    "        h = perturb = entry[0]\n",
    "        i = h % n\n",
    "        while table[i] is not None:\n",
    "            i = (5 * i + perturb + 1) % n\n",
    "            perturb >>= 5\n",
    "        table[i] = pos\n",
    "    pprint(comb_entries)\n",
    "    pprint(table)\n",
    "shared_and_compact(8)"
   ]
  },
  {
   "cell_type": "markdown",
   "metadata": {
    "slideshow": {
     "slide_type": "subslide"
    }
   },
   "source": [
    "Structure for  `shared_and_compact(8)` :"
   ]
  },
  {
   "cell_type": "code",
   "execution_count": null,
   "metadata": {
    "slideshow": {
     "slide_type": "subslide"
    }
   },
   "outputs": [],
   "source": [
    "[(6677572791034679612, 'guido', 'blue', 'austin', 'apple'),\n",
    " (47390428681895070, 'sarah', 'orange', 'dallas', 'banana'),\n",
    " (2331978697662116749, 'barry', 'green', 'tuscon', 'orange'),\n",
    " (8526267319998534994, 'rachel', 'yellow', 'reno', 'pear'),\n",
    " (8496579755646384579, 'tim', 'red', 'portland', 'peach')]\n",
    "\n",
    "[None, None, 3, 4, 0, 2, 1, None]"
   ]
  },
  {
   "cell_type": "markdown",
   "metadata": {
    "slideshow": {
     "slide_type": "subslide"
    }
   },
   "source": [
    "We can make the dict more sparse without moving any of the hash/key/value entries. The additional sparsity only costs 8 bytes and removes all hash collisions.Structure for  `shared_and_compact(16)` :"
   ]
  },
  {
   "cell_type": "code",
   "execution_count": null,
   "metadata": {
    "slideshow": {
     "slide_type": "subslide"
    }
   },
   "outputs": [],
   "source": [
    "[(8950500660299631846, 'guido', 'blue', 'austin', 'apple'),\n",
    " (7019358351072014995, 'sarah', 'orange', 'dallas', 'banana'),\n",
    " (1995312852666664056, 'barry', 'green', 'tuscon', 'orange'),\n",
    " (4597548128032042170, 'rachel', 'yellow', 'reno', 'pear'),\n",
    " (4703852761116776113, 'tim', 'red', 'portland', 'peach')]\n",
    "\n",
    "[None, 4, None, 1, None, None, 0, None, 2,\n",
    " None, 3, None, None, None, None, None]"
   ]
  },
  {
   "cell_type": "code",
   "execution_count": null,
   "metadata": {
    "slideshow": {
     "slide_type": "subslide"
    }
   },
   "outputs": [],
   "source": [
    "[\n",
    " [('guido', 'blue'),\n",
    "  ('sarah', 'orange'),\n",
    "  ('barry', 'green'),\n",
    "  ('rachel', 'yellow'),\n",
    "  ('tim', 'red')],\n",
    "\n",
    " [('guido', 'austin'),\n",
    "  ('sarah', 'dallas'),\n",
    "  ('barry', 'tuscon'),\n",
    "  ('rachel', 'reno'),\n",
    "  ('tim', 'portland')],\n",
    "\n",
    " [('guido', 'apple'),\n",
    "  ('sarah', 'banana'),\n",
    "  ('barry', 'orange'),\n",
    "  ('rachel', 'pear'),\n",
    "  ('tim', 'peach')]\n",
    "]"
   ]
  },
  {
   "cell_type": "markdown",
   "metadata": {
    "slideshow": {
     "slide_type": "subslide"
    }
   },
   "source": [
    "## Separate Chaining[Âś](https://dl.dropboxusercontent.com/u/3967849/sfmu2/_build/html/main.html#separate-chaining)\n",
    "Use multiple buckets to reduce the linear search by a constant factor."
   ]
  },
  {
   "cell_type": "code",
   "execution_count": null,
   "metadata": {
    "slideshow": {
     "slide_type": "subslide"
    }
   },
   "outputs": [],
   "source": [
    "def separate_chaining(n):\n",
    "    buckets = [[] for i in range(n)]\n",
    "    for pair in entries:\n",
    "        h, key, value = pair\n",
    "        i = h % n\n",
    "        buckets[i].append(pair)\n",
    "    pprint(buckets)"
   ]
  },
  {
   "cell_type": "markdown",
   "metadata": {
    "slideshow": {
     "slide_type": "subslide"
    }
   },
   "source": [
    "Structure for  `separate_chaining(2)` :"
   ]
  },
  {
   "cell_type": "code",
   "execution_count": null,
   "metadata": {
    "slideshow": {
     "slide_type": "subslide"
    }
   },
   "outputs": [],
   "source": [
    "[[(6215036966478546084, 'guido', 'blue'), (4479677532809613468, 'tim', 'red')],\n",
    " [(4804832058245445773, 'sarah', 'orange'),\n",
    "  (4918871212735566225, 'barry', 'green'),\n",
    "  (3888405571597596461, 'rachel', 'yellow')]]"
   ]
  },
  {
   "cell_type": "markdown",
   "metadata": {
    "slideshow": {
     "slide_type": "subslide"
    }
   },
   "source": [
    "Now, increase the number of buckets to minimize the load per bucket.Structure for  `separate_chaining(4)` :"
   ]
  },
  {
   "cell_type": "code",
   "execution_count": null,
   "metadata": {
    "slideshow": {
     "slide_type": "subslide"
    }
   },
   "outputs": [],
   "source": [
    "[[(740465451476449964, 'sarah', 'orange'),\n",
    "  (6563952149983567252, 'barry', 'green')],\n",
    " [(2674850863322665229, 'guido', 'blue')],\n",
    " [(6733213444731639838, 'tim', 'red')],\n",
    " [(4171839506434624039, 'rachel', 'yellow')]]"
   ]
  },
  {
   "cell_type": "markdown",
   "metadata": {
    "slideshow": {
     "slide_type": "subslide"
    }
   },
   "source": [
    "Further increase the number of buckets so that some buckets are empty and most of the others only have one entry per bucket.Structure for  `separate_chaining(8)` :"
   ]
  },
  {
   "cell_type": "code",
   "execution_count": null,
   "metadata": {
    "slideshow": {
     "slide_type": "subslide"
    }
   },
   "outputs": [],
   "source": [
    "[[],\n",
    " [(873286367057653889, 'barry', 'green')],\n",
    " [(1395608851306079410, 'sarah', 'orange')],\n",
    " [],\n",
    " [],\n",
    " [(2612508993932319405, 'guido', 'blue'),\n",
    "  (8886176438393677637, 'rachel', 'yellow')],\n",
    " [],\n",
    " [(38617469636359399, 'tim', 'red')]]"
   ]
  },
  {
   "cell_type": "markdown",
   "metadata": {
    "slideshow": {
     "slide_type": "subslide"
    }
   },
   "source": [
    "## Open Addressing[Âś](https://dl.dropboxusercontent.com/u/3967849/sfmu2/_build/html/main.html#open-addressing)\n",
    "Make the table more dense. Reduce memory allocator demands. Cope with collisions using linear probing."
   ]
  },
  {
   "cell_type": "code",
   "execution_count": null,
   "metadata": {
    "slideshow": {
     "slide_type": "subslide"
    }
   },
   "outputs": [],
   "source": [
    "def open_addressing_linear(n):\n",
    "    table = [None] * n\n",
    "    for h, key, value in entries:\n",
    "        i = h % n\n",
    "        while table[i] is not None:\n",
    "            i = (i + 1) % n\n",
    "        table[i] = (key, value)\n",
    "    pprint(table)"
   ]
  },
  {
   "cell_type": "markdown",
   "metadata": {
    "slideshow": {
     "slide_type": "subslide"
    }
   },
   "source": [
    "Structure for  `open_addressing_linear(8)` :"
   ]
  },
  {
   "cell_type": "code",
   "execution_count": null,
   "metadata": {
    "slideshow": {
     "slide_type": "subslide"
    }
   },
   "outputs": [],
   "source": [
    "'tim' collided with 'sarah'\n",
    "\n",
    "[('tim', 'red'),\n",
    " None,\n",
    " None,\n",
    " ('guido', 'blue'),\n",
    " ('rachel', 'yellow'),\n",
    " None,\n",
    " ('barry', 'green'),\n",
    " ('sarah', 'orange')]"
   ]
  },
  {
   "cell_type": "markdown",
   "metadata": {
    "slideshow": {
     "slide_type": "subslide"
    }
   },
   "source": [
    "Unfortunately, we can end up with catastrophic linear pile-up.## Open Addressing Multiple Hashing[Âś](https://dl.dropboxusercontent.com/u/3967849/sfmu2/_build/html/main.html#open-addressing-multiple-hashing)\n",
    "Use all the bits in the hash and use a linear congruential random number generator:  `i = 5 * i + 1` ."
   ]
  },
  {
   "cell_type": "code",
   "execution_count": null,
   "metadata": {
    "slideshow": {
     "slide_type": "subslide"
    }
   },
   "outputs": [],
   "source": [
    "def open_addressing_multihash(n):\n",
    "    table = [None] * n\n",
    "    for h, key, value in entries:\n",
    "        perturb = h\n",
    "        i = h % n\n",
    "        while table[i] is not None:\n",
    "            print('%r collided with %r' % (key, table[i][0]))\n",
    "            i = (5 * i + perturb + 1) % n\n",
    "            perturb >>= 5\n",
    "        table[i] = (key, value)\n",
    "    pprint(table)"
   ]
  },
  {
   "cell_type": "markdown",
   "metadata": {
    "slideshow": {
     "slide_type": "subslide"
    }
   },
   "source": [
    "Structure for  `open_addressing_multihash(8)` :"
   ]
  },
  {
   "cell_type": "code",
   "execution_count": null,
   "metadata": {
    "slideshow": {
     "slide_type": "subslide"
    }
   },
   "outputs": [],
   "source": [
    "'barry' collided with 'guido'\n",
    "'rachel' collided with 'guido'\n",
    "'rachel' collided with 'barry'\n",
    "'rachel' collided with 'guido'\n",
    "'tim' collided with 'rachel'\n",
    "\n",
    "[('guido', 'blue'),\n",
    " ('barry', 'green'),\n",
    " None,\n",
    " ('sarah', 'orange'),\n",
    " None,\n",
    " ('rachel', 'yellow'),\n",
    " None,\n",
    " ('tim', 'red')]"
   ]
  },
  {
   "cell_type": "markdown",
   "metadata": {
    "slideshow": {
     "slide_type": "subslide"
    }
   },
   "source": [
    "## Compact Dict[Âś](https://dl.dropboxusercontent.com/u/3967849/sfmu2/_build/html/main.html#compact-dict)"
   ]
  },
  {
   "cell_type": "code",
   "execution_count": null,
   "metadata": {
    "slideshow": {
     "slide_type": "subslide"
    }
   },
   "outputs": [],
   "source": [
    "def compact_and_ordered(n):\n",
    "    table = [None] * n\n",
    "    for pos, entry in enumerate(entries):\n",
    "        h = perturb = entry[0]\n",
    "        i = h % n\n",
    "        while table[i] is not None:\n",
    "            i = (5 * i + perturb + 1) % n\n",
    "            perturb >>= 5\n",
    "        table[i] = pos\n",
    "    pprint(entries)\n",
    "    pprint(table)"
   ]
  },
  {
   "cell_type": "markdown",
   "metadata": {
    "slideshow": {
     "slide_type": "subslide"
    }
   },
   "source": [
    "Structure for  `compact_and_ordered(8)` :"
   ]
  },
  {
   "cell_type": "code",
   "execution_count": null,
   "metadata": {
    "slideshow": {
     "slide_type": "subslide"
    }
   },
   "outputs": [],
   "source": [
    "[(6364898718648353932, 'guido', 'blue'),\n",
    " (8146850377148353162, 'sarah', 'orange'),\n",
    " (3730114606205358136, 'barry', 'green'),\n",
    " (5787227010730992086, 'rachel', 'yellow'),\n",
    " (4052556540843850702, 'tim', 'red')]\n",
    "\n",
    "[2, None, 1, None, 0, 4, 3, None]"
   ]
  },
  {
   "cell_type": "markdown",
   "metadata": {
    "slideshow": {
     "slide_type": "subslide"
    }
   },
   "source": [
    "Note that the index row can be stored in *only 8 bytes!*## Key-Sharing Dict[Âś](https://dl.dropboxusercontent.com/u/3967849/sfmu2/_build/html/main.html#key-sharing-dict)"
   ]
  },
  {
   "cell_type": "code",
   "execution_count": null,
   "metadata": {
    "slideshow": {
     "slide_type": "subslide"
    }
   },
   "outputs": [],
   "source": [
    "def shared_and_compact(n):\n",
    "    'Compact, ordered, and shared'\n",
    "    table = [None] * n\n",
    "    for pos, entry in enumerate(comb_entries):\n",
    "        h = perturb = entry[0]\n",
    "        i = h % n\n",
    "        while table[i] is not None:\n",
    "            i = (5 * i + perturb + 1) % n\n",
    "            perturb >>= 5\n",
    "        table[i] = pos\n",
    "    pprint(comb_entries)\n",
    "    pprint(table)"
   ]
  },
  {
   "cell_type": "markdown",
   "metadata": {
    "slideshow": {
     "slide_type": "subslide"
    }
   },
   "source": [
    "Structure for  `shared_and_compact(8)` :"
   ]
  },
  {
   "cell_type": "code",
   "execution_count": null,
   "metadata": {
    "slideshow": {
     "slide_type": "subslide"
    }
   },
   "outputs": [],
   "source": [
    "[(6677572791034679612, 'guido', 'blue', 'austin', 'apple'),\n",
    " (47390428681895070, 'sarah', 'orange', 'dallas', 'banana'),\n",
    " (2331978697662116749, 'barry', 'green', 'tuscon', 'orange'),\n",
    " (8526267319998534994, 'rachel', 'yellow', 'reno', 'pear'),\n",
    " (8496579755646384579, 'tim', 'red', 'portland', 'peach')]\n",
    "\n",
    "[None, None, 3, 4, 0, 2, 1, None]"
   ]
  },
  {
   "cell_type": "markdown",
   "metadata": {
    "slideshow": {
     "slide_type": "subslide"
    }
   },
   "source": [
    "We can make the dict more sparse without moving any of the hash/key/value entries. The additional sparsity only costs 8 bytes and removes all hash collisions.Structure for  `shared_and_compact(16)` :"
   ]
  },
  {
   "cell_type": "code",
   "execution_count": null,
   "metadata": {
    "slideshow": {
     "slide_type": "subslide"
    }
   },
   "outputs": [],
   "source": [
    "[(8950500660299631846, 'guido', 'blue', 'austin', 'apple'),\n",
    " (7019358351072014995, 'sarah', 'orange', 'dallas', 'banana'),\n",
    " (1995312852666664056, 'barry', 'green', 'tuscon', 'orange'),\n",
    " (4597548128032042170, 'rachel', 'yellow', 'reno', 'pear'),\n",
    " (4703852761116776113, 'tim', 'red', 'portland', 'peach')]\n",
    "\n",
    "[None, 4, None, 1, None, None, 0, None, 2,\n",
    " None, 3, None, None, None, None, None]"
   ]
  },
  {
   "cell_type": "markdown",
   "metadata": {
    "slideshow": {
     "slide_type": "subslide"
    }
   },
   "source": [
    "And now, weâve come full circle![Next ](https://dl.dropboxusercontent.com/u/3967849/sfmu2/_build/html/recipe.html)[ Previous](https://dl.dropboxusercontent.com/u/3967849/sfmu2/_build/html/goal.html) ÂŠ Copyright 2016, Raymond Hettinger. [Sphinx](http://sphinx-doc.org/)[theme](https://github.com/snide/sphinx_rtd_theme)[Read the Docs](https://readthedocs.org)"
   ]
  },
  {
   "cell_type": "markdown",
   "metadata": {
    "slideshow": {
     "slide_type": "subslide"
    }
   },
   "source": [
    "## Dictionary Size[Âś](https://dl.dropboxusercontent.com/u/3967849/sfmu2/_build/html/goal.html#dictionary-size)\n",
    "\n",
    "| **Version**  | **Dict Size**  | **Dict Ordering**  | **Notes**  |\n",
    "| --- | --- | --- | --- |\n",
    "| Python 2.7  | 280, 280, 280  | [âsarahâ, âbarryâ, ârachelâ, âtimâ, âguidoâ]  | Scrambled  |\n",
    "| Python 3.5  | 196, 196, 196  | dict\\_keys([âsarahâ, âtimâ, ârachelâ, âbarryâ, âguidoâ])  | Randomized  |\n",
    "| Python 3.6  | 112, 112, 112  | dict\\_keys([âguidoâ, âsarahâ, âbarryâ, ârachelâ, âtimâ])  | Ordered  |\n",
    "[Next ](https://dl.dropboxusercontent.com/u/3967849/sfmu2/_build/html/main.html)[ Previous](https://dl.dropboxusercontent.com/u/3967849/sfmu2/_build/html/index.html) ÂŠ Copyright 2016, Raymond Hettinger. [Sphinx](http://sphinx-doc.org/)[theme](https://github.com/snide/sphinx_rtd_theme)[Read the Docs](https://readthedocs.org)"
   ]
  },
  {
   "cell_type": "code",
   "execution_count": null,
   "metadata": {
    "slideshow": {
     "slide_type": "subslide"
    }
   },
   "outputs": [],
   "source": []
  },
  {
   "cell_type": "markdown",
   "metadata": {
    "slideshow": {
     "slide_type": "subslide"
    }
   },
   "source": [
    "[ SF CompactDict Talk ](https://dl.dropboxusercontent.com/u/3967849/sfmu2/_build/html/index.html) 1.0 \n",
    "* [Our Journey: The Beginning and the End](https://dl.dropboxusercontent.com/u/3967849/sfmu2/_build/html/goal.html#)\n",
    "  * [Instance Dictionaries](https://dl.dropboxusercontent.com/u/3967849/sfmu2/_build/html/goal.html#instance-dictionaries)\n",
    "  * [Contents of the Instance Dictionaries](https://dl.dropboxusercontent.com/u/3967849/sfmu2/_build/html/goal.html#contents-of-the-instance-dictionaries)\n",
    "  * [Dictionary Size](https://dl.dropboxusercontent.com/u/3967849/sfmu2/_build/html/goal.html#dictionary-size)\n",
    "\n",
    "\n",
    "* [Evolution: A Half Dozen Good Ideas](https://dl.dropboxusercontent.com/u/3967849/sfmu2/_build/html/main.html)\n",
    "* [Original Recipe for the Compact Dict](https://dl.dropboxusercontent.com/u/3967849/sfmu2/_build/html/recipe.html)\n",
    "\n",
    "**[SF CompactDict Talk](https://dl.dropboxusercontent.com/u/3967849/sfmu2/_build/html/index.html)\n",
    "* [Docs](https://dl.dropboxusercontent.com/u/3967849/sfmu2/_build/html/index.html) Âť\n",
    "* Our Journey: The Beginning and the End\n",
    "* \n",
    "\n",
    "# Our Journey: The Beginning and the End[Âś](https://dl.dropboxusercontent.com/u/3967849/sfmu2/_build/html/goal.html#our-journey-the-beginning-and-the-end)\n",
    "Python is built around dictionaries. The various namespaces include globals, locals, module dictionaries, class dictionaries, instance dictionaries.Of these, instance dictionaries are among the most prolific.## Instance Dictionaries[Âś](https://dl.dropboxusercontent.com/u/3967849/sfmu2/_build/html/goal.html#instance-dictionaries)\n",
    "Create a class to track user assignments with in a property category."
   ]
  },
  {
   "cell_type": "code",
   "execution_count": null,
   "metadata": {
    "slideshow": {
     "slide_type": "subslide"
    }
   },
   "outputs": [],
   "source": [
    "from __future__ import division, print_function\n",
    "import sys\n",
    "\n",
    "class UserProperty:\n",
    "    def __init__(self, v0, v1, v2, v3, v4):\n",
    "        self.guido = v0\n",
    "        self.sarah = v1\n",
    "        self.barry = v2\n",
    "        self.rachel = v3\n",
    "        self.tim = v4\n",
    "\n",
    "    def __repr__(self):\n",
    "        return 'UserProperty(%r, %r, %r, %r, %r)' \\\n",
    "               % (self.guido, self.sarah, self.barry, self.rachel, self.tim)\n",
    "\n",
    "colors = UserProperty('blue', 'orange', 'green', 'yellow', 'red')\n",
    "cities = UserProperty('austin', 'dallas', 'tuscon', 'reno', 'portland')\n",
    "fruits = UserProperty('apple', 'banana', 'orange', 'pear', 'peach')\n",
    "\n",
    "for user in [colors, cities, fruits]:\n",
    "    print(vars(user))\n",
    "\n",
    "print(list(map(sys.getsizeof, map(vars, [colors, cities, fruits]))))"
   ]
  },
  {
   "cell_type": "markdown",
   "metadata": {
    "slideshow": {
     "slide_type": "subslide"
    }
   },
   "source": [
    "## Contents of the Instance Dictionaries[Âś](https://dl.dropboxusercontent.com/u/3967849/sfmu2/_build/html/goal.html#contents-of-the-instance-dictionaries)\n",
    "The three instance dictionaries:"
   ]
  },
  {
   "cell_type": "code",
   "execution_count": null,
   "metadata": {
    "slideshow": {
     "slide_type": "subslide"
    }
   },
   "outputs": [],
   "source": [
    "{'guido': 'blue',\n",
    " 'sarah': 'orange',\n",
    " 'barry': 'green',\n",
    " 'rachel': 'yellow',\n",
    " 'tim': 'red'}\n",
    "\n",
    "{'guido': 'austin',\n",
    " 'sarah': 'dallas',\n",
    " 'barry': 'tuscon',\n",
    " 'rachel': 'reno',\n",
    " 'tim': 'portland'}\n",
    "\n",
    "{'guido': 'apple',\n",
    " 'sarah': 'banana',\n",
    " 'barry': 'orange',\n",
    " 'rachel': 'pear',\n",
    " 'tim': 'peach'}"
   ]
  },
  {
   "cell_type": "markdown",
   "metadata": {
    "slideshow": {
     "slide_type": "subslide"
    }
   },
   "source": [
    "## Dictionary Size[Âś](https://dl.dropboxusercontent.com/u/3967849/sfmu2/_build/html/goal.html#dictionary-size)\n",
    "\n",
    "| **Version**  | **Dict Size**  | **Dict Ordering**  | **Notes**  |\n",
    "| --- | --- | --- | --- |\n",
    "| Python 2.7  | 280, 280, 280  | [âsarahâ, âbarryâ, ârachelâ, âtimâ, âguidoâ]  | Scrambled  |\n",
    "| Python 3.5  | 196, 196, 196  | dict\\_keys([âsarahâ, âtimâ, ârachelâ, âbarryâ, âguidoâ])  | Randomized  |\n",
    "| Python 3.6  | 112, 112, 112  | dict\\_keys([âguidoâ, âsarahâ, âbarryâ, ârachelâ, âtimâ])  | Ordered  |"
   ]
  },
  {
   "cell_type": "code",
   "execution_count": null,
   "metadata": {
    "slideshow": {
     "slide_type": "subslide"
    }
   },
   "outputs": [],
   "source": []
  },
  {
   "cell_type": "code",
   "execution_count": null,
   "metadata": {
    "slideshow": {
     "slide_type": "subslide"
    }
   },
   "outputs": [],
   "source": [
    "url = \"https://dl.dropboxusercontent.com/u/3967849/sfmu2/_build/html/main.html\"\n",
    "xpath = \"/html/body/*\"\n",
    "image_file = \"dict/\"\n",
    "\n",
    "insert_html_page(url, xpath, image_file).start()"
   ]
  },
  {
   "cell_type": "code",
   "execution_count": null,
   "metadata": {
    "slideshow": {
     "slide_type": "fragment"
    }
   },
   "outputs": [],
   "source": [
    "print(bits(-1))"
   ]
  },
  {
   "cell_type": "code",
   "execution_count": null,
   "metadata": {
    "slideshow": {
     "slide_type": "subslide"
    }
   },
   "outputs": [],
   "source": [
    "timeit('mylist[0]', 'mylist = [1] * 9000')"
   ]
  },
  {
   "cell_type": "code",
   "execution_count": null,
   "metadata": {
    "slideshow": {
     "slide_type": "fragment"
    }
   },
   "outputs": [],
   "source": [
    "timeit('mylist[7000]', 'mylist = [1] * 9000')"
   ]
  },
  {
   "cell_type": "code",
   "execution_count": null,
   "metadata": {
    "slideshow": {
     "slide_type": "subslide"
    }
   },
   "outputs": [],
   "source": []
  },
  {
   "cell_type": "code",
   "execution_count": null,
   "metadata": {
    "slideshow": {
     "slide_type": "subslide"
    }
   },
   "outputs": [],
   "source": [
    "url = \"https://dl.dropboxusercontent.com/u/3967849/sfmu2/_build/html/goal.html\"\n",
    "xpath = \"/html/body/*\"\n",
    "image_file = \"dict/\"\n",
    "\n",
    "insert_html_page(url, xpath, image_file).start()"
   ]
  },
  {
   "cell_type": "code",
   "execution_count": null,
   "metadata": {
    "slideshow": {
     "slide_type": "subslide"
    }
   },
   "outputs": [],
   "source": []
  },
  {
   "cell_type": "markdown",
   "metadata": {
    "slideshow": {
     "slide_type": "slide"
    }
   },
   "source": [
    "## Next lecture\n",
    "- http://dailytechvideo.com/video-227-brett-slatkin-how-to-be-more-effective-with-functions/\n",
    "- https://www.youtube.com/watch?v=HTLu2DFOdTg\n"
   ]
  }
 ],
 "metadata": {
  "anaconda-cloud": {},
  "celltoolbar": "Slideshow",
  "kernelspec": {
   "display_name": "Python 3",
   "language": "python",
   "name": "python3"
  },
  "language_info": {
   "codemirror_mode": {
    "name": "ipython",
    "version": 3
   },
   "file_extension": ".py",
   "mimetype": "text/x-python",
   "name": "python",
   "nbconvert_exporter": "python",
   "pygments_lexer": "ipython3",
   "version": "3.6.7"
  },
  "livereveal": {
   "controls": true,
   "height": 855,
   "history": true,
   "minScale": 1,
   "progress": true,
   "scroll": false,
   "slideNumber": true,
   "start_slideshow_at": "selected",
   "theme": "simple",
   "transition": "linear",
   "width": 1140
  }
 },
 "nbformat": 4,
 "nbformat_minor": 1
}
