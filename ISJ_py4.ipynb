{
 "cells": [
  {
   "cell_type": "markdown",
   "metadata": {
    "slideshow": {
     "slide_type": "slide"
    }
   },
   "source": [
    "# Nested Statements and Scope "
   ]
  },
  {
   "cell_type": "code",
   "execution_count": null,
   "metadata": {
    "slideshow": {
     "slide_type": "subslide"
    }
   },
   "outputs": [],
   "source": [
    "vnitrni_uzel = 4\n",
    "list = 5\n",
    "pozice = [1,2,3,1,2,1,1]\n",
    "unikatni = set(pozice)\n",
    "print(unikatni)\n",
    "unikatni_seznam = list(unikatni)"
   ]
  },
  {
   "cell_type": "markdown",
   "metadata": {
    "slideshow": {
     "slide_type": "subslide"
    }
   },
   "source": [
    "When you create a name in Python the name is stored in a *namespace*\n",
    "\n",
    "Names also have a *scope*, the scope determines the visbility of that variable name to other parts of the code"
   ]
  },
  {
   "cell_type": "code",
   "execution_count": null,
   "metadata": {
    "slideshow": {
     "slide_type": "subslide"
    }
   },
   "outputs": [],
   "source": [
    "x = 25\n",
    "\n",
    "def printer():\n",
    "    x = 50\n",
    "    return x\n",
    "\n",
    "print(x)\n",
    "print(printer())"
   ]
  },
  {
   "cell_type": "markdown",
   "metadata": {
    "slideshow": {
     "slide_type": "subslide"
    }
   },
   "source": [
    "Interesting! But how does Python know which **x** you're referring to in your code?\n",
    "\n",
    "This is where the idea of scope comes in"
   ]
  },
  {
   "cell_type": "markdown",
   "metadata": {
    "slideshow": {
     "slide_type": "subslide"
    }
   },
   "source": [
    "Python has a set of rules it follows to decide what names (such as x in this case) you are refrencing in your code"
   ]
  },
  {
   "cell_type": "markdown",
   "metadata": {
    "slideshow": {
     "slide_type": "subslide"
    }
   },
   "source": [
    "This idea of scope in your code is very important to understand in order to properly assign and call variable names. \n",
    "\n",
    "In simple terms, the idea of scope can be described by three general rules:"
   ]
  },
  {
   "cell_type": "markdown",
   "metadata": {
    "slideshow": {
     "slide_type": "subslide"
    }
   },
   "source": [
    "1. Name assignments will create or change local names by default.\n",
    "2. Name references search (at most) four scopes, these are:\n",
    "    * local\n",
    "    * enclosing functions\n",
    "    * global\n",
    "    * built-in\n",
    "3. Names declared in global and nonlocal statements map assigned names to enclosing module and function scopes."
   ]
  },
  {
   "cell_type": "markdown",
   "metadata": {
    "slideshow": {
     "slide_type": "subslide"
    }
   },
   "source": [
    "The statement in #2 above can be defined by the LEGB rule.\n",
    "\n",
    "**LEGB Rule.**"
   ]
  },
  {
   "cell_type": "markdown",
   "metadata": {
    "slideshow": {
     "slide_type": "subslide"
    }
   },
   "source": [
    "L: Local â Names assigned in any way within a function (def or lambda)), and not declared global in that function."
   ]
  },
  {
   "cell_type": "markdown",
   "metadata": {
    "slideshow": {
     "slide_type": "subslide"
    }
   },
   "source": [
    "E: Enclosing function locals â Name in the local scope of any and all enclosing functions (def or lambda), from inner to outer."
   ]
  },
  {
   "cell_type": "markdown",
   "metadata": {
    "slideshow": {
     "slide_type": "subslide"
    }
   },
   "source": [
    "G: Global (module) â Names assigned at the top-level of a module file, or declared global in a def within the file."
   ]
  },
  {
   "cell_type": "markdown",
   "metadata": {
    "collapsed": true,
    "slideshow": {
     "slide_type": "subslide"
    }
   },
   "source": [
    "B: Built-in (Python) â Names preassigned in the built-in names module : open,range,SyntaxError,..."
   ]
  },
  {
   "cell_type": "markdown",
   "metadata": {
    "slideshow": {
     "slide_type": "subslide"
    }
   },
   "source": [
    "## Quick examples of LEGB\n",
    "\n",
    "### Local"
   ]
  },
  {
   "cell_type": "code",
   "execution_count": null,
   "metadata": {
    "slideshow": {
     "slide_type": "subslide"
    }
   },
   "outputs": [],
   "source": [
    "# x is local here:\n",
    "def my_func(a_param):\n",
    "    x = a_param + a_param"
   ]
  },
  {
   "cell_type": "markdown",
   "metadata": {
    "slideshow": {
     "slide_type": "subslide"
    }
   },
   "source": [
    "### Enclosing function locals\n",
    "This occurs when we have a function inside a function (nested functions)\n"
   ]
  },
  {
   "cell_type": "code",
   "execution_count": null,
   "metadata": {
    "slideshow": {
     "slide_type": "subslide"
    }
   },
   "outputs": [],
   "source": [
    "name = 'This is a global name'\n",
    "\n",
    "def greet():\n",
    "    # Enclosing function\n",
    "    name = 'Sammy'\n",
    "    \n",
    "    def hello():\n",
    "        print('Hello '+name)\n",
    "    \n",
    "    hello()\n",
    "\n",
    "greet()"
   ]
  },
  {
   "cell_type": "markdown",
   "metadata": {
    "slideshow": {
     "slide_type": "subslide"
    }
   },
   "source": [
    "Note how Sammy was used, because the hello() function was enclosed inside of the greet function!"
   ]
  },
  {
   "cell_type": "markdown",
   "metadata": {
    "slideshow": {
     "slide_type": "subslide"
    }
   },
   "source": [
    "### Global\n",
    "Luckily in Jupyter a quick way to test for global variables is to see if another cell recognizes the variable!"
   ]
  },
  {
   "cell_type": "code",
   "execution_count": null,
   "metadata": {
    "slideshow": {
     "slide_type": "subslide"
    }
   },
   "outputs": [],
   "source": [
    "print(name)"
   ]
  },
  {
   "cell_type": "markdown",
   "metadata": {
    "slideshow": {
     "slide_type": "subslide"
    }
   },
   "source": [
    "### Built-in\n",
    "These are the built-in function names in Python (don't overwrite these!)"
   ]
  },
  {
   "cell_type": "code",
   "execution_count": null,
   "metadata": {
    "slideshow": {
     "slide_type": "subslide"
    }
   },
   "outputs": [],
   "source": [
    "len"
   ]
  },
  {
   "cell_type": "markdown",
   "metadata": {
    "slideshow": {
     "slide_type": "subslide"
    }
   },
   "source": [
    "## Local Variables\n",
    "When you declare variables inside a function definition, they are not related in any way to other variables with the same names used outside the function - i.e. variable names are local to the function. This is called the scope of the variable. All variables have the scope of the block they are declared in starting from the point of definition of the name.\n",
    "\n",
    "Example:"
   ]
  },
  {
   "cell_type": "code",
   "execution_count": null,
   "metadata": {
    "slideshow": {
     "slide_type": "subslide"
    }
   },
   "outputs": [],
   "source": [
    "x = 50\n",
    "\n",
    "def func(x):\n",
    "    print('x is', x)\n",
    "    x = 2\n",
    "    print('Changed local x to', x)\n",
    "\n",
    "func(x)\n",
    "print('x is still', x)"
   ]
  },
  {
   "cell_type": "code",
   "execution_count": null,
   "metadata": {
    "slideshow": {
     "slide_type": "subslide"
    }
   },
   "outputs": [],
   "source": [
    "x = 50\n",
    "\n",
    "def func():\n",
    "    global x\n",
    "    print('This function is now using the global x!')\n",
    "    print('Because of global x is: ', x)\n",
    "    x = 2\n",
    "    print('Ran func(), changed global x to', x)\n",
    "\n",
    "print('Before calling func(), x is: ', x)\n",
    "func()\n",
    "print('Value of x (outside of func()) is: ', x)"
   ]
  },
  {
   "cell_type": "markdown",
   "metadata": {
    "collapsed": true,
    "slideshow": {
     "slide_type": "subslide"
    }
   },
   "source": [
    "The global statement is used to declare that x is a global variable - hence, when we assign a value to x inside the function, that change is reflected when we use the value of x in the main block.\n",
    "\n",
    "You can specify more than one global variable using the same global statement e.g. global x, y, z."
   ]
  },
  {
   "cell_type": "markdown",
   "metadata": {
    "slideshow": {
     "slide_type": "slide"
    }
   },
   "source": [
    "# Object Oriented Programming"
   ]
  },
  {
   "cell_type": "markdown",
   "metadata": {
    "collapsed": true,
    "slideshow": {
     "slide_type": "slide"
    }
   },
   "source": [
    "Object-oriented programming (OOP) is a programming paradigm based on the concept of **objects**, which may contain state (data) and behavior (code)\n",
    "\n",
    "Objects communicate via message passing"
   ]
  },
  {
   "cell_type": "markdown",
   "metadata": {
    "collapsed": true,
    "slideshow": {
     "slide_type": "slide"
    }
   },
   "source": [
    "Objects and OOP are at the heart of the way Python works\n",
    "\n",
    "You aren't forced to use the OOP paradigm in your programs - but understanding the concepts is essential to becoming anything more than a beginner\n",
    "\n",
    "Not least because you will need to use the classes and objects provided in the standard library"
   ]
  },
  {
   "cell_type": "markdown",
   "metadata": {
    "collapsed": true,
    "slideshow": {
     "slide_type": "slide"
    }
   },
   "source": [
    "Objects incorporate variables = attributes and functions = methods"
   ]
  },
  {
   "cell_type": "markdown",
   "metadata": {
    "collapsed": true,
    "slideshow": {
     "slide_type": "slide"
    }
   },
   "source": [
    "Basic principles:"
   ]
  },
  {
   "cell_type": "markdown",
   "metadata": {
    "collapsed": true,
    "slideshow": {
     "slide_type": "fragment"
    }
   },
   "source": [
    "* Encapsulation - the code inside objects divided into a public interface (the only way to be accessed) and a private implementation of the interface"
   ]
  },
  {
   "cell_type": "markdown",
   "metadata": {
    "slideshow": {
     "slide_type": "subslide"
    }
   },
   "source": [
    "* Polymorphism - the ability of an object to adapt the code to the type of the data it is processing"
   ]
  },
  {
   "cell_type": "markdown",
   "metadata": {
    "slideshow": {
     "slide_type": "subslide"
    }
   },
   "source": [
    "* Delegation (= composition + inheritance) - an object shall perform only what it knows best, and leave the rest to other objects"
   ]
  },
  {
   "cell_type": "markdown",
   "metadata": {
    "slideshow": {
     "slide_type": "subslide"
    }
   },
   "source": [
    "# Objects\n",
    "\n",
    "In Python, *anything is an object* (unlike C ++ or Java). Objects are all built-in types (numbers, strings, ...), all containers, as well as functions, modules, and object types. Absolutely everything provides some public methods."
   ]
  },
  {
   "cell_type": "markdown",
   "metadata": {
    "slideshow": {
     "slide_type": "subslide"
    }
   },
   "source": [
    "## Object's type\n",
    "\n",
    "Each object has a type; types can be divided into *built-in types* (list, tuple, int, ...) and *classes* (types defined using the `class` keyword)"
   ]
  },
  {
   "cell_type": "markdown",
   "metadata": {
    "slideshow": {
     "slide_type": "subslide"
    }
   },
   "source": [
    "The type determines what methods an object offers, it is a sort of a template (general characteristics), from which the individual object differs by its internal state (specific properties). "
   ]
  },
  {
   "cell_type": "markdown",
   "metadata": {
    "slideshow": {
     "slide_type": "subslide"
    }
   },
   "source": [
    "We say that *object is an instance of that type (class)*\n",
    "\n",
    "To determine the type of an object Python has a built-in function `type`"
   ]
  },
  {
   "cell_type": "code",
   "execution_count": null,
   "metadata": {
    "slideshow": {
     "slide_type": "subslide"
    }
   },
   "outputs": [],
   "source": [
    "print(type(\"Maundy Thursday\"))\n",
    "print(type(46878678676848648486))              # long in Python 2, int in Pythonu 3\n",
    "print(type((1,2)))"
   ]
  },
  {
   "cell_type": "code",
   "execution_count": null,
   "metadata": {
    "slideshow": {
     "slide_type": "subslide"
    }
   },
   "outputs": [],
   "source": [
    "print(type({}))\n",
    "print(type(set()))\n",
    "print(type([]))\n",
    "print(type(list()))                            # an instance of the list type\n",
    "print(type(list))                              # the list type itself\n",
    "\n",
    "print(isinstance(list(), list))                # The \"isinstance\" checks the object type"
   ]
  },
  {
   "cell_type": "markdown",
   "metadata": {
    "slideshow": {
     "slide_type": "subslide"
    }
   },
   "source": [
    "## Instantiation\n",
    "\n",
    "An instance of a given type is created similarly to calling a function\n",
    "\n",
    "If we have a data type (class), create an instance, just as we like to call it, i.e. using parethesis\n",
    "\n",
    "After all, we have already done so with built-in types like tuple, dict or list\n",
    "\n",
    "Effectively, the instantiation process involves calling the class constructor (see below)."
   ]
  },
  {
   "cell_type": "code",
   "execution_count": null,
   "metadata": {
    "slideshow": {
     "slide_type": "subslide"
    }
   },
   "outputs": [],
   "source": [
    "objekt = list()        # Creates a new instace of the list type\n",
    "objekt2 = list         # This does not create a new instace!\n",
    "                       # It just gives a new name to the list type\n",
    "\n",
    "# Let's see what we've got\n",
    "print(\"objekt = %s\" % objekt)\n",
    "print(\"objekt2 = %s\" % objekt2)"
   ]
  },
  {
   "cell_type": "code",
   "execution_count": null,
   "metadata": {
    "slideshow": {
     "slide_type": "subslide"
    }
   },
   "outputs": [],
   "source": [
    "# Now we can create a list using objekt2\n",
    "objekt2()"
   ]
  },
  {
   "cell_type": "markdown",
   "metadata": {
    "slideshow": {
     "slide_type": "subslide"
    }
   },
   "source": [
    "## Using methods\n",
    "\n",
    "Method is a function that is tied to some object and operates with its data. It can also change the internal state of the object, i.e. the attributes' values\n",
    "\n",
    "In Python, methods are called using dot notation, **`object.method(arguments)`**"
   ]
  },
  {
   "cell_type": "code",
   "execution_count": null,
   "metadata": {
    "slideshow": {
     "slide_type": "subslide"
    }
   },
   "outputs": [],
   "source": [
    "objekt = [45, 46, 47, 48]     # objekt is a list instance\n",
    "objekt.append(49)             # we call its append method\n",
    "\n",
    "objekt"
   ]
  },
  {
   "cell_type": "markdown",
   "metadata": {
    "slideshow": {
     "slide_type": "subslide"
    }
   },
   "source": [
    "The append method has no meaning in itself, only in conjunction with a specific list; it adds a new element to the list."
   ]
  },
  {
   "cell_type": "markdown",
   "metadata": {
    "slideshow": {
     "slide_type": "subslide"
    }
   },
   "source": [
    "# Classes\n",
    "\n",
    "Class is any user type. Like built-in types, it offers methods and data (attributes), which we can arbitrarily define\n",
    "\n",
    "The simplest definition of an empty class (pass is used for empty classes and methods to circumvent the indentation)"
   ]
  },
  {
   "cell_type": "code",
   "execution_count": null,
   "metadata": {
    "slideshow": {
     "slide_type": "subslide"
    }
   },
   "outputs": [],
   "source": [
    "class MyClass(object):    # create a new class called MyClass\n",
    "    pass                  # the class is empty"
   ]
  },
  {
   "cell_type": "markdown",
   "metadata": {
    "slideshow": {
     "slide_type": "subslide"
    }
   },
   "source": [
    "## Method definition\n",
    "\n",
    "Methods are defined within the call block  \n",
    "(N.B. In dynamic languages, methods can be added to the class later)"
   ]
  },
  {
   "cell_type": "markdown",
   "metadata": {
    "slideshow": {
     "slide_type": "subslide"
    }
   },
   "source": [
    "Conventional methods (instance methods) are called on a particular object\n",
    "\n",
    "Besides, there are also **class methods** and **static methods**"
   ]
  },
  {
   "cell_type": "markdown",
   "metadata": {
    "slideshow": {
     "slide_type": "subslide"
    }
   },
   "source": [
    "Quite unusual (unlike C ++, Java and other languages) is that the first argument of the method is the object on which the method is called\n",
    "\n",
    "Without that, the method does not know with which object it is working!"
   ]
  },
  {
   "cell_type": "markdown",
   "metadata": {
    "slideshow": {
     "slide_type": "subslide"
    }
   },
   "source": [
    "By convention (which is perhaps never violated), this first argument is called **self**  \n",
    "\n",
    "When the method is called, Python fill this argument automatically"
   ]
  },
  {
   "cell_type": "markdown",
   "metadata": {
    "slideshow": {
     "slide_type": "subslide"
    }
   },
   "source": [
    "Java calls it **this**"
   ]
  },
  {
   "cell_type": "markdown",
   "metadata": {
    "slideshow": {
     "slide_type": "subslide"
    }
   },
   "source": [
    "Some people regard it as a Python 'wart' that we **have to** include self\n",
    "\n",
    "Other languages include it automatically"
   ]
  },
  {
   "cell_type": "markdown",
   "metadata": {
    "slideshow": {
     "slide_type": "subslide"
    }
   },
   "source": [
    "The main argument in favour of self is the Pythonic principle *explicit is better than implicit*\n",
    "\n",
    "This way we can see exactly where all our variable names come from"
   ]
  },
  {
   "cell_type": "markdown",
   "metadata": {
    "slideshow": {
     "slide_type": "subslide"
    }
   },
   "source": [
    "## import this"
   ]
  },
  {
   "cell_type": "code",
   "execution_count": null,
   "metadata": {
    "slideshow": {
     "slide_type": "fragment"
    }
   },
   "outputs": [],
   "source": [
    "import this"
   ]
  },
  {
   "cell_type": "code",
   "execution_count": null,
   "metadata": {
    "slideshow": {
     "slide_type": "subslide"
    }
   },
   "outputs": [],
   "source": [
    "class Car(object):\n",
    "    def roll(self, distance):     # Don't forget *self*\n",
    "        print(\"Rolling {} kilometers.\".format(distance))\n",
    "        \n",
    "mycar = Car()                        \n",
    "mycar.roll(100)                     # self is omitted"
   ]
  },
  {
   "cell_type": "markdown",
   "metadata": {
    "slideshow": {
     "slide_type": "subslide"
    }
   },
   "source": [
    "Error! Notice the number of arguments that Python complains about."
   ]
  },
  {
   "cell_type": "code",
   "execution_count": null,
   "metadata": {
    "slideshow": {
     "slide_type": "subslide"
    }
   },
   "outputs": [],
   "source": [
    "mycar.roll(mycar, 100)"
   ]
  },
  {
   "cell_type": "markdown",
   "metadata": {
    "slideshow": {
     "slide_type": "slide"
    }
   },
   "source": [
    "## Constructor (= allocator + **initializer**)\n",
    "\n",
    "Contructor is the method that creates a new instance of a class\n",
    "\n",
    "It is called when a new instance is created"
   ]
  },
  {
   "cell_type": "markdown",
   "metadata": {
    "slideshow": {
     "slide_type": "subslide"
    }
   },
   "source": [
    "    object.__new__(cls[, ...])\n",
    "\n",
    "    object.__init__(self[, ...])\n",
    "    \n",
    "    object.__del__(self)"
   ]
  },
  {
   "cell_type": "code",
   "execution_count": null,
   "metadata": {
    "slideshow": {
     "slide_type": "subslide"
    }
   },
   "outputs": [],
   "source": [
    "class Car(object):\n",
    "    def roll(self, distance):     # Don't forget *self*\n",
    "        print(\"Rolling {} kilometers.\".format(distance))\n",
    "        \n",
    "car = Car()                        \n",
    "car.roll(100)                     # self is omitted"
   ]
  },
  {
   "cell_type": "code",
   "execution_count": null,
   "metadata": {},
   "outputs": [],
   "source": []
  },
  {
   "cell_type": "markdown",
   "metadata": {
    "slideshow": {
     "slide_type": "subslide"
    }
   },
   "source": [
    "We can (and in most cases we do) define how to initialize a class\n",
    "\n",
    "But we do not have to, in which case, only the default allocation is used that does nothing special"
   ]
  },
  {
   "cell_type": "markdown",
   "metadata": {
    "slideshow": {
     "slide_type": "subslide"
    }
   },
   "source": [
    "The initializer in Python is always named **`__init__`** (two underscores before and after)"
   ]
  },
  {
   "cell_type": "code",
   "execution_count": null,
   "metadata": {
    "slideshow": {
     "slide_type": "subslide"
    }
   },
   "outputs": [],
   "source": [
    "class MyClass2(object):\n",
    "    def __init__(self):\n",
    "        print(\"We are in the __init__(self)\")\n",
    "\n",
    "print(\"Before instantiating MyClass2\")\n",
    "# The allocator and initializer will be called now\n",
    "objekt = MyClass2()\n",
    "print(\"After instantiating MyClass2\")"
   ]
  },
  {
   "cell_type": "markdown",
   "metadata": {
    "slideshow": {
     "slide_type": "subslide"
    }
   },
   "source": [
    "## Attributes\n",
    "\n",
    "Values to attributes are assigned similarly as to other names but we have to add the object and the dot\n",
    "\n",
    "(N.B. Internally attributes are stored in dictionaries and access to them is through the dictionary of the object itself, its class, its parent class...) "
   ]
  },
  {
   "cell_type": "code",
   "execution_count": null,
   "metadata": {
    "slideshow": {
     "slide_type": "subslide"
    }
   },
   "outputs": [],
   "source": [
    "class Car(object):\n",
    "    def __init__(self, consupmtion):    # initializer with an argument\n",
    "        self.consupmtion = consupmtion  # simply store as an attribute (of self)\n",
    "    \n",
    "    def roll(self, distance):\n",
    "        # the consumption attribute is used\n",
    "        gas = distance / 100 * self.consupmtion\n",
    "        # gas is local, not an attribute\n",
    "        print(\"Rolling {} kilometrs, using {} liters of gas.\".format(distance, gas))\n",
    "        \n",
    "car = Car(15)\n",
    "print(\"My car has a consumtions of {} l/100 km.\".format(car.consupmtion))  \n",
    "car.roll(150)"
   ]
  },
  {
   "cell_type": "markdown",
   "metadata": {
    "slideshow": {
     "slide_type": "slide"
    }
   },
   "source": [
    "The list of all attributes is returned by `dir`"
   ]
  },
  {
   "cell_type": "code",
   "execution_count": null,
   "metadata": {
    "slideshow": {
     "slide_type": "subslide"
    }
   },
   "outputs": [],
   "source": [
    "dir(car)"
   ]
  },
  {
   "cell_type": "code",
   "execution_count": null,
   "metadata": {
    "slideshow": {
     "slide_type": "subslide"
    }
   },
   "outputs": [],
   "source": [
    "# attributes with double underscores are special, let's filter them out\n",
    "\", \".join(item for item in dir(car) if not item.startswith(\"__\"))  "
   ]
  },
  {
   "cell_type": "markdown",
   "metadata": {
    "slideshow": {
     "slide_type": "subslide"
    }
   },
   "source": [
    "## Note on privacy of methods\n",
    "\n",
    "Other languages usually offer a way of hiding some methods (such as the keywords private or protected in C++ or Java)\n",
    "\n",
    "Python does not try to resolve this issue and, by default, everything is accessible"
   ]
  },
  {
   "cell_type": "markdown",
   "metadata": {
    "slideshow": {
     "slide_type": "subslide"
    }
   },
   "source": [
    "Instead, there exist the following conventions:\n",
    "\n",
    "* Methods whose name starts with an underscore shall not be called from outside (because they are not part of the \"public\" interface)\n",
    "* To protect data, we can make them properties"
   ]
  },
  {
   "cell_type": "markdown",
   "metadata": {
    "slideshow": {
     "slide_type": "subslide"
    }
   },
   "source": [
    "### The underscore convention\n",
    "\n",
    "Python conventions are generally very strongly entrenched\n",
    "\n",
    "It is perhaps the most visible in the context of objects"
   ]
  },
  {
   "cell_type": "markdown",
   "metadata": {
    "slideshow": {
     "slide_type": "subslide"
    }
   },
   "source": [
    "1. \"Private\" attributes (attributes in Python often means both data and methods - everything is an object) are named with an underscore at the beginning, e.g \\_private_method.\n",
    "2. Two underscores at the beginning of the name of an attribute renames it so it's really hard to reference the attribute outside the context of the class."
   ]
  },
  {
   "cell_type": "markdown",
   "metadata": {
    "slideshow": {
     "slide_type": "subslide"
    }
   },
   "source": [
    "## Special (magic) methods\n",
    "Attributes with two undescores at the beginning and at the end have a special meaning   http://docs.python.org/3/reference/datamodel.html#special-method-names)\n",
    "\n",
    "We have already seen `__init__()`  and will look at several others"
   ]
  },
  {
   "cell_type": "markdown",
   "metadata": {
    "slideshow": {
     "slide_type": "subslide"
    }
   },
   "source": [
    "* `__repr__` and `__str__` convert the object to a string.\n",
    "* `__getattr__` and `__setattr__` are used for reading and storing not found attributes.\n",
    "* `__call__` will be called when we use the object as a function.\n",
    "* `__doc__` contains documentation (docstring).\n",
    "* `__dict__` contains the dictionary with the namespace of the object."
   ]
  },
  {
   "cell_type": "markdown",
   "metadata": {
    "slideshow": {
     "slide_type": "subslide"
    }
   },
   "source": [
    "There are special features for logical operators, to emulate the functionality of containers (iteration, items, cuts), for arithmetic operations, etc."
   ]
  },
  {
   "cell_type": "markdown",
   "metadata": {
    "slideshow": {
     "slide_type": "subslide"
    }
   },
   "source": [
    "### Making Operators Work on Custom Classes"
   ]
  },
  {
   "cell_type": "markdown",
   "metadata": {
    "slideshow": {
     "slide_type": "subslide"
    }
   },
   "source": [
    "One of the biggest advantages of using Python's magic methods is that they provide a simple way to make objects behave like built-in types"
   ]
  },
  {
   "cell_type": "markdown",
   "metadata": {
    "slideshow": {
     "slide_type": "subslide"
    }
   },
   "source": [
    "Avoid ugly, counter-intuitive, and nonstandard ways of performing basic operators\n",
    "\n",
    "In some languages, it's common to do something like this:\n",
    "\n",
    "    if instance.equals(other_instance):\n",
    "        # do something"
   ]
  },
  {
   "cell_type": "markdown",
   "metadata": {
    "slideshow": {
     "slide_type": "subslide"
    }
   },
   "source": [
    "You could certainly do this in Python, too, but this adds confusion and is unnecessarily verbose"
   ]
  },
  {
   "cell_type": "markdown",
   "metadata": {
    "slideshow": {
     "slide_type": "subslide"
    }
   },
   "source": [
    "Different libraries might use different names for the same operations, making the client do way more work than necessary"
   ]
  },
  {
   "cell_type": "markdown",
   "metadata": {
    "slideshow": {
     "slide_type": "subslide"
    }
   },
   "source": [
    "With the power of magic methods, however, we can define one method (`__eq__`, in this case), and say what we mean instead:\n",
    "\n",
    "    if instance == other_instance:\n",
    "        #do something"
   ]
  },
  {
   "cell_type": "markdown",
   "metadata": {
    "slideshow": {
     "slide_type": "subslide"
    }
   },
   "source": [
    "That's part of the power of magic methods. The vast majority of them allow us to define meaning for operators so that we can use them on our own classes just like they were built in types."
   ]
  },
  {
   "cell_type": "markdown",
   "metadata": {
    "slideshow": {
     "slide_type": "subslide"
    }
   },
   "source": [
    "https://rszalski.github.io/magicmethods/"
   ]
  },
  {
   "cell_type": "code",
   "execution_count": 10,
   "metadata": {
    "slideshow": {
     "slide_type": "slide"
    }
   },
   "outputs": [
    {
     "name": "stdout",
     "output_type": "stream",
     "text": [
      "Point(-3,-4)\n",
      "Point(2,2)\n"
     ]
    }
   ],
   "source": [
    "# minitask 5.1\n",
    "class Point:\n",
    "  \n",
    "p0 = Point()        \n",
    "p1 = Point(3, 4)\n",
    "print(p0-p1)\n",
    "p2 = Point(1, 2)\n",
    "result = p1-p2\n",
    "print(result)"
   ]
  },
  {
   "cell_type": "code",
   "execution_count": null,
   "metadata": {
    "slideshow": {
     "slide_type": "subslide"
    }
   },
   "outputs": [],
   "source": [
    "class Word(str):\n",
    "    '''Class for words, defining comparison based on word length.'''\n",
    "\n",
    "    def __new__(cls, word):\n",
    "        # Note that we have to use __new__. This is because str is an immutable\n",
    "        # type, so we have to initialize it early (at creation)\n",
    "        if ' ' in word:\n",
    "            print(\"Value contains spaces. Truncating to first space.\")\n",
    "            word = word[:word.index(' ')] # Word is now all chars before first space\n",
    "        return str.__new__(cls, word)\n",
    "\n",
    "    def __gt__(self, other):\n",
    "        return len(self) > len(other)\n",
    "    def __lt__(self, other):\n",
    "        return len(self) < len(other)\n",
    "    def __ge__(self, other):\n",
    "        return len(self) >= len(other)\n",
    "    def __le__(self, other):\n",
    "        return len(self) <= len(other)"
   ]
  },
  {
   "cell_type": "code",
   "execution_count": null,
   "metadata": {
    "slideshow": {
     "slide_type": "subslide"
    }
   },
   "outputs": [],
   "source": [
    "Word('foo') < Word('barbar')"
   ]
  },
  {
   "cell_type": "code",
   "execution_count": null,
   "metadata": {
    "slideshow": {
     "slide_type": "subslide"
    }
   },
   "outputs": [],
   "source": [
    "Word('fool') <= Word('bar')"
   ]
  },
  {
   "cell_type": "code",
   "execution_count": null,
   "metadata": {
    "slideshow": {
     "slide_type": "subslide"
    }
   },
   "outputs": [],
   "source": [
    "Word('foo') == Word('bar')"
   ]
  },
  {
   "cell_type": "code",
   "execution_count": null,
   "metadata": {
    "slideshow": {
     "slide_type": "subslide"
    }
   },
   "outputs": [],
   "source": [
    "class Word(str):\n",
    "    '''Class for words, defining comparison based on word length.'''\n",
    "\n",
    "    def __new__(cls, word):\n",
    "        # Note that we have to use __new__. This is because str is an immutable\n",
    "        # type, so we have to initialize it early (at creation)\n",
    "        if ' ' in word:\n",
    "            print(\"Value contains spaces. Truncating to first space.\")\n",
    "            word = word[:word.index(' ')] # Word is now all chars before first space\n",
    "        return str.__new__(cls, word)\n",
    "\n",
    "    def __eq__(self, other):\n",
    "        return len(self) == len(other)\n",
    "    def __gt__(self, other):\n",
    "        return len(self) > len(other)\n",
    "    def __lt__(self, other):\n",
    "        return len(self) < len(other)\n",
    "    def __ge__(self, other):\n",
    "        return len(self) >= len(other)\n",
    "    def __le__(self, other):\n",
    "        return len(self) <= len(other)"
   ]
  },
  {
   "cell_type": "markdown",
   "metadata": {
    "slideshow": {
     "slide_type": "subslide"
    }
   },
   "source": [
    "Note that you don't have to define every comparison magic method to get rich comparisons"
   ]
  },
  {
   "cell_type": "markdown",
   "metadata": {
    "slideshow": {
     "slide_type": "subslide"
    }
   },
   "source": [
    "The standard library has kindly provided us with a class decorator in the module functools that will define all rich comparison methods if you only define `__eq__` and one other (e.g. `__gt__`, `__lt__`, etc.)"
   ]
  },
  {
   "cell_type": "markdown",
   "metadata": {
    "slideshow": {
     "slide_type": "subslide"
    }
   },
   "source": [
    "You can use it by placing @total_ordering above your class definition"
   ]
  },
  {
   "cell_type": "code",
   "execution_count": null,
   "metadata": {
    "slideshow": {
     "slide_type": "subslide"
    }
   },
   "outputs": [],
   "source": [
    "# what an instance of the object type contains?\n",
    "dir(object())"
   ]
  },
  {
   "cell_type": "code",
   "execution_count": null,
   "metadata": {
    "slideshow": {
     "slide_type": "subslide"
    }
   },
   "outputs": [],
   "source": [
    "# and a simple function?\n",
    "def foo(x):\n",
    "    \"\"\"This is function foo\"\"\"\n",
    "    return x\n",
    "dir(foo)"
   ]
  },
  {
   "cell_type": "markdown",
   "metadata": {
    "slideshow": {
     "slide_type": "subslide"
    }
   },
   "source": [
    "## Inheritance \n",
    "\n",
    "Class can inherit (derive) its behavior (and data) from another class, thus saving a lot of work in the repetition of common features\n",
    "\n",
    "In this case, we say that our new class (child or subclass) inherits from the original (parent) class."
   ]
  },
  {
   "cell_type": "markdown",
   "metadata": {
    "slideshow": {
     "slide_type": "subslide"
    }
   },
   "source": [
    "* In a subclass, we can change the definition of some of the methods of the superclass\n",
    "* Initializers are inherited by default (unlike C++ or Java, in Python we have to explicitely call the superclass constructor only if we define a new constructor)\n",
    "* Subclasses can be used wherever the parent class(es) can be used"
   ]
  },
  {
   "cell_type": "code",
   "execution_count": null,
   "metadata": {
    "slideshow": {
     "slide_type": "subslide"
    }
   },
   "outputs": [],
   "source": [
    "class Human(object):\n",
    "    def __init__(self, name):          # The initilizer sets the name\n",
    "        self.name = name\n",
    "    \n",
    "    def say(self, what):               # The default say method\n",
    "        print(type(self).__name__ + \": \" + what)\n",
    "    \n",
    "    def introduce(self):             \n",
    "        self.say(\"My name is %s.\" % self.name)\n",
    "        \n",
    "    def greet(self):                 \n",
    "        self.say(\"Hello!\")\n",
    "        \n",
    "    def goodbye(self):\n",
    "        self.say(\"Good bye!\")        \n",
    "    "
   ]
  },
  {
   "cell_type": "code",
   "execution_count": null,
   "metadata": {
    "slideshow": {
     "slide_type": "subslide"
    }
   },
   "outputs": [],
   "source": [
    "class Serviceman(Human):\n",
    "    def repair_tv(self):         # A new method\n",
    "        self.say(\"Give me 5 minutes.\")\n",
    "        print(\"---The serviceman is working.---\")\n",
    "        self.say(\"Done.\")\n",
    "        \n",
    "    def introduce(self):            # introduce differently; self.name is used here\n",
    "        self.say(\"I'm %s, the serviceman\" % self.name)\n",
    "                \n",
    "class Patient(Human):\n",
    "    def say(self, what):            # redefined method\n",
    "        \"\"\"Say something with a running nose.\"\"\"\n",
    "        trantab = \"\".maketrans(\"nmNM\", \"dbDB\")\n",
    "        \n",
    "        Human.say(self, what.translate(trantab))   # call parent class' method\n",
    "        self.sneeze()\n",
    "        \n",
    "    def sneeze(self):                 # A new method - other humans do not sneeze\n",
    "        print(\"---Achoo---\")"
   ]
  },
  {
   "cell_type": "code",
   "execution_count": null,
   "metadata": {
    "slideshow": {
     "slide_type": "subslide"
    }
   },
   "outputs": [],
   "source": [
    "joe = Serviceman(\"Joe Smith\")\n",
    "bill = Patient(\"Bill Jones\")\n",
    "\n",
    "# A daily conversation\n",
    "joe.greet()\n",
    "bill.greet()\n",
    "joe.introduce()\n",
    "bill.introduce()\n",
    "bill.say(\"Can you fix my TV, please?\")\n",
    "joe.repair_tv()\n",
    "bill.say(\"Thank you very much.\")\n",
    "joe.goodbye()\n",
    "bill.goodbye()"
   ]
  },
  {
   "cell_type": "code",
   "execution_count": null,
   "metadata": {
    "slideshow": {
     "slide_type": "subslide"
    }
   },
   "outputs": [],
   "source": [
    "bill.repair_tv()           # Patients do not repair TV's"
   ]
  },
  {
   "cell_type": "markdown",
   "metadata": {
    "slideshow": {
     "slide_type": "subslide"
    }
   },
   "source": [
    "A sick electrician could be created using multiple inheritance, in which case we would have to consider if parent methods are called properly"
   ]
  },
  {
   "cell_type": "markdown",
   "metadata": {
    "slideshow": {
     "slide_type": "subslide"
    }
   },
   "source": [
    "Even better, we could use **mix-ins** and **inject** properties into objects dynamically"
   ]
  },
  {
   "cell_type": "markdown",
   "metadata": {
    "slideshow": {
     "slide_type": "subslide"
    }
   },
   "source": [
    "Mixins are a sort of class that is used to \"mix in\" extra properties and methods into a class"
   ]
  },
  {
   "cell_type": "markdown",
   "metadata": {
    "slideshow": {
     "slide_type": "subslide"
    }
   },
   "source": [
    "This allows you to create classes in a compositional style"
   ]
  },
  {
   "cell_type": "code",
   "execution_count": null,
   "metadata": {
    "slideshow": {
     "slide_type": "subslide"
    }
   },
   "outputs": [],
   "source": [
    "BaseClass = list\n",
    "\n",
    "class Mixin1(object):\n",
    "    def test(self):\n",
    "        print(\"Mixin1\")\n",
    "\n",
    "class Mixin2(object):\n",
    "    def test(self):\n",
    "        print(\"Mixin2\")\n",
    "\n",
    "class MyClass(BaseClass, Mixin2, Mixin1):\n",
    "    pass\n"
   ]
  },
  {
   "cell_type": "code",
   "execution_count": null,
   "metadata": {
    "slideshow": {
     "slide_type": "subslide"
    }
   },
   "outputs": [],
   "source": [
    "obj = MyClass()\n",
    "obj.test()\n"
   ]
  },
  {
   "cell_type": "markdown",
   "metadata": {
    "slideshow": {
     "slide_type": "subslide"
    }
   },
   "source": [
    "### Inheriting from built-in types \n",
    "Classes can also inherit from built-in types (and it is often useful, although the example below does not prove it)"
   ]
  },
  {
   "cell_type": "code",
   "execution_count": null,
   "metadata": {
    "slideshow": {
     "slide_type": "subslide"
    }
   },
   "outputs": [],
   "source": [
    "# A list that does not return its item unless pleaded\n",
    "class PeevishList(list):\n",
    "    def __getitem__(self, index):                     # redefining the method that handles getting items by [...]\n",
    "        if isinstance(index, tuple) and index[1].lower()[:6] in (\"please\"):\n",
    "            return list.__getitem__(self, index[0])   # the parent's method\n",
    "        else:\n",
    "            print(\"What about pleading?\")\n",
    "            return None\n",
    "s = list([1,2,3,4])\n",
    "print(s[1])\n",
    "s = PeevishList((1, 2, 3, 4))\n",
    "print(s[1])\n",
    "\n"
   ]
  },
  {
   "cell_type": "code",
   "execution_count": null,
   "metadata": {
    "slideshow": {
     "slide_type": "subslide"
    }
   },
   "outputs": [],
   "source": [
    "print(s[(2, \"please\")])"
   ]
  },
  {
   "cell_type": "code",
   "execution_count": 15,
   "metadata": {
    "code_folding": [],
    "slideshow": {
     "slide_type": "slide"
    }
   },
   "outputs": [],
   "source": [
    "class Example1(object):\n",
    "    def foo(self):\n",
    "        print(\"this is foo\")\n",
    "    def __getattr__(self, name):\n",
    "        def method(*args, **kwargs):\n",
    "            print(\"tried to handle unknown method \" + name)\n",
    "            if args:\n",
    "                print(\"it had args: \" + str(args))\n",
    "            if kwargs:\n",
    "                print(\"it had kwargs: \" + str(kwargs))\n",
    "        return method"
   ]
  },
  {
   "cell_type": "code",
   "execution_count": 16,
   "metadata": {
    "code_folding": [],
    "slideshow": {
     "slide_type": "slide"
    }
   },
   "outputs": [
    {
     "name": "stdout",
     "output_type": "stream",
     "text": [
      "this is foo\n",
      "tried to handle unknown method grill\n",
      "tried to handle unknown method ding\n",
      "it had args: ('dong',)\n",
      "it had kwargs: {'ring': 'main door'}\n"
     ]
    }
   ],
   "source": [
    "example = Example1()\n",
    "example.foo()\n",
    "example.grill()\n",
    "example.ding('dong', ring='main door', )\n",
    "example.a = 5"
   ]
  },
  {
   "cell_type": "code",
   "execution_count": 26,
   "metadata": {
    "slideshow": {
     "slide_type": "slide"
    }
   },
   "outputs": [
    {
     "name": "stdout",
     "output_type": "stream",
     "text": [
      "[2, 3, 4]\n"
     ]
    },
    {
     "ename": "AttributeError",
     "evalue": "'Example2' object has no attribute 'unknown_attr'",
     "output_type": "error",
     "traceback": [
      "\u001b[1;31m---------------------------------------------------------------------------\u001b[0m",
      "\u001b[1;31mAttributeError\u001b[0m                            Traceback (most recent call last)",
      "\u001b[1;32m<ipython-input-26-b78407955231>\u001b[0m in \u001b[0;36m<module>\u001b[1;34m\u001b[0m\n\u001b[0;32m      5\u001b[0m \u001b[0mexample2\u001b[0m\u001b[1;33m.\u001b[0m\u001b[0munknown_attr\u001b[0m \u001b[1;33m=\u001b[0m \u001b[1;33m[\u001b[0m\u001b[1;36m2\u001b[0m\u001b[1;33m,\u001b[0m\u001b[1;36m3\u001b[0m\u001b[1;33m,\u001b[0m\u001b[1;36m4\u001b[0m\u001b[1;33m]\u001b[0m\u001b[1;33m\u001b[0m\u001b[1;33m\u001b[0m\u001b[0m\n\u001b[0;32m      6\u001b[0m \u001b[0mprint\u001b[0m\u001b[1;33m(\u001b[0m\u001b[0mexample2\u001b[0m\u001b[1;33m.\u001b[0m\u001b[0mmy_unknown_attr\u001b[0m\u001b[1;33m)\u001b[0m\u001b[1;33m\u001b[0m\u001b[1;33m\u001b[0m\u001b[0m\n\u001b[1;32m----> 7\u001b[1;33m \u001b[0mprint\u001b[0m\u001b[1;33m(\u001b[0m\u001b[0mexample2\u001b[0m\u001b[1;33m.\u001b[0m\u001b[0munknown_attr\u001b[0m\u001b[1;33m)\u001b[0m\u001b[1;33m\u001b[0m\u001b[1;33m\u001b[0m\u001b[0m\n\u001b[0m",
      "\u001b[1;31mAttributeError\u001b[0m: 'Example2' object has no attribute 'unknown_attr'"
     ]
    }
   ],
   "source": [
    "class Example2(object):\n",
    "    def __setattr__(self, name, value):\n",
    "        self.__dict__['my_' + name] = value\n",
    "example2 = Example2()\n",
    "example2.unknown_attr = [2,3,4]\n",
    "print(example2.my_unknown_attr)\n",
    "print(example2.unknown_attr)"
   ]
  },
  {
   "cell_type": "code",
   "execution_count": null,
   "metadata": {
    "code_folding": [],
    "slideshow": {
     "slide_type": "slide"
    }
   },
   "outputs": [],
   "source": [
    "class Example3(object):\n",
    "    def __setattr__(self, name, value):\n",
    "        # do not try it this way\n",
    "        # self.name = value\n",
    "        pass\n",
    "    # since every time an attribute is assigned, __setattr__() is called, this\n",
    "    # is recursion.\n",
    "    # so this really means self.__setattr__('name', value). Since the method\n",
    "    # keeps calling itself, the recursion goes on forever causing a crash\n",
    "    "
   ]
  },
  {
   "cell_type": "markdown",
   "metadata": {
    "slideshow": {
     "slide_type": "subslide"
    }
   },
   "source": [
    "# Advanced topics \n",
    "\n",
    "Following topics are very interesting and terribly useful - read about them:\n",
    "* Multiple inheritance\n",
    "* Properties, class methods, static methods\n",
    "* Abstract classes\n",
    "* Polymorphism\n",
    "* Metatclasses\n",
    "* Design Patterns"
   ]
  }
 ],
 "metadata": {
  "anaconda-cloud": {},
  "celltoolbar": "Slideshow",
  "kernelspec": {
   "display_name": "Python 3",
   "language": "python",
   "name": "python3"
  },
  "language_info": {
   "codemirror_mode": {
    "name": "ipython",
    "version": 3
   },
   "file_extension": ".py",
   "mimetype": "text/x-python",
   "name": "python",
   "nbconvert_exporter": "python",
   "pygments_lexer": "ipython3",
   "version": "3.6.7"
  },
  "livereveal": {
   "controls": true,
   "height": 855,
   "history": true,
   "minScale": 1,
   "progress": true,
   "scroll": false,
   "slideNumber": true,
   "start_slideshow_at": "selected",
   "theme": "simple",
   "transition": "linear",
   "width": 1140
  }
 },
 "nbformat": 4,
 "nbformat_minor": 1
}
