{
 "cells": [
  {
   "cell_type": "markdown",
   "metadata": {
    "slideshow": {
     "slide_type": "slide"
    }
   },
   "source": [
    "# Python Decorators"
   ]
  },
  {
   "cell_type": "markdown",
   "metadata": {
    "slideshow": {
     "slide_type": "subslide"
    }
   },
   "source": [
    "http://tooblippe.github.io/insightstack-blog/2014/05/05/decorators/"
   ]
  },
  {
   "cell_type": "markdown",
   "metadata": {
    "slideshow": {
     "slide_type": "subslide"
    }
   },
   "source": [
    "This document captures the essential elements of decorators, based on the work of others.  The text here is brief, please consult the references for more details."
   ]
  },
  {
   "cell_type": "markdown",
   "metadata": {
    "slideshow": {
     "slide_type": "subslide"
    }
   },
   "source": [
    "## Decorators, why?"
   ]
  },
  {
   "cell_type": "markdown",
   "metadata": {
    "slideshow": {
     "slide_type": "subslide"
    }
   },
   "source": [
    "- add functionality to existing functions and classes.\n",
    "- do timing on functions.\n",
    "- perform pre- and post-formatting on data.\n",
    "- diagnostics and testing.\n",
    "- perform monkey patching.\n"
   ]
  },
  {
   "cell_type": "markdown",
   "metadata": {
    "slideshow": {
     "slide_type": "subslide"
    }
   },
   "source": [
    "## Decorator concepts"
   ]
  },
  {
   "cell_type": "markdown",
   "metadata": {
    "slideshow": {
     "slide_type": "subslide"
    }
   },
   "source": [
    "In http://simeonfranklin.com/blog/2012/jul/1/python-decorators-in-12-steps/ Franklin provides the ground work for building up to the punchline"
   ]
  },
  {
   "cell_type": "markdown",
   "metadata": {
    "slideshow": {
     "slide_type": "subslide"
    }
   },
   "source": [
    "1\\. It all starts with Python functions that has a name, an optional list of parameters (positional and named/default) and can return a value."
   ]
  },
  {
   "cell_type": "markdown",
   "metadata": {
    "slideshow": {
     "slide_type": "subslide"
    }
   },
   "source": [
    "2\\. Variables defined inside a function has scope only inside the function."
   ]
  },
  {
   "cell_type": "markdown",
   "metadata": {
    "slideshow": {
     "slide_type": "subslide"
    }
   },
   "source": [
    "3\\. Variable names are resolved (for access) with the [LEGB](http://nbviewer.ipython.org/github/rasbt/python_reference/blob/master/tutorials/scope_resolution_legb_rule.ipynb) (local, enclosing, global, built-in) rule. The first name found is used.  Inner scopes have read access to outer scopes, but not write/change access."
   ]
  },
  {
   "cell_type": "markdown",
   "metadata": {
    "slideshow": {
     "slide_type": "subslide"
    }
   },
   "source": [
    "4\\. Variables have lifetime only in the scope that exists at any moment."
   ]
  },
  {
   "cell_type": "markdown",
   "metadata": {
    "slideshow": {
     "slide_type": "subslide"
    }
   },
   "source": [
    "5\\. Variables passed as function parameters become local variables in the function."
   ]
  },
  {
   "cell_type": "markdown",
   "metadata": {
    "slideshow": {
     "slide_type": "subslide"
    }
   },
   "source": [
    "6\\. Python allows nested functions, with the normal scoping rules. In this code `inner` is a local variable in the function `outer`, it just happens to be a function:"
   ]
  },
  {
   "cell_type": "code",
   "execution_count": null,
   "metadata": {
    "code_folding": [],
    "hide_input": false,
    "slideshow": {
     "slide_type": "subslide"
    }
   },
   "outputs": [],
   "source": [
    "def outer():\n",
    "    x = 1\n",
    "    def inner():\n",
    "        print(x)\n",
    "    inner()\n",
    "    \n",
    "outer()    "
   ]
  },
  {
   "cell_type": "markdown",
   "metadata": {
    "hide_input": false,
    "slideshow": {
     "slide_type": "subslide"
    }
   },
   "source": [
    "7\\. Functions are objects that/(whose names) can be passed as variables to functions and can be returned from functions. "
   ]
  },
  {
   "cell_type": "code",
   "execution_count": null,
   "metadata": {
    "hide_input": false,
    "slideshow": {
     "slide_type": "subslide"
    }
   },
   "outputs": [],
   "source": [
    "def add(x, y):\n",
    "    return x + y\n",
    "def apply(func, x, y):\n",
    "    return func(x, y)\n",
    "apply(add, 2, 1)"
   ]
  },
  {
   "cell_type": "markdown",
   "metadata": {
    "slideshow": {
     "slide_type": "subslide"
    }
   },
   "source": [
    "In this example, `inner` is redefined every time when `outer()` is executed. The function `outer` returns the function name `inner` which can be called with `()`."
   ]
  },
  {
   "cell_type": "code",
   "execution_count": null,
   "metadata": {
    "hide_input": false,
    "slideshow": {
     "slide_type": "subslide"
    }
   },
   "outputs": [],
   "source": [
    "def outer():\n",
    "    def inner():\n",
    "        print('Inside inner')\n",
    "    return inner\n",
    "\n",
    "print(outer)\n",
    "print(outer())\n",
    "outer()\n",
    "outer()()\n"
   ]
  },
  {
   "cell_type": "markdown",
   "metadata": {
    "slideshow": {
     "slide_type": "subslide"
    }
   },
   "source": [
    "8\\. Python supports function closure, which means that non-global functions remember what their enclosing namespaces looked like at definition time, even if the enclosing environment (function in this case) goes out of scope.   In this example the variable `x` goes out of scope when `outer()` returns `inner` to the variable `foo`, but `inner` still remembers the value when `foo()` is executed."
   ]
  },
  {
   "cell_type": "code",
   "execution_count": null,
   "metadata": {
    "hide_input": false,
    "slideshow": {
     "slide_type": "subslide"
    }
   },
   "outputs": [],
   "source": [
    "def outer():\n",
    "    x = 1\n",
    "    def inner():\n",
    "        print(x)\n",
    "    return inner\n",
    "foo = outer()\n",
    "# x is out of scope at this point\n",
    "print(foo.__closure__) #foo.func_closure in Python2\n",
    "foo()"
   ]
  },
  {
   "cell_type": "markdown",
   "metadata": {
    "slideshow": {
     "slide_type": "subslide"
    }
   },
   "source": [
    "Here is an example of how closure can build custom functions:"
   ]
  },
  {
   "cell_type": "code",
   "execution_count": null,
   "metadata": {
    "hide_input": false,
    "slideshow": {
     "slide_type": "subslide"
    }
   },
   "outputs": [],
   "source": [
    "def outer(x):\n",
    "    def inner():\n",
    "        print(x)\n",
    "    return inner\n",
    "print1 = outer(1)\n",
    "print2 = outer(2)\n",
    "print1()\n",
    "print2()\n"
   ]
  },
  {
   "cell_type": "markdown",
   "metadata": {
    "slideshow": {
     "slide_type": "subslide"
    }
   },
   "source": [
    "9\\. A decorator is a function that takes a function name as an argument and returns a replacement function, which can be called elsewhere. Here is the principle at work for a function with no parameters:"
   ]
  },
  {
   "cell_type": "code",
   "execution_count": null,
   "metadata": {
    "hide_input": false,
    "slideshow": {
     "slide_type": "subslide"
    }
   },
   "outputs": [],
   "source": [
    "def outer(some_func):\n",
    "    def inner():\n",
    "        print('before some_func - do whatever you want before')\n",
    "        ret = some_func()\n",
    "        print('after some_func - do whatever you want after')\n",
    "        return ret + 1\n",
    "    return inner\n",
    "def foo():\n",
    "    return 1\n",
    "decorated = outer(foo)\n",
    "decorated()"
   ]
  },
  {
   "cell_type": "markdown",
   "metadata": {
    "slideshow": {
     "slide_type": "subslide"
    }
   },
   "source": [
    "If we want to keep the `foo` function name, just reassign it to the decorated function, then calling `foo` will call the decorated function.\n",
    "\n",
    "Caveat IPython cell memory!  Run the following cell a few times...."
   ]
  },
  {
   "cell_type": "code",
   "execution_count": null,
   "metadata": {
    "hide_input": false,
    "slideshow": {
     "slide_type": "subslide"
    }
   },
   "outputs": [],
   "source": [
    "foo = outer(foo) # now becomes outer(foo), same as decorated above\n",
    "print(foo)\n",
    "foo() "
   ]
  },
  {
   "cell_type": "markdown",
   "metadata": {
    "slideshow": {
     "slide_type": "subslide"
    }
   },
   "source": [
    "10\\. The @ symbol applies a decorator to a function, as in \n",
    "\n",
    "    @decoratorname\n",
    "    def function():\n",
    "        pass"
   ]
  },
  {
   "cell_type": "markdown",
   "metadata": {
    "slideshow": {
     "slide_type": "subslide"
    }
   },
   "source": [
    "11\\. `*args` and `**kwargs` provides the means to pass along any number of function parameters.  This allows one to wrap/decorate any function, irrespective of its signature.  \n",
    "By using `*args` (list of function arguments) and `**kwargs` (dictionary of function keyword arguments) the decorator can be applied to functions and class methods alike, with any number of arguments.  The `*args` list  and `**kwargs` dictionary are just unrolled into the new `func` call."
   ]
  },
  {
   "cell_type": "markdown",
   "metadata": {
    "slideshow": {
     "slide_type": "subslide"
    }
   },
   "source": [
    "12\\. Simple example: printing function parameters before calling a function."
   ]
  },
  {
   "cell_type": "code",
   "execution_count": null,
   "metadata": {
    "collapsed": true,
    "hide_input": false,
    "slideshow": {
     "slide_type": "subslide"
    }
   },
   "outputs": [],
   "source": [
    "def logger(func):\n",
    "    def inner(*args, **kwargs): \n",
    "        print('Arguments were: {}, {}'.format(args, kwargs))\n",
    "        rtnVal = func(*args, **kwargs)\n",
    "        print('Return value is: {}'.format(rtnVal))\n",
    "        return rtnVal\n",
    "    return inner"
   ]
  },
  {
   "cell_type": "code",
   "execution_count": null,
   "metadata": {
    "hide_input": false,
    "slideshow": {
     "slide_type": "subslide"
    }
   },
   "outputs": [],
   "source": [
    "@logger\n",
    "def foo1(x,y=1):\n",
    "    return x * y\n",
    "@logger\n",
    "def foo2():\n",
    "    return 2\n",
    "\n",
    "foo1(5,4)\n",
    "foo2()\n"
   ]
  },
  {
   "cell_type": "markdown",
   "metadata": {
    "slideshow": {
     "slide_type": "subslide"
    }
   },
   "source": [
    "13\\. Here is an example by [Farhad](http://thecodeship.com/patterns/guide-to-python-function-decorators/) of the decorator applied to a class method:"
   ]
  },
  {
   "cell_type": "code",
   "execution_count": null,
   "metadata": {
    "hide_input": false,
    "slideshow": {
     "slide_type": "subslide"
    }
   },
   "outputs": [],
   "source": [
    "def p_decorate(func):\n",
    "   def inner(*args, **kwargs):\n",
    "       return \"<p>{0}</p>\".format(func(*args, **kwargs))\n",
    "   return inner\n",
    "\n",
    "class Person(object):\n",
    "    def __init__(self):\n",
    "        self.name = \"John\"\n",
    "        self.family = \"Doe\"\n",
    "\n",
    "    @p_decorate\n",
    "    def get_fullname(self):\n",
    "        return self.name+\" \"+self.family\n",
    "\n",
    "my_person = Person()\n",
    "\n",
    "print(my_person.get_fullname)\n"
   ]
  },
  {
   "cell_type": "markdown",
   "metadata": {
    "slideshow": {
     "slide_type": "subslide"
    }
   },
   "source": [
    "### Passing arguments to decorators"
   ]
  },
  {
   "cell_type": "markdown",
   "metadata": {
    "slideshow": {
     "slide_type": "subslide"
    }
   },
   "source": [
    "Decorators can be passed arguments by using an *additional* level of function nesting around the decorators seen thus far.\n",
    "\n",
    "This [Farhad](http://thecodeship.com/patterns/guide-to-python-function-decorators/) example passes arguments to the decorator function:\n"
   ]
  },
  {
   "cell_type": "code",
   "execution_count": null,
   "metadata": {
    "hide_input": false,
    "slideshow": {
     "slide_type": "subslide"
    }
   },
   "outputs": [],
   "source": [
    "def tags(tag_name):\n",
    "    def tags_decorator(func):\n",
    "        def inner(name):\n",
    "            return '<{0}>{1}</{0}>'.format(tag_name, func(name))\n",
    "        return inner\n",
    "    return tags_decorator\n",
    "\n",
    "@tags('p')\n",
    "@tags('strong')\n",
    "def get_text(name):\n",
    "    return 'Hello '+name\n",
    "\n",
    "print(get_text('John'))\n"
   ]
  },
  {
   "cell_type": "markdown",
   "metadata": {
    "slideshow": {
     "slide_type": "subslide"
    }
   },
   "source": [
    "You can also pass conditionals to decorators to change behaviour."
   ]
  },
  {
   "cell_type": "code",
   "execution_count": null,
   "metadata": {
    "hide_input": false,
    "slideshow": {
     "slide_type": "subslide"
    }
   },
   "outputs": [],
   "source": [
    "def skipIf(conditional, message):\n",
    "    def dec(func):\n",
    "        def inner(*args, **kwargs):\n",
    "            if conditional:\n",
    "                print(message)\n",
    "            else:\n",
    "                return func(*args, **kwargs)\n",
    "        return inner\n",
    "    return dec\n",
    "\n",
    "logical = [True, False]\n",
    "for log in logical:\n",
    "    print(log)\n",
    "    @skipIf(log, 'skipped function call')\n",
    "    def myFunc():\n",
    "        print('in myFunc')\n",
    "    myFunc()"
   ]
  },
  {
   "cell_type": "markdown",
   "metadata": {
    "slideshow": {
     "slide_type": "subslide"
    }
   },
   "source": [
    "## Decorators and function attributes"
   ]
  },
  {
   "cell_type": "markdown",
   "metadata": {
    "slideshow": {
     "slide_type": "subslide"
    }
   },
   "source": [
    "The decorating wrapper as shown above overwrites the function's attributes, so the wrapped function's attributes are lost.\n",
    "\n",
    "As of Python 2.5, the functools module contains `functools.wraps`, a decorator for updating the attributes of the wrapping function to those of the original function. This is as simple as decorating the inner function with `@wraps(func)`. [Farhad's](http://thecodeship.com/patterns/guide-to-python-function-decorators/) example:"
   ]
  },
  {
   "cell_type": "code",
   "execution_count": null,
   "metadata": {
    "hide_input": false,
    "slideshow": {
     "slide_type": "subslide"
    }
   },
   "outputs": [],
   "source": [
    "from functools import wraps\n",
    "\n",
    "def tags(tag_name):\n",
    "    def tags_decorator(func):\n",
    "        @wraps(func)\n",
    "        def inner(name):\n",
    "            return \"<{0}>{1}</{0}>\".format(tag_name, func(name))\n",
    "        return inner\n",
    "    return tags_decorator\n",
    "\n",
    "@tags(\"p\")\n",
    "def get_text(name):\n",
    "    \"\"\"returns some text\"\"\"\n",
    "    return \"Hello \"+name\n",
    "\n",
    "print(get_text.__name__) # get_text\n",
    "print(get_text.__doc__) # returns some text\n",
    "print(get_text.__module__) # __main__\n"
   ]
  },
  {
   "cell_type": "markdown",
   "metadata": {
    "slideshow": {
     "slide_type": "subslide"
    }
   },
   "source": [
    "Graham Dumpleton created a library called [`wrapt`](https://pypi.python.org/pypi/wrapt), going much beyond `wraps`. Dumpleton writes: \"To  provide a transparent object proxy for Python, which can be used as the basis for the construction of function wrappers and decorator functions. \n",
    "It therefore goes way beyond existing mechanisms such as functools.wraps() to ensure that decorators preserve introspectability, signatures, type checking abilities etc. The decorators that can be constructed using this module will work in far more scenarios than typical decorators and provide more predictable and consistent behaviour.\" See the use of this module below."
   ]
  },
  {
   "cell_type": "markdown",
   "metadata": {
    "slideshow": {
     "slide_type": "subslide"
    }
   },
   "source": [
    "## Decorator classes"
   ]
  },
  {
   "cell_type": "markdown",
   "metadata": {
    "slideshow": {
     "slide_type": "subslide"
    }
   },
   "source": [
    "The decorator wrapper must be a callable, such as a function (shown above) or a class with a `__call__()` member function. Hence classes can also be used as decorators.  Class decorators are slightly more involved than function decorators, but implements the same functionality. See [Eckel's blogs](https://www.artima.com/weblogs/viewpost.jsp?thread=240845) \n",
    "\n",
    "When using the class as a decorator, the class is initialised and remembers the original function, whereas function decorators reassign the original function name to the newly wrapped function name.\n",
    "\n",
    "Use `functools.update_wrapper()` to make available the wrapped functions attributes to the decorator wrapping class.\n"
   ]
  },
  {
   "cell_type": "code",
   "execution_count": null,
   "metadata": {
    "hide_input": false,
    "slideshow": {
     "slide_type": "subslide"
    }
   },
   "outputs": [],
   "source": [
    "from functools import update_wrapper\n",
    "\n",
    "class myDecorator(object):\n",
    "\n",
    "    def __init__(self, f):\n",
    "        print('inside myDecorator.__init__()')\n",
    "        self.f = f\n",
    "        update_wrapper(self, f)\n",
    "\n",
    "    def __call__(self):\n",
    "        print(\"Entering\", self.f.__name__)\n",
    "        self.f()\n",
    "        print(\"Exited\", self.f.__name__)\n",
    "\n",
    "@myDecorator\n",
    "def aFunction():\n",
    "    \"\"\"aFunction does aThing\"\"\"\n",
    "    print('inside aFunction()')\n",
    "\n",
    "print('Finished decorating aFunction()\\n')\n",
    "\n",
    "aFunction()\n",
    "\n",
    "print('\\nWrapped function name is {}'.format(aFunction.__name__))\n",
    "print('Wrapped docstring is \"{}\"'.format(aFunction.__doc__))"
   ]
  },
  {
   "cell_type": "markdown",
   "metadata": {
    "slideshow": {
     "slide_type": "subslide"
    }
   },
   "source": [
    "\n",
    "Class decorators can also have parameters. This time the decorator class implementation is a lot more complex than the decorator function implementation."
   ]
  },
  {
   "cell_type": "code",
   "execution_count": null,
   "metadata": {
    "hide_input": false,
    "slideshow": {
     "slide_type": "subslide"
    }
   },
   "outputs": [],
   "source": [
    "class decoratorWithArguments(object):\n",
    "\n",
    "    def __init__(self, arg1, arg2, arg3):\n",
    "        \"\"\"\n",
    "        If there are decorator arguments, the function\n",
    "        to be decorated is not passed to the constructor!\n",
    "        \"\"\"\n",
    "        print('Inside __init__()')\n",
    "        self.arg1 = arg1\n",
    "        self.arg2 = arg2\n",
    "        self.arg3 = arg3\n",
    "\n",
    "    def __call__(self, f):\n",
    "        \"\"\"\n",
    "        If there are decorator arguments, __call__() is only called\n",
    "        once, as part of the decoration process! You can only give\n",
    "        it a single argument, which is the function object.\n",
    "        \"\"\"\n",
    "        print('Inside __call__()')\n",
    "        def wrapped_f(*args):\n",
    "            print('Inside wrapped_f()')\n",
    "            print('Decorator arguments: {} {} {} '.format(self.arg1, self.arg2, self.arg3))\n",
    "            f(*args)\n",
    "            print('After f(*args)')\n",
    "        return wrapped_f\n",
    "\n",
    "@decoratorWithArguments(\"hello\", \"world\", 42)\n",
    "def sayHello(a1, a2, a3, a4):\n",
    "    print('sayHello arguments: {} {} {} {}'.format(a1, a2, a3, a4))\n",
    "\n",
    "print('After decoration')\n",
    "\n",
    "print('Preparing to call sayHello()')\n",
    "sayHello(\"say\", \"hello\", \"argument\", \"list\")\n",
    "print('after first sayHello() call')\n",
    "sayHello(\"a\", \"different\", \"set of\", \"arguments\")\n",
    "print('after second sayHello() call')"
   ]
  },
  {
   "cell_type": "markdown",
   "metadata": {
    "slideshow": {
     "slide_type": "subslide"
    }
   },
   "source": [
    "This seems overly complex and confusing, but I guess it might be required for some sophisticated applications. In [Eckel's](https://www.artima.com/weblogs/viewpost.jsp?thread=240845) own words:\n",
    "\n",
    "\"Now the process of decoration calls the constructor and then immediately invokes `__call__()`, which can only take a single argument (the function object) and must return the decorated function object that replaces the original. Notice that `__call__()` is now only invoked once, during decoration, and after that the decorated function that you return from `__call__()` is used for the actual calls.\"\n",
    "\n",
    "\"Although this behavior makes sense -- the constructor is now used to capture the decorator arguments, but the object `__call__()` can no longer be used as the decorated function call, so you must instead use `__call__()` to perform the decoration -- it is nonetheless surprising the first time you see it because it's acting so much differently than the no-argument case, and you must code the decorator very differently from the no-argument case.\""
   ]
  },
  {
   "cell_type": "markdown",
   "metadata": {
    "slideshow": {
     "slide_type": "subslide"
    }
   },
   "source": [
    "## Decorating classes"
   ]
  },
  {
   "cell_type": "markdown",
   "metadata": {
    "slideshow": {
     "slide_type": "subslide"
    }
   },
   "source": [
    "All the examples thus far decorated/wrapped functions.  Can classes be decorated?  Based on this blog by [da Palma](http://andrefsp.wordpress.com/2012/08/23/writing-a-class-decorator-in-python/), it seems that there are two options: (1) decorating a class by decorating each of its member functions and (2) where you write a class decorator and select which methods to decorate passing their names as the decorator arguments.\n",
    "I repeat his code below exactly as blogged."
   ]
  },
  {
   "cell_type": "code",
   "execution_count": null,
   "metadata": {
    "hide_input": false,
    "slideshow": {
     "slide_type": "subslide"
    }
   },
   "outputs": [],
   "source": [
    "def method_decorator(fn):\n",
    "    \"Example of a method decorator\"\n",
    "    def decorator(*args, **kwargs):\n",
    "        print(\"\\tInside the decorator\")\n",
    "        return fn(*args, **kwargs)\n",
    "\n",
    "    return decorator\n",
    "\n",
    "class MyFirstClass(object):\n",
    "    \"\"\"\n",
    "    This class has all its methods decorated\n",
    "    \"\"\"\n",
    "    @method_decorator\n",
    "    def first_method(self, *args, **kwargs):\n",
    "        print(\"\\t\\tthis is a the MyFirstClass.first_method\")\n",
    "\n",
    "    @method_decorator\n",
    "    def second_method(self, *args, **kwargs):\n",
    "        print(\"\\t\\tthis is the MyFirstClass.second_method\")\n",
    "\n",
    "if __name__ == \"__main__\":\n",
    "    print(\"::: With decorated methods :::\")\n",
    "    x = MyFirstClass()\n",
    "    x.first_method()\n",
    "    x.second_method()"
   ]
  },
  {
   "cell_type": "code",
   "execution_count": null,
   "metadata": {
    "hide_input": false,
    "slideshow": {
     "slide_type": "subslide"
    }
   },
   "outputs": [],
   "source": [
    "def method_decorator(fn):\n",
    "    \"Example of a method decorator\"\n",
    "    def decorator(*args, **kwargs):\n",
    "        print(\"\\tInside the decorator\")\n",
    "        return fn(*args, **kwargs)\n",
    "\n",
    "    return decorator\n",
    "\n",
    "\n",
    "def class_decorator(*method_names):\n",
    "    def class_rebuilder(cls):\n",
    "        \"The class decorator example\"\n",
    "        class NewClass(cls):\n",
    "            \"This is the overwritten class\"\n",
    "            def __getattribute__(self, attr_name):\n",
    "                obj = super(NewClass, self).__getattribute__(attr_name)\n",
    "                if hasattr(obj, '__call__') and attr_name in method_names:\n",
    "                    return method_decorator(obj)\n",
    "                return obj\n",
    "\n",
    "        return NewClass\n",
    "    return class_rebuilder\n",
    "\n",
    "\n",
    "@class_decorator('first_method', 'second_method')\n",
    "class MySecondClass(object):\n",
    "    \"\"\"\n",
    "    This class is decorated\n",
    "    \"\"\"\n",
    "    def first_method(self, *args, **kwargs):\n",
    "        print(\"\\t\\tthis is a the MySecondClass.first_method\")\n",
    "\n",
    "    def second_method(self, *args, **kwargs):\n",
    "        print(\"\\t\\tthis is the MySecondClass.second_method\")\n",
    "\n",
    "if __name__ == \"__main__\":\n",
    "    print(\"::: With a decorated class :::\")\n",
    "    z = MySecondClass()\n",
    "    z.first_method()\n",
    "    z.second_method()"
   ]
  },
  {
   "cell_type": "markdown",
   "metadata": {
    "slideshow": {
     "slide_type": "subslide"
    }
   },
   "source": [
    "## Dumpleton's `warpt` module"
   ]
  },
  {
   "cell_type": "markdown",
   "metadata": {
    "slideshow": {
     "slide_type": "subslide"
    }
   },
   "source": [
    "I discoved [Dumpleton's work](http://wrapt.readthedocs.org/en/latest/) in his \n",
    "[Pycon 2014 video](https://www.youtube.com/watch?v=7jGtDGxgwEY), after all of the above was written. The writeup above is still valid but it is recommended that you use the [wrapt module](https://pypi.python.org/pypi/wrapt) for production work on decorators, wrappers and monkey patching. This module provides the required  robustness to decorators to behave as expected (e.g., as functions) under all conditions.  \n",
    "\n",
    "Dumpleton shows in his talk how the techniques described above have weaknesses when it comes to accessing the wrapped function's attributes and descriptors. During the talk, Dumpleton smiled and made the remark \"totally losing you at this point, I guess\" and \"I will let you digest that one...\". This is indeed the case when he goes into the very deep details of fixing the weaknesses of the simple decorators.  Fortunately you don't have to understand the inner details to use the [wrapt module](https://pypi.python.org/pypi/wrapt).\n",
    "\n",
    "Dumpleton's estimate is that 90% of all decorator requirements can be met by simple function closure wrappers (as described above) - but you lose significant introspection functionality. He recommends that you use [wrapt](http://wrapt.readthedocs.org/en/latest/) for developing libraries that will be used by other people."
   ]
  },
  {
   "cell_type": "markdown",
   "metadata": {
    "slideshow": {
     "slide_type": "subslide"
    }
   },
   "source": [
    "The `wrapt` module results in more compact code and full introspection functionality; no `inner` function coding is required."
   ]
  },
  {
   "cell_type": "code",
   "execution_count": null,
   "metadata": {
    "hide_input": false,
    "slideshow": {
     "slide_type": "subslide"
    }
   },
   "outputs": [],
   "source": [
    "import wrapt\n",
    "\n",
    "@wrapt.decorator\n",
    "def pass_through(wrapped, instance, args, kwargs):\n",
    "    return wrapped(*args, **kwargs)\n",
    "\n",
    "@pass_through\n",
    "def function():\n",
    "    \"\"\"Function docstring\"\"\"\n",
    "    print('Using wrapt with a decorator function and no decorator arguments')\n",
    "\n",
    "function()\n",
    "print('Function name'.format(function.__name__))\n",
    "print('Function doctring'.format(function.__doc__))\n"
   ]
  },
  {
   "cell_type": "code",
   "execution_count": null,
   "metadata": {
    "hide_input": false,
    "slideshow": {
     "slide_type": "subslide"
    }
   },
   "outputs": [],
   "source": [
    "import wrapt\n",
    "\n",
    "class with_arguments(object):\n",
    "\n",
    "    def __init__(self, myarg1, myarg2):\n",
    "        self.myarg1 = myarg1\n",
    "        self.myarg2 = myarg2\n",
    "\n",
    "    @wrapt.decorator\n",
    "    def __call__(self, wrapped, instance, args, kwargs):\n",
    "        return wrapped(*args, **kwargs)\n",
    "\n",
    "@with_arguments(1, 2)\n",
    "def function():\n",
    "    print('Using wrapt with a decorator class and decorator arguments')\n",
    "\n",
    "function()"
   ]
  },
  {
   "cell_type": "markdown",
   "metadata": {
    "slideshow": {
     "slide_type": "subslide"
    }
   },
   "source": [
    "`wrapt` decorators can be enabled and disabled by setting a flag.  If enabled, the wrapped function is returned, if disabled, the original function is returned."
   ]
  },
  {
   "cell_type": "code",
   "execution_count": null,
   "metadata": {
    "hide_input": false,
    "slideshow": {
     "slide_type": "subslide"
    }
   },
   "outputs": [],
   "source": [
    "for ENABLED in [True, False]:\n",
    "    print('\\nDecorator enabled is {}'.format(ENABLED))\n",
    "\n",
    "    @wrapt.decorator(enabled=ENABLED)\n",
    "    def pass_through(wrapped, instance, args, kwargs):\n",
    "        print('In decorator, before calling function')\n",
    "        wraptfun = wrapped(*args, **kwargs)\n",
    "        print('In decorator, after calling function')\n",
    "        return wraptfun\n",
    "\n",
    "    @pass_through\n",
    "    def function():\n",
    "        print('Executing function')\n",
    "    print(type(function))\n",
    "    function()\n",
    "\n"
   ]
  },
  {
   "cell_type": "markdown",
   "metadata": {
    "slideshow": {
     "slide_type": "subslide"
    }
   },
   "source": [
    "## Decorator applications"
   ]
  },
  {
   "cell_type": "markdown",
   "metadata": {
    "slideshow": {
     "slide_type": "subslide"
    }
   },
   "source": [
    "### Adding names to `__all__`"
   ]
  },
  {
   "cell_type": "markdown",
   "metadata": {
    "slideshow": {
     "slide_type": "subslide"
    }
   },
   "source": [
    "<http://code.activestate.com/recipes/576993-public-decorator-adds-an-item-to-__all__/>\n",
    "The DRY principle says, \"Don't repeat yourself\". A Python module typically defines a global variable named \"__all__\" that holds the names of everything the author wants visible. This means you have to type each function or class name a second time, and you have to maintain the contents of __all__ manually. The `@public` decorator fixes that.    \n",
    "    "
   ]
  },
  {
   "cell_type": "code",
   "execution_count": null,
   "metadata": {
    "hide_input": false,
    "slideshow": {
     "slide_type": "subslide"
    }
   },
   "outputs": [],
   "source": [
    "import sys\n",
    "\n",
    "def public(f):\n",
    "    \"\"\"\"Use a decorator to avoid retyping function/class names.\n",
    "\n",
    "    * Based on an idea by Duncan Booth:\n",
    "    http://groups.google.com/group/comp.lang.python/msg/11cbb03e09611b8a\n",
    "    * Improved via a suggestion by Dave Angel:\n",
    "    http://groups.google.com/group/comp.lang.python/msg/3d400fb22d8a42e1\n",
    "    \"\"\"\n",
    "    all = sys.modules[f.__module__].__dict__.setdefault('__all__', [])\n",
    "    if f.__name__ not in all:  # Prevent duplicates if run from an IDE.\n",
    "        all.append(f.__name__)\n",
    "    return f\n",
    "public(public)  # Emulate decorating ourself\n"
   ]
  },
  {
   "cell_type": "markdown",
   "metadata": {
    "slideshow": {
     "slide_type": "subslide"
    }
   },
   "source": [
    "I've seen two techniques for exporting variables. One is to have a simple assignment somewhere (usually at the beginning or end of the module): `__all__ = [ 'foo', 'bar' ]`\n",
    "\n",
    "This separates the exportation from the item's definition, so other people do this:\n",
    "     __all__ = []\n",
    "     ... \n",
    "     def foo(...): \n",
    "     ... \n",
    "     __all__.append('foo')\n",
    "     class bar(...):\n",
    "     ... \n",
    "     __all__.append('bar')\n",
    "\n",
    "This is better, but it still puts the code at the bottom of the item's declaration.\n",
    "\n",
    "My solution is this:\n",
    "\n",
    "    import public from my_utilites\n",
    "\n",
    "    @public def foo(...): ...\n",
    "\n",
    "    @public class bar(...): ...\n"
   ]
  },
  {
   "cell_type": "markdown",
   "metadata": {
    "slideshow": {
     "slide_type": "subslide"
    }
   },
   "source": [
    "### Context managers"
   ]
  },
  {
   "cell_type": "markdown",
   "metadata": {
    "slideshow": {
     "slide_type": "subslide"
    }
   },
   "source": [
    "This example is a very simple example of applying the `@contextmanager` decorator. The program flow is really simple: you (1) create some context, (2) yield when the context is used and (3) finalise your work when closing the context.  the example below is a simple implementation of the `with open() as f` idiom using a function."
   ]
  },
  {
   "cell_type": "code",
   "execution_count": null,
   "metadata": {
    "hide_input": false,
    "slideshow": {
     "slide_type": "subslide"
    }
   },
   "outputs": [],
   "source": [
    "from contextlib import contextmanager\n",
    "\n",
    "@contextmanager\n",
    "def myfile(filename, filemode):\n",
    "    f = open(filename, filemode)\n",
    "    try:\n",
    "        yield f\n",
    "    finally:\n",
    "        f.close()\n",
    "                    \n",
    "with myfile('test.txt','w') as mf:\n",
    "    mf.write('one line\\n')\n",
    "\n",
    "import os.path    \n",
    "if os.path.sep == '/':\n",
    "    !cat test.txt\n",
    "else:\n",
    "    !type test.txt\n"
   ]
  },
  {
   "cell_type": "markdown",
   "metadata": {
    "slideshow": {
     "slide_type": "subslide"
    }
   },
   "source": [
    "The context manager can also use a class to set up and finalise the context."
   ]
  },
  {
   "cell_type": "code",
   "execution_count": null,
   "metadata": {
    "hide_input": false,
    "slideshow": {
     "slide_type": "subslide"
    }
   },
   "outputs": [],
   "source": [
    "class MyFile:\n",
    "    def __init__(self, filename, mode):\n",
    "        self.filename = filename\n",
    "        self.mode = mode\n",
    " \n",
    "    def __enter__(self):\n",
    "        self.thefile = open(self.filename, self.mode)\n",
    "        return self.thefile\n",
    " \n",
    "    def __exit__(self, *unused):\n",
    "        self.thefile.close()\n",
    " \n",
    "with MyFile('test2.txt','w') as writer:\n",
    "    writer.write(\"Hello World from our new Context Manager!\")\n",
    "    \n",
    "import os.path    \n",
    "if os.path.sep == '/':\n",
    "    !cat test2.txt\n",
    "else:\n",
    "    !type test2.txt\n"
   ]
  },
  {
   "cell_type": "markdown",
   "metadata": {
    "slideshow": {
     "slide_type": "subslide"
    }
   },
   "source": [
    "### Timing with decorators"
   ]
  },
  {
   "cell_type": "code",
   "execution_count": null,
   "metadata": {
    "hide_input": false,
    "slideshow": {
     "slide_type": "subslide"
    }
   },
   "outputs": [],
   "source": [
    "import math\n",
    "import time\n",
    "\n",
    "def time_dec(func):\n",
    "  def inner(*args, **kwargs):\n",
    "      t = time.clock()\n",
    "      res = func(*args, **kwargs)\n",
    "      print('fn={} time={}'.format(func.__name__, time.clock()-t))\n",
    "      return res\n",
    "  return inner\n",
    "\n",
    "@time_dec\n",
    "def myFunction(a):\n",
    "    return math.atan(a)\n",
    "    \n",
    "print(myFunction(0.55))    \n",
    "    "
   ]
  },
  {
   "cell_type": "markdown",
   "metadata": {
    "slideshow": {
     "slide_type": "subslide"
    }
   },
   "source": [
    "### Chaining decorators\n",
    "\n",
    "Chaining decorators is simply wrapping decorators within decorators, within decorators...."
   ]
  },
  {
   "cell_type": "code",
   "execution_count": null,
   "metadata": {
    "hide_input": false,
    "slideshow": {
     "slide_type": "subslide"
    }
   },
   "outputs": [],
   "source": [
    "def makebold(fn):\n",
    "    def inner(*args, **kwargs):\n",
    "        return \"<b>\" + fn(*args, **kwargs) + \"</b>\"\n",
    "    return inner\n",
    "\n",
    "def makeitalic(fn):\n",
    "    def inner(*args, **kwargs):\n",
    "        return \"<i>\" + fn(*args, **kwargs) + \"</i>\"\n",
    "    return inner\n",
    "\n",
    "@makebold\n",
    "@makeitalic\n",
    "def hello():\n",
    "    return 'hello world'\n",
    "\n",
    "print(hello())"
   ]
  },
  {
   "cell_type": "markdown",
   "metadata": {
    "hide_input": true,
    "slideshow": {
     "slide_type": "subslide"
    }
   },
   "source": [
    "### Counting the number of times a function is called"
   ]
  },
  {
   "cell_type": "code",
   "execution_count": null,
   "metadata": {
    "hide_input": false,
    "scrolled": true,
    "slideshow": {
     "slide_type": "subslide"
    }
   },
   "outputs": [],
   "source": [
    "def count(func):\n",
    "  def inner(*args, **kwargs):\n",
    "      counter += 1\n",
    "      return func(*args, **kwargs)\n",
    "  counter = 0\n",
    "  return inner\n",
    "\n",
    "@count\n",
    "def myFunction():\n",
    "    pass\n",
    "    \n",
    "myFunction()\n",
    "myFunction()\n",
    "\n",
    "print(myFunction.counter)    "
   ]
  },
  {
   "cell_type": "markdown",
   "metadata": {
    "slideshow": {
     "slide_type": "subslide"
    }
   },
   "source": [
    "### Redirecting stdout to logger"
   ]
  },
  {
   "cell_type": "code",
   "execution_count": null,
   "metadata": {
    "hide_input": false,
    "slideshow": {
     "slide_type": "subslide"
    }
   },
   "outputs": [],
   "source": [
    "import logging\n",
    "import sys\n",
    "\n",
    "class LogPrinter:\n",
    "    '''LogPrinter class which serves to emulates a file object and logs\n",
    "       whatever it gets sent to a Logger object at the INFO level.'''\n",
    "    def __init__(self):\n",
    "        '''Grabs the specific logger to use for logprinting.'''\n",
    "        self.ilogger = logging.getLogger('logprinter')\n",
    "        il = self.ilogger\n",
    "        logging.basicConfig()\n",
    "        il.setLevel(logging.INFO)\n",
    "        hdlr = logging.FileHandler('logprinter.log')\n",
    "        formatter = logging.Formatter('%(asctime)s %(levelname)s %(message)s')\n",
    "        hdlr.setFormatter(formatter)\n",
    "        self.ilogger.addHandler(hdlr) \n",
    "\n",
    "    def write(self, text):\n",
    "        '''Logs written output to a specific logger'''\n",
    "        self.ilogger.info(text)\n",
    "\n",
    "def logprintinfo(func):\n",
    "    '''Wraps a method so that any calls made to print get logged instead'''\n",
    "    def pwrapper(*arg, **kwargs):\n",
    "        stdobak = sys.stdout\n",
    "        lpinstance = LogPrinter()\n",
    "        sys.stdout = lpinstance\n",
    "        try:\n",
    "            return func(*arg, **kwargs)\n",
    "        finally:\n",
    "            sys.stdout = stdobak\n",
    "    return pwrapper\n",
    "\n",
    "@logprintinfo\n",
    "def somePrintingFunc():\n",
    "    print('Hello output')\n",
    "    \n",
    "somePrintingFunc()\n",
    "\n",
    "import os.path    \n",
    "if os.path.sep == '/':\n",
    "    !cat logprinter.log\n",
    "else:\n",
    "    !type logprinter.log\n"
   ]
  },
  {
   "cell_type": "markdown",
   "metadata": {
    "slideshow": {
     "slide_type": "subslide"
    }
   },
   "source": [
    "### A decorator-based build system"
   ]
  },
  {
   "cell_type": "markdown",
   "metadata": {
    "slideshow": {
     "slide_type": "subslide"
    }
   },
   "source": [
    "[Bruce Eckel](https://www.artima.com/weblogs/viewpost.jsp?thread=241209) built a build system using python decorators. His motivation is that build systems really need a language and that `make` and `ant` do not supply sufficient capability in this area.  In my own view [CMake](http://www.cmake.org/) is the better way to go here - is has a horrible language, but it works."
   ]
  },
  {
   "cell_type": "markdown",
   "metadata": {
    "slideshow": {
     "slide_type": "subslide"
    }
   },
   "source": [
    "### Repository of decorators"
   ]
  },
  {
   "cell_type": "markdown",
   "metadata": {
    "slideshow": {
     "slide_type": "subslide"
    }
   },
   "source": [
    "<https://wiki.python.org/moin/PythonDecoratorLibrary> has a large number of decorators for many different applications. The following is a list of some of these.  The code won't work here, because some of the decorators are quite long and must be included in your code."
   ]
  },
  {
   "cell_type": "markdown",
   "metadata": {
    "slideshow": {
     "slide_type": "subslide"
    }
   },
   "source": [
    "Use the `accepts` decorator for type checking:  \n",
    "\n",
    "    @accepts(uint, utf8string)\n",
    "    def myMethod(ID, name):\n",
    "        print(ID, name)\n",
    "\n",
    "    myMethod(4, 'string')"
   ]
  },
  {
   "cell_type": "markdown",
   "metadata": {
    "slideshow": {
     "slide_type": "subslide"
    }
   },
   "source": [
    "Implement singletons:  \n",
    "\n",
    "    @singleton\n",
    "    class Highlander:\n",
    "        x = 100\n",
    "\n",
    "    Highlander() is Highlander() is Highlander #=> True\n",
    "    id(Highlander()) == id(Highlander) #=> True\n",
    "    Highlander().x == Highlander.x == 100 #=> True\n",
    "    Highlander.x = 50\n",
    "    Highlander().x == Highlander.x == 50 #=> True"
   ]
  },
  {
   "cell_type": "markdown",
   "metadata": {
    "slideshow": {
     "slide_type": "subslide"
    }
   },
   "source": [
    "Memoizing a class. Caches a function's return value each time it is called. If called later with the same arguments, the cached value is returned (not reevaluated)\n",
    "\n",
    "    @memoized\n",
    "    def fibonacci(n):\n",
    "       \"Return the nth fibonacci number.\"\n",
    "       if n in (0, 1):\n",
    "          return n\n",
    "       return fibonacci(n-1) + fibonacci(n-2)\n",
    "\n",
    "    print fibonacci(12)\n"
   ]
  },
  {
   "cell_type": "markdown",
   "metadata": {
    "slideshow": {
     "slide_type": "subslide"
    }
   },
   "source": [
    "Smart deprecation warnings (with valid filenames, line numbers, etc.)\n",
    "\n",
    "    @deprecated\n",
    "    def my_func():\n",
    "        pass\n",
    "\n",
    "    my_func()"
   ]
  },
  {
   "cell_type": "code",
   "execution_count": 14,
   "metadata": {},
   "outputs": [
    {
     "name": "stdout",
     "output_type": "stream",
     "text": [
      "Call to deprecated function: some_old_function\n"
     ]
    },
    {
     "data": {
      "text/plain": [
       "3"
      ]
     },
     "execution_count": 14,
     "metadata": {},
     "output_type": "execute_result"
    }
   ],
   "source": [
    "#minitask 6.1\n",
    "\n",
    "@deprecated\n",
    "def some_old_function(x, y):\n",
    "    return x + y\n",
    "\n",
    "some_old_function(1,2)"
   ]
  },
  {
   "cell_type": "code",
   "execution_count": 9,
   "metadata": {
    "slideshow": {
     "slide_type": "subslide"
    }
   },
   "outputs": [
    {
     "name": "stderr",
     "output_type": "stream",
     "text": [
      "C:\\ProgramData\\Anaconda3\\lib\\site-packages\\ipykernel_launcher.py:12: DeprecatedWarning: foo is deprecated as of 1.0 and will be removed in 2.0. Use the bar function instead\n",
      "  if sys.path[0] == '':\n"
     ]
    },
    {
     "data": {
      "text/plain": [
       "1"
      ]
     },
     "execution_count": 9,
     "metadata": {},
     "output_type": "execute_result"
    }
   ],
   "source": [
    "import deprecation\n",
    "\n",
    "__version__ = '1.8'\n",
    "\n",
    "@deprecation.deprecated(deprecated_in=\"1.0\", removed_in=\"2.0\",\n",
    "                        current_version=__version__,\n",
    "                        details=\"Use the bar function instead\")\n",
    "def foo():\n",
    "    \"\"\"Do some stuff\"\"\"\n",
    "    return 1\n",
    "\n",
    "foo()"
   ]
  },
  {
   "cell_type": "markdown",
   "metadata": {
    "slideshow": {
     "slide_type": "subslide"
    }
   },
   "source": [
    "Easy Dump of Function Arguments\n",
    "\n",
    "    @dump_args\n",
    "    def f1(a,b,c):\n",
    "        print a + b + c\n",
    "\n",
    "    f1(1, 2, 3)"
   ]
  },
  {
   "cell_type": "markdown",
   "metadata": {
    "slideshow": {
     "slide_type": "subslide"
    }
   },
   "source": [
    "State machine implementations  \n",
    "<https://wiki.python.org/moin/PythonDecoratorLibrary#State_Machine_Implementaion>  \n",
    "<https://wiki.python.org/moin/State%20Machine%20via%20Decorators>"
   ]
  },
  {
   "cell_type": "markdown",
   "metadata": {
    "slideshow": {
     "slide_type": "subslide"
    }
   },
   "source": [
    "Access control prevents users from getting access to places where they are not authorised to go.\n",
    "\n",
    "    @LoginCheck\n",
    "    def display_members_page():\n",
    "        print 'This is the members page'"
   ]
  },
  {
   "cell_type": "markdown",
   "metadata": {
    "slideshow": {
     "slide_type": "subslide"
    }
   },
   "source": [
    "## References"
   ]
  },
  {
   "cell_type": "markdown",
   "metadata": {
    "slideshow": {
     "slide_type": "subslide"
    }
   },
   "source": [
    "Pycon 2014 videos:  \n",
    "[Myers: Decorators: A Powerful Weapon in your Python Arsenal](https://www.youtube.com/watch?v=9oyr0mocZTg)  \n",
    "[Dumpleton: Advanced methods for creating decorators](https://www.youtube.com/watch?v=7jGtDGxgwEY)  \n",
    "[Harrison: Hands-on Intermediate Python](https://www.youtube.com/watch?v=29iDgal40hc)\n",
    "\n",
    "The definitive work on decorators:  \n",
    "[Dumpleton: wrapt package](https://pypi.python.org/pypi/wrapt)  \n",
    "[Dumpleton: wrapt documentation](http://wrapt.readthedocs.org/en/latest/)  \n",
    "\n",
    "Decorator repository:  \n",
    "[wiki.python.org](https://wiki.python.org/moin/PythonDecoratorLibrary)  \n",
    "\n",
    "Blogs:  \n",
    "[Knupp: Improve Your Python: Decorators Explained](https://www.jeffknupp.com/blog/2013/11/29/improve-your-python-decorators-explained/)  \n",
    "[Franklin: Understanding Python Decorators in 12 Easy Steps!](http://simeonfranklin.com/blog/2012/jul/1/python-decorators-in-12-steps/)  \n",
    "[Eckel: Decorators I: Introduction to Python Decorators](https://www.artima.com/weblogs/viewpost.jsp?thread=240808)  \n",
    "[Eckel: Python Decorators II: Decorator Arguments](https://www.artima.com/weblogs/viewpost.jsp?thread=240845)  \n",
    "[Eckel: Python Decorators III: A Decorator-Based Build System](https://www.artima.com/weblogs/viewpost.jsp?thread=241209)  \n",
    "[Farhat: A guide to Python's function decorators](http://thecodeship.com/patterns/guide-to-python-function-decorators/)  \n",
    "[Yasoob: Python decorators finally demystified](http://freepythontips.wordpress.com/2013/12/05/python-decorators-finally-demystified/)  \n",
    "[Simionato: PyPI decorator module](https://pypi.python.org/pypi/decorator)  \n",
    "[da Palma: Writing a class decorator in Python](http://andrefsp.wordpress.com/2012/08/23/writing-a-class-decorator-in-python/)  \n",
    "[Harrison: Guide to learning Python decorators](http://hairysun.com/books/decorators/)  \n",
    "[Hellman: contextlib â Context manager utilities](http://pymotw.com/2/contextlib/)  \n",
    "[Context managers in Python](http://pypix.com/python/context-managers/)  \n",
    "[Python wiki: PythonDecorators](https://wiki.python.org/moin/PythonDecorators)  \n",
    "[Chaining decorators](https://stackoverflow.com/questions/739654/how-can-i-make-a-chain-of-function-decorators-in-python)  \n",
    "[Some common uses](https://stackoverflow.com/questions/489720/what-are-some-common-uses-for-python-decorators)  \n",
    "[Python decorators finally demystified](http://freepythontips.wordpress.com/2013/12/05/python-decorators-finally-demystified/)  \n",
    "\n",
    "[Advanced Use of Python Decorators and Metaclasses](http://lgiordani.com/blog/2014/10/14/decorators-and-metaclasses/)\n"
   ]
  },
  {
   "cell_type": "markdown",
   "metadata": {
    "slideshow": {
     "slide_type": "slide"
    }
   },
   "source": [
    "# Performance analysis of Python programs"
   ]
  },
  {
   "cell_type": "markdown",
   "metadata": {
    "slideshow": {
     "slide_type": "subslide"
    }
   },
   "source": [
    "https://wiki.python.org/moin/PythonSpeed/PerformanceTips#Profiling_Code"
   ]
  },
  {
   "cell_type": "markdown",
   "metadata": {
    "slideshow": {
     "slide_type": "subslide"
    }
   },
   "source": [
    "**cProfile** and **profile** modules provide deterministic profiling of Python programs"
   ]
  },
  {
   "cell_type": "markdown",
   "metadata": {
    "slideshow": {
     "slide_type": "subslide"
    }
   },
   "source": [
    "A profile is a set of statistics that describes how often and for how long various parts of the program executed"
   ]
  },
  {
   "cell_type": "markdown",
   "metadata": {
    "slideshow": {
     "slide_type": "subslide"
    }
   },
   "source": [
    "These statistics can be formatted into reports via the pstats module"
   ]
  },
  {
   "cell_type": "markdown",
   "metadata": {
    "slideshow": {
     "slide_type": "subslide"
    }
   },
   "source": [
    "**cProfile** is recommended for most users; itâs a C extension with reasonable overhead that makes it suitable for profiling long-running programs"
   ]
  },
  {
   "cell_type": "markdown",
   "metadata": {
    "slideshow": {
     "slide_type": "subslide"
    }
   },
   "source": [
    "**profile**, a pure Python module whose interface is imitated by cProfile, but which adds significant overhead to profiled programs"
   ]
  },
  {
   "cell_type": "markdown",
   "metadata": {
    "slideshow": {
     "slide_type": "subslide"
    }
   },
   "source": [
    "The profiler modules are designed to provide an execution profile for a given program, not for benchmarking purposes\n",
    "\n",
    "For that, there is **timeit** for reasonably accurate results"
   ]
  },
  {
   "cell_type": "markdown",
   "metadata": {
    "slideshow": {
     "slide_type": "subslide"
    }
   },
   "source": [
    "The most basic starting point in the profile module is **run()**\n",
    "\n",
    "It takes a string statement as argument, and creates a report of the time spent executing different lines of code while running the statement"
   ]
  },
  {
   "cell_type": "code",
   "execution_count": null,
   "metadata": {
    "hide_input": false,
    "slideshow": {
     "slide_type": "subslide"
    }
   },
   "outputs": [],
   "source": [
    "def f(n):\n",
    "    if n == 0:\n",
    "        return 0\n",
    "    elif n == 1:\n",
    "        return 1\n",
    "    else:\n",
    "        return f(n-1) + f(n-2)"
   ]
  },
  {
   "cell_type": "code",
   "execution_count": null,
   "metadata": {
    "hide_input": false,
    "slideshow": {
     "slide_type": "subslide"
    }
   },
   "outputs": [],
   "source": [
    "import cProfile\n",
    "\n",
    "def fib(n):\n",
    "    # from http://en.literateprograms.org/Fibonacci_numbers_(Python)\n",
    "    if n == 0:\n",
    "        return 0\n",
    "    elif n == 1:\n",
    "        return 1\n",
    "    else:\n",
    "        return fib(n-1) + fib(n-2)\n",
    "cProfile.run('print(fib(20))')"
   ]
  },
  {
   "cell_type": "code",
   "execution_count": null,
   "metadata": {
    "hide_input": false,
    "slideshow": {
     "slide_type": "subslide"
    }
   },
   "outputs": [],
   "source": [
    "import cProfile\n",
    "\n",
    "def fib_seq(n):\n",
    "    seq = [ ]\n",
    "    if n > 0:\n",
    "        seq.extend(fib_seq(n-1))\n",
    "    seq.append(fib(n))\n",
    "    return seq\n",
    "\n",
    "cProfile.run('print(fib_seq(20))')"
   ]
  },
  {
   "cell_type": "code",
   "execution_count": null,
   "metadata": {
    "hide_input": true,
    "slideshow": {
     "slide_type": "subslide"
    }
   },
   "outputs": [],
   "source": [
    "import cProfile\n",
    "\n",
    "def fib(n):\n",
    "    # from http://en.literateprograms.org/Fibonacci_numbers_(Python)\n",
    "    if n == 0:\n",
    "        return 0\n",
    "    elif n == 1:\n",
    "        return 1\n",
    "    else:\n",
    "        return fib(n-1) + fib(n-2)\n",
    "\n",
    "def fib_seq(n):\n",
    "    seq = [ ]\n",
    "    if n > 0:\n",
    "        seq.extend(fib_seq(n-1))\n",
    "    seq.append(fib(n))\n",
    "    return seq\n",
    "\n",
    "cProfile.run('print(fib_seq(20))')"
   ]
  },
  {
   "cell_type": "code",
   "execution_count": null,
   "metadata": {
    "collapsed": true,
    "slideshow": {
     "slide_type": "subslide"
    }
   },
   "outputs": [],
   "source": [
    "class m1:\n",
    "    def __init__(self, function):\n",
    "        self.function = function\n",
    "        self.m = {}\n",
    "    def __call__(self, *args):\n",
    "        try:\n",
    "            return self.m[args]\n",
    "        except KeyError:\n",
    "            self.m[args] = self.function(*args)\n",
    "            return self.m[args]\n"
   ]
  },
  {
   "cell_type": "code",
   "execution_count": null,
   "metadata": {
    "collapsed": true,
    "slideshow": {
     "slide_type": "subslide"
    }
   },
   "outputs": [],
   "source": [
    "class memoize:\n",
    "    def __init__(self, function):\n",
    "        self.function = function\n",
    "        self.memoized = {}\n",
    "    def __call__(self, *args):\n",
    "        try:\n",
    "            return self.memoized[args]\n",
    "        except KeyError:\n",
    "            self.memoized[args] = self.function(*args)\n",
    "            return self.memoized[args]\n"
   ]
  },
  {
   "cell_type": "code",
   "execution_count": null,
   "metadata": {
    "collapsed": true,
    "slideshow": {
     "slide_type": "subslide"
    }
   },
   "outputs": [],
   "source": [
    "import collections\n",
    "import functools\n",
    "\n",
    "class memoized(object):\n",
    "   '''Decorator. Caches a function's return value each time it is called.\n",
    "   If called later with the same arguments, the cached value is returned\n",
    "   (not reevaluated).\n",
    "   '''\n",
    "   def __init__(self, func):\n",
    "      self.func = func\n",
    "      self.cache = {}\n",
    "   def __call__(self, *args):\n",
    "      if not isinstance(args, collections.Hashable):\n",
    "         # uncacheable. a list, for instance.\n",
    "         # better to not cache than blow up.\n",
    "         return self.func(*args)\n",
    "      if args in self.cache:\n",
    "         return self.cache[args]\n",
    "      else:\n",
    "         value = self.func(*args)\n",
    "         self.cache[args] = value\n",
    "         return value\n",
    "   def __repr__(self):\n",
    "      '''Return the function's docstring.'''\n",
    "      return self.func.__doc__\n",
    "   def __get__(self, obj, objtype):\n",
    "      '''Support instance methods.'''\n",
    "      return functools.partial(self.__call__, obj)"
   ]
  },
  {
   "cell_type": "code",
   "execution_count": null,
   "metadata": {
    "collapsed": true,
    "slideshow": {
     "slide_type": "subslide"
    }
   },
   "outputs": [],
   "source": [
    "# note that this decorator ignores **kwargs\n",
    "def memoize(obj):\n",
    "    cache = obj.cache = {}\n",
    "\n",
    "    @functools.wraps(obj)\n",
    "    def memoizer(*args, **kwargs):\n",
    "        if args not in cache:\n",
    "            cache[args] = obj(*args, **kwargs)\n",
    "        return cache[args]\n",
    "    return memoizer"
   ]
  },
  {
   "cell_type": "code",
   "execution_count": null,
   "metadata": {
    "collapsed": true,
    "slideshow": {
     "slide_type": "subslide"
    }
   },
   "outputs": [],
   "source": [
    "# note that this decorator ignores **kwargs\n",
    "def memoize(obj):\n",
    "    cache = obj.cache = {}\n",
    "\n",
    "    @functools.wraps(obj)\n",
    "    def memoizer(*args, **kwargs):\n",
    "        if args not in cache:\n",
    "            cache[args] = obj(*args, **kwargs)\n",
    "        return cache[args]\n",
    "    return memoizer"
   ]
  },
  {
   "cell_type": "code",
   "execution_count": null,
   "metadata": {
    "collapsed": true,
    "slideshow": {
     "slide_type": "subslide"
    }
   },
   "outputs": [],
   "source": [
    "def memoize(obj):\n",
    "    cache = obj.cache = {}\n",
    "\n",
    "    @functools.wraps(obj)\n",
    "    def memoizer(*args, **kwargs):\n",
    "        key = str(args) + str(kwargs)\n",
    "        if key not in cache:\n",
    "            cache[key] = obj(*args, **kwargs)\n",
    "        return cache[key]\n",
    "    return memoizer"
   ]
  },
  {
   "cell_type": "code",
   "execution_count": null,
   "metadata": {
    "collapsed": true,
    "slideshow": {
     "slide_type": "subslide"
    }
   },
   "outputs": [],
   "source": [
    "class memoize(dict):\n",
    "    def __init__(self, func):\n",
    "        self.func = func\n",
    "\n",
    "    def __call__(self, *args):\n",
    "        return self[args]\n",
    "\n",
    "    def __missing__(self, key):\n",
    "        result = self[key] = self.func(*key)\n",
    "        return result\n"
   ]
  },
  {
   "cell_type": "code",
   "execution_count": null,
   "metadata": {
    "hide_input": false,
    "slideshow": {
     "slide_type": "subslide"
    }
   },
   "outputs": [],
   "source": [
    "import cProfile\n",
    "\n",
    "@memoize\n",
    "def fib(n):\n",
    "    # from http://en.literateprograms.org/Fibonacci_numbers_(Python)\n",
    "    if n == 0:\n",
    "        return 0\n",
    "    elif n == 1:\n",
    "        return 1\n",
    "    else:\n",
    "        return fib(n-1) + fib(n-2)\n",
    "\n",
    "def fib_seq(n):\n",
    "    seq = [ ]\n",
    "    if n > 0:\n",
    "        seq.extend(fib_seq(n-1))\n",
    "    seq.append(fib(n))\n",
    "    return seq\n",
    "\n",
    "cProfile.run('print(fib_seq(20))')"
   ]
  },
  {
   "cell_type": "code",
   "execution_count": null,
   "metadata": {
    "hide_input": true,
    "slideshow": {
     "slide_type": "subslide"
    }
   },
   "outputs": [],
   "source": [
    "import cProfile\n",
    "\n",
    "@memoize\n",
    "def fib(n):\n",
    "    # from http://en.literateprograms.org/Fibonacci_numbers_(Python)\n",
    "    if n == 0:\n",
    "        return 0\n",
    "    elif n == 1:\n",
    "        return 1\n",
    "    else:\n",
    "        return fib(n-1) + fib(n-2)\n",
    "\n",
    "def fib_seq(n):\n",
    "    seq = [ ]\n",
    "    if n > 0:\n",
    "        seq.extend(fib_seq(n-1))\n",
    "    seq.append(fib(n))\n",
    "    return seq\n",
    "\n",
    "cProfile.run('print(fib_seq(20))')"
   ]
  },
  {
   "cell_type": "markdown",
   "metadata": {
    "slideshow": {
     "slide_type": "subslide"
    }
   },
   "source": [
    "Sometimes, instead of constructing a complex expression for **run()**, it is easier to build a simple expression and pass it parameters through a context, using **runctx()**"
   ]
  },
  {
   "cell_type": "code",
   "execution_count": null,
   "metadata": {
    "hide_input": false,
    "slideshow": {
     "slide_type": "subslide"
    }
   },
   "outputs": [],
   "source": [
    "import cProfile\n",
    "\n",
    "@memoize\n",
    "def fib(n):\n",
    "    # from http://en.literateprograms.org/Fibonacci_numbers_(Python)\n",
    "    if n == 0:\n",
    "        return 0\n",
    "    elif n == 1:\n",
    "        return 1\n",
    "    else:\n",
    "        return fib(n-1) + fib(n-2)\n",
    "\n",
    "def fib_seq(n):\n",
    "    seq = [ ]\n",
    "    if n > 0:\n",
    "        seq.extend(fib_seq(n-1))\n",
    "    seq.append(fib(n))\n",
    "    return seq\n",
    "\n",
    "cProfile.runctx('print(fib_seq(n))', globals(), {'n':20})"
   ]
  },
  {
   "cell_type": "markdown",
   "metadata": {
    "slideshow": {
     "slide_type": "subslide"
    }
   },
   "source": [
    "In this example, the value of **n** is passed through the local variable context instead of being embedded directly in the statement passed to **runctx()**"
   ]
  },
  {
   "cell_type": "markdown",
   "metadata": {
    "collapsed": true,
    "slideshow": {
     "slide_type": "subslide"
    }
   },
   "source": [
    "https://docs.python.org/3/library/functools.html#functools.lru_cache"
   ]
  },
  {
   "cell_type": "code",
   "execution_count": null,
   "metadata": {
    "slideshow": {
     "slide_type": "subslide"
    }
   },
   "outputs": [],
   "source": [
    "from functools import lru_cache\n",
    "\n",
    "@lru_cache(maxsize=None)\n",
    "def fib(n):\n",
    "    if n < 2:\n",
    "        return n\n",
    "    return fib(n-1) + fib(n-2)"
   ]
  },
  {
   "cell_type": "code",
   "execution_count": null,
   "metadata": {
    "slideshow": {
     "slide_type": "subslide"
    }
   },
   "outputs": [],
   "source": [
    "[fib(n) for n in range(16)]"
   ]
  },
  {
   "cell_type": "code",
   "execution_count": null,
   "metadata": {
    "slideshow": {
     "slide_type": "subslide"
    }
   },
   "outputs": [],
   "source": [
    "fib.cache_info()"
   ]
  },
  {
   "cell_type": "code",
   "execution_count": null,
   "metadata": {
    "collapsed": true,
    "slideshow": {
     "slide_type": "subslide"
    }
   },
   "outputs": [],
   "source": [
    "def cisla1(n=10**1):\n",
    "    res = '0'\n",
    "    for i in range(1,n):\n",
    "        res = res + '; ' + str(i)\n",
    "    return res"
   ]
  },
  {
   "cell_type": "code",
   "execution_count": null,
   "metadata": {
    "collapsed": true,
    "slideshow": {
     "slide_type": "subslide"
    }
   },
   "outputs": [],
   "source": [
    "def cisla2(n=10**1):\n",
    "    res = '; '.join(str(i) for i in range(n))\n",
    "    return res"
   ]
  },
  {
   "cell_type": "code",
   "execution_count": null,
   "metadata": {},
   "outputs": [],
   "source": [
    "print(cisla1())\n",
    "print(cisla2())"
   ]
  },
  {
   "cell_type": "code",
   "execution_count": null,
   "metadata": {
    "slideshow": {
     "slide_type": "subslide"
    }
   },
   "outputs": [],
   "source": [
    "import cProfile\n",
    "\n",
    "cProfile.runctx('cisla2(10**5)', globals(), locals())\n",
    "cProfile.runctx('cisla1(10**5)', globals(), locals())"
   ]
  },
  {
   "cell_type": "markdown",
   "metadata": {
    "slideshow": {
     "slide_type": "slide"
    }
   },
   "source": [
    "## Memory profiler"
   ]
  },
  {
   "cell_type": "code",
   "execution_count": null,
   "metadata": {
    "collapsed": true,
    "slideshow": {
     "slide_type": "subslide"
    }
   },
   "outputs": [],
   "source": [
    "pip install memory_profiler\n",
    "\n",
    "conda install memory_profiler"
   ]
  },
  {
   "cell_type": "code",
   "execution_count": null,
   "metadata": {
    "slideshow": {
     "slide_type": "subslide"
    }
   },
   "outputs": [],
   "source": [
    "# %load memory_test.py\n",
    "from memory_profiler import profile\n",
    "import random\n",
    "\n",
    "@profile\n",
    "def memory_test():\n",
    "    numbers = [random.randint(0, 1000) for x in range(10**5)]\n",
    "    biggest = max(numbers)\n",
    "    return biggest\n",
    "\n",
    "memory_test()\n"
   ]
  },
  {
   "cell_type": "code",
   "execution_count": null,
   "metadata": {
    "slideshow": {
     "slide_type": "subslide"
    }
   },
   "outputs": [],
   "source": [
    "%run memory_test.py"
   ]
  },
  {
   "cell_type": "markdown",
   "metadata": {
    "slideshow": {
     "slide_type": "slide"
    }
   },
   "source": [
    "## Context managers\n",
    "\n",
    "http://effbot.org/zone/python-with-statement.htm"
   ]
  },
  {
   "cell_type": "code",
   "execution_count": null,
   "metadata": {
    "slideshow": {
     "slide_type": "subslide"
    }
   },
   "outputs": [],
   "source": [
    "def set_things_up():\n",
    "    global bond_girl\n",
    "    bond_girl = 'Vesper Lynd'\n",
    "    print('James meets', bond_girl)\n",
    "    \n",
    "def do_something():\n",
    "    print('James has sex with', bond_girl)\n",
    "    \n",
    "def tear_things_down():\n",
    "    print('The villain kills', bond_girl)\n",
    "    print('James is sad but free')"
   ]
  },
  {
   "cell_type": "code",
   "execution_count": null,
   "metadata": {
    "slideshow": {
     "slide_type": "subslide"
    }
   },
   "outputs": [],
   "source": [
    "set_things_up()\n",
    "try:\n",
    "    do_something()\n",
    "finally:\n",
    "    tear_things_down()"
   ]
  },
  {
   "cell_type": "markdown",
   "metadata": {
    "slideshow": {
     "slide_type": "subslide"
    }
   },
   "source": [
    "If you do this a lot, it would be quite convenient if you could put the âset things upâ and âtear things downâ code in a library function, to make it easy to reuse. "
   ]
  },
  {
   "cell_type": "code",
   "execution_count": null,
   "metadata": {
    "slideshow": {
     "slide_type": "subslide"
    }
   },
   "outputs": [],
   "source": [
    "def controlled_execution(callback):\n",
    "    set_things_up()\n",
    "    try:\n",
    "        callback()\n",
    "    finally:\n",
    "        tear_things_down()\n",
    "\n",
    "def do_something():\n",
    "    print('James has sex with', bond_girl)\n",
    "\n",
    "controlled_execution(do_something)"
   ]
  },
  {
   "cell_type": "markdown",
   "metadata": {
    "collapsed": true,
    "slideshow": {
     "slide_type": "subslide"
    }
   },
   "source": [
    "Thatâs a bit verbose, especially if you need to modify local variables\n",
    "\n",
    "Another approach is to use a one-shot generator, and use the for-in statement to âwrapâ the code"
   ]
  },
  {
   "cell_type": "code",
   "execution_count": null,
   "metadata": {
    "slideshow": {
     "slide_type": "subslide"
    }
   },
   "outputs": [],
   "source": [
    "def controlled_execution():\n",
    "    set_things_up()\n",
    "    try:\n",
    "        yield bond_girl\n",
    "    finally:\n",
    "        tear_things_down()\n",
    "\n",
    "def do_something_with_thing(bond_girl):\n",
    "    print('James has sex with', bond_girl)\n",
    "        \n",
    "for thing in controlled_execution():\n",
    "    do_something_with_thing(thing)"
   ]
  },
  {
   "cell_type": "markdown",
   "metadata": {
    "slideshow": {
     "slide_type": "subslide"
    }
   },
   "source": [
    " Itâs a bit weird to use a loop construct when you know that you only want to execute something once"
   ]
  },
  {
   "cell_type": "code",
   "execution_count": null,
   "metadata": {
    "slideshow": {
     "slide_type": "subslide"
    }
   },
   "outputs": [],
   "source": [
    "class controlled_execution: \n",
    "    def __enter__(self): \n",
    "        set_things_up()\n",
    "        return bond_girl\n",
    "    def __exit__(self, type, value, traceback): \n",
    "        tear_things_down()\n",
    "\n",
    "def do_something_with_thing(bond_girl):\n",
    "    print('James has sex with', bond_girl)\n",
    "        \n",
    "with controlled_execution() as thing:\n",
    "    do_something_with_thing(thing)\n"
   ]
  },
  {
   "cell_type": "markdown",
   "metadata": {
    "slideshow": {
     "slide_type": "subslide"
    }
   },
   "source": [
    "When the âwithâ statement is executed, Python evaluates the expression, calls the `__enter__` method on the resulting value (which is called a âcontext guardâ), and assigns whatever `__enter__` returns to the variable given by as"
   ]
  },
  {
   "cell_type": "markdown",
   "metadata": {
    "slideshow": {
     "slide_type": "subslide"
    }
   },
   "source": [
    "Python will then execute the code body, and no matter what happens in that code, call the guard objectâs `__exit__` method"
   ]
  },
  {
   "cell_type": "code",
   "execution_count": null,
   "metadata": {
    "slideshow": {
     "slide_type": "subslide"
    }
   },
   "outputs": [],
   "source": [
    "with open('pr.py', 'r') as f:\n",
    "    for line in f:\n",
    "        print(line)\n"
   ]
  },
  {
   "cell_type": "code",
   "execution_count": null,
   "metadata": {
    "slideshow": {
     "slide_type": "subslide"
    }
   },
   "outputs": [],
   "source": [
    "f = open(\"pr.py\") \n",
    "f\n"
   ]
  },
  {
   "cell_type": "code",
   "execution_count": null,
   "metadata": {
    "slideshow": {
     "slide_type": "fragment"
    }
   },
   "outputs": [],
   "source": [
    "f.__enter__()"
   ]
  },
  {
   "cell_type": "code",
   "execution_count": null,
   "metadata": {
    "slideshow": {
     "slide_type": "subslide"
    }
   },
   "outputs": [],
   "source": [
    "f.read(6)"
   ]
  },
  {
   "cell_type": "code",
   "execution_count": null,
   "metadata": {
    "slideshow": {
     "slide_type": "subslide"
    }
   },
   "outputs": [],
   "source": [
    "with open(input_file_path) as inputfile, open(output_file_path, 'w') as outputfile:\n",
    "    for line in inputfile:\n",
    "        outputfile.write(process(line))"
   ]
  },
  {
   "cell_type": "code",
   "execution_count": null,
   "metadata": {
    "slideshow": {
     "slide_type": "subslide"
    }
   },
   "outputs": [],
   "source": [
    "f.__exit__(None, None, None)\n",
    "f.read(10)"
   ]
  },
  {
   "cell_type": "markdown",
   "metadata": {
    "slideshow": {
     "slide_type": "subslide"
    }
   },
   "source": [
    "As an extra bonus, the __exit__ method can look at the exception, if any, and suppress it or act on it as necessary"
   ]
  },
  {
   "cell_type": "markdown",
   "metadata": {
    "slideshow": {
     "slide_type": "subslide"
    }
   },
   "source": [
    "To suppress the exception, just return a true value\n",
    "\n",
    "For example, the following __exit__ method swallows any TypeError, but lets all other exceptions through:"
   ]
  },
  {
   "cell_type": "code",
   "execution_count": null,
   "metadata": {
    "collapsed": true,
    "slideshow": {
     "slide_type": "subslide"
    }
   },
   "outputs": [],
   "source": [
    "def __exit__(self, type, value, traceback):\n",
    "    return isinstance(value, TypeError)"
   ]
  },
  {
   "cell_type": "markdown",
   "metadata": {
    "slideshow": {
     "slide_type": "subslide"
    }
   },
   "source": [
    "## contextlib"
   ]
  },
  {
   "cell_type": "markdown",
   "metadata": {
    "slideshow": {
     "slide_type": "subslide"
    }
   },
   "source": [
    "    @contextlib.contextmanager\n",
    "\n",
    "This function is a decorator that can be used to define a factory function for with statement context managers, without needing to create a class or separate __enter__() and __exit__() methods\n",
    "\n",
    "    "
   ]
  },
  {
   "cell_type": "markdown",
   "metadata": {
    "slideshow": {
     "slide_type": "subslide"
    }
   },
   "source": [
    "A simple example (not recommended as a real way of generating HTML!)"
   ]
  },
  {
   "cell_type": "code",
   "execution_count": null,
   "metadata": {
    "slideshow": {
     "slide_type": "subslide"
    }
   },
   "outputs": [],
   "source": [
    "from contextlib import contextmanager\n",
    "\n",
    "@contextmanager\n",
    "def tag(name):\n",
    "    print(\"<%s>\" % name)\n",
    "    yield\n",
    "    print(\"</%s>\" % name)\n",
    "\n",
    "with tag(\"h1\"):\n",
    "   print(\"foo\")"
   ]
  },
  {
   "cell_type": "markdown",
   "metadata": {
    "slideshow": {
     "slide_type": "subslide"
    }
   },
   "source": [
    "The function being decorated must return a generator-iterator when called\n",
    "\n",
    "This iterator must yield exactly one value, which will be bound to the targets in the with statementâs as clause, if any"
   ]
  },
  {
   "cell_type": "markdown",
   "metadata": {
    "slideshow": {
     "slide_type": "subslide"
    }
   },
   "source": [
    "At the point where the generator yields, the block nested in the with statement is executed\n",
    "\n",
    "The generator is then resumed after the block is exited"
   ]
  },
  {
   "cell_type": "code",
   "execution_count": null,
   "metadata": {
    "slideshow": {
     "slide_type": "subslide"
    }
   },
   "outputs": [],
   "source": [
    "import threading, subprocess\n",
    "\n",
    "doproc = lambda: subprocess.Popen([\"python\", \"-c\", \"'a=1'\"], \n",
    "                                  stdout=subprocess.PIPE).communicate()\n",
    "\n",
    "def dothread():\n",
    "    def run():\n",
    "        a = 1\n",
    "    th = threading.Thread(target=run)\n",
    "    th.start()\n",
    "    th.join()\n",
    "\n",
    "%time junk = [dothread() for _ in range(500)]"
   ]
  },
  {
   "cell_type": "code",
   "execution_count": null,
   "metadata": {
    "slideshow": {
     "slide_type": "subslide"
    }
   },
   "outputs": [],
   "source": [
    "%time junk = [doproc() for _ in range(500)]"
   ]
  },
  {
   "cell_type": "code",
   "execution_count": null,
   "metadata": {
    "slideshow": {
     "slide_type": "subslide"
    }
   },
   "outputs": [],
   "source": [
    "import contextlib\n",
    "import time\n",
    "\n",
    "@contextlib.contextmanager\n",
    "def time_print(task_name):\n",
    "    t = time.time()\n",
    "    try:\n",
    "        yield\n",
    "    finally:\n",
    "        print(task_name, \"took\", time.time() - t, \"seconds.\")\n",
    "\n",
    "with time_print(\"processes\"):\n",
    "    [doproc() for _ in range(500)]\n",
    "\n",
    "with time_print(\"threads\"):\n",
    "    [dothread() for _ in range(500)]"
   ]
  },
  {
   "cell_type": "markdown",
   "metadata": {
    "slideshow": {
     "slide_type": "slide"
    }
   },
   "source": [
    "# Sorting\n",
    "\n",
    "https://wiki.python.org/moin/HowTo/Sorting"
   ]
  },
  {
   "cell_type": "markdown",
   "metadata": {
    "slideshow": {
     "slide_type": "subslide"
    }
   },
   "source": [
    "Python lists have a built-in sort() method that modifies the list in-place and a sorted() built-in function that builds a new sorted list from an iterable. "
   ]
  },
  {
   "cell_type": "code",
   "execution_count": null,
   "metadata": {
    "slideshow": {
     "slide_type": "subslide"
    }
   },
   "outputs": [],
   "source": [
    "a = [5, 2, 3, 1, 4]\n",
    "print(sorted(a))\n",
    "print(a)\n",
    "a.sort()\n",
    "print(a)"
   ]
  },
  {
   "cell_type": "code",
   "execution_count": null,
   "metadata": {
    "slideshow": {
     "slide_type": "subslide"
    }
   },
   "outputs": [],
   "source": [
    "sorted({1: 'D', 2: 'B', 3: 'B', 4: 'E', 5: 'A'})"
   ]
  },
  {
   "cell_type": "code",
   "execution_count": null,
   "metadata": {
    "slideshow": {
     "slide_type": "subslide"
    }
   },
   "outputs": [],
   "source": [
    "sorted(\"This is a test string from Andrew\".split(), key=str.lower)"
   ]
  },
  {
   "cell_type": "markdown",
   "metadata": {
    "slideshow": {
     "slide_type": "subslide"
    }
   },
   "source": [
    "The value of the key parameter should be a function that takes a single argument and returns a key to use for sorting purposes\n",
    "\n",
    "This technique is fast because the key function is called exactly once for each input record"
   ]
  },
  {
   "cell_type": "markdown",
   "metadata": {
    "slideshow": {
     "slide_type": "subslide"
    }
   },
   "source": [
    "A common pattern is to sort complex objects using some of the object's indices as a key"
   ]
  },
  {
   "cell_type": "code",
   "execution_count": null,
   "metadata": {
    "slideshow": {
     "slide_type": "subslide"
    }
   },
   "outputs": [],
   "source": [
    "student_tuples = [\n",
    "        ('john', 'A', 15),\n",
    "        ('jane', 'B', 12),\n",
    "        ('dave', 'B', 10),\n",
    "]\n",
    "sorted(student_tuples, key=lambda student: student[2])   # sort by age"
   ]
  },
  {
   "cell_type": "markdown",
   "metadata": {
    "slideshow": {
     "slide_type": "subslide"
    }
   },
   "source": [
    "The same technique works for objects with named attributes"
   ]
  },
  {
   "cell_type": "code",
   "execution_count": null,
   "metadata": {
    "slideshow": {
     "slide_type": "subslide"
    }
   },
   "outputs": [],
   "source": [
    "The same technique works for objects with named attributes"
   ]
  },
  {
   "cell_type": "code",
   "execution_count": null,
   "metadata": {
    "slideshow": {
     "slide_type": "subslide"
    }
   },
   "outputs": [],
   "source": [
    "class Student:\n",
    "        def __init__(self, name, grade, age):\n",
    "                self.name = name\n",
    "                self.grade = grade\n",
    "                self.age = age\n",
    "        def __repr__(self):\n",
    "                return repr((self.name, self.grade, self.age))\n",
    "        def weighted_grade(self):\n",
    "                return 'CBA'.index(self.grade) / float(self.age)\n",
    "\n",
    "student_objects = [\n",
    "        Student('john', 'A', 15),\n",
    "        Student('jane', 'B', 12),\n",
    "        Student('dave', 'B', 10),\n",
    "]\n",
    "sorted(student_objects, key=lambda student: student.age)   # sort by age"
   ]
  },
  {
   "cell_type": "markdown",
   "metadata": {
    "slideshow": {
     "slide_type": "subslide"
    }
   },
   "source": [
    "The key-function patterns shown above are very common, so Python provides convenience functions to make accessor functions easier and faster\n",
    "\n",
    "The operator module has itemgetter, attrgetter, and a methodcaller function"
   ]
  },
  {
   "cell_type": "markdown",
   "metadata": {
    "slideshow": {
     "slide_type": "subslide"
    }
   },
   "source": [
    "Using those functions, the above examples become simpler and faster"
   ]
  },
  {
   "cell_type": "code",
   "execution_count": null,
   "metadata": {
    "slideshow": {
     "slide_type": "subslide"
    }
   },
   "outputs": [],
   "source": [
    "from operator import itemgetter, attrgetter, methodcaller\n",
    "\n",
    "sorted(student_tuples, key=itemgetter(2))"
   ]
  },
  {
   "cell_type": "code",
   "execution_count": null,
   "metadata": {
    "slideshow": {
     "slide_type": "fragment"
    }
   },
   "outputs": [],
   "source": [
    "sorted(student_objects, key=attrgetter('age'))"
   ]
  },
  {
   "cell_type": "markdown",
   "metadata": {
    "slideshow": {
     "slide_type": "subslide"
    }
   },
   "source": [
    "The operator module functions allow multiple levels of sorting\n",
    "\n",
    "For example, to sort by grade then by age"
   ]
  },
  {
   "cell_type": "code",
   "execution_count": null,
   "metadata": {
    "slideshow": {
     "slide_type": "subslide"
    }
   },
   "outputs": [],
   "source": [
    "sorted(student_tuples, key=itemgetter(1,2))\n"
   ]
  },
  {
   "cell_type": "code",
   "execution_count": null,
   "metadata": {
    "slideshow": {
     "slide_type": "notes"
    }
   },
   "outputs": [],
   "source": [
    "sorted(student_objects, key=attrgetter('grade', 'age'))"
   ]
  },
  {
   "cell_type": "markdown",
   "metadata": {
    "slideshow": {
     "slide_type": "subslide"
    }
   },
   "source": [
    "The third function from the operator module, methodcaller is used in the following example in which the weighted grade of each student is shown before sorting on it"
   ]
  },
  {
   "cell_type": "code",
   "execution_count": null,
   "metadata": {
    "slideshow": {
     "slide_type": "subslide"
    }
   },
   "outputs": [],
   "source": [
    "[(student.name, student.weighted_grade()) for student in student_objects]"
   ]
  },
  {
   "cell_type": "code",
   "execution_count": null,
   "metadata": {
    "slideshow": {
     "slide_type": "fragment"
    }
   },
   "outputs": [],
   "source": [
    "sorted(student_objects, key=methodcaller('weighted_grade'))"
   ]
  },
  {
   "cell_type": "markdown",
   "metadata": {
    "slideshow": {
     "slide_type": "subslide"
    }
   },
   "source": [
    "Both list.sort() and sorted() accept a reverse parameter with a boolean value\n",
    "\n",
    "This is using to flag descending sorts\n",
    "\n",
    "For example, to get the student data in reverse age order"
   ]
  },
  {
   "cell_type": "code",
   "execution_count": null,
   "metadata": {
    "slideshow": {
     "slide_type": "subslide"
    }
   },
   "outputs": [],
   "source": [
    "sorted(student_tuples, key=itemgetter(2), reverse=True)"
   ]
  },
  {
   "cell_type": "code",
   "execution_count": null,
   "metadata": {
    "slideshow": {
     "slide_type": "fragment"
    }
   },
   "outputs": [],
   "source": [
    "sorted(student_objects, key=attrgetter('age'), reverse=True)"
   ]
  },
  {
   "cell_type": "markdown",
   "metadata": {
    "slideshow": {
     "slide_type": "subslide"
    }
   },
   "source": [
    "Sorts are guaranteed to be stable\n",
    "\n",
    "That means that when multiple records have the same key, their original order is preserved"
   ]
  },
  {
   "cell_type": "code",
   "execution_count": null,
   "metadata": {
    "slideshow": {
     "slide_type": "subslide"
    }
   },
   "outputs": [],
   "source": [
    "data = [('red', 2), ('blue', 1), ('red', 1), ('blue', 2)]\n",
    "sorted(data, key=itemgetter(0))"
   ]
  },
  {
   "cell_type": "code",
   "execution_count": null,
   "metadata": {
    "slideshow": {
     "slide_type": "fragment"
    }
   },
   "outputs": [],
   "source": [
    "sorted(student_objects, key=attrgetter('age'))"
   ]
  },
  {
   "cell_type": "markdown",
   "metadata": {
    "slideshow": {
     "slide_type": "subslide"
    }
   },
   "source": [
    "This wonderful property lets you build complex sorts in a series of sorting steps\n",
    "\n",
    "For example, to sort the student data by descending grade and then ascending age, do the age sort first and then sort again using grade "
   ]
  },
  {
   "cell_type": "code",
   "execution_count": null,
   "metadata": {
    "slideshow": {
     "slide_type": "subslide"
    }
   },
   "outputs": [],
   "source": [
    "s = sorted(student_objects, key=attrgetter('age'))  # sort on secondary key\n",
    "sorted(s, key=attrgetter('grade'), reverse=True)    # now sort on primary key, descending"
   ]
  },
  {
   "cell_type": "markdown",
   "metadata": {
    "slideshow": {
     "slide_type": "subslide"
    }
   },
   "source": [
    "The Timsort algorithm used in Python does multiple sorts efficiently because it can take advantage of any ordering already present in a dataset. "
   ]
  },
  {
   "cell_type": "markdown",
   "metadata": {
    "slideshow": {
     "slide_type": "subslide"
    }
   },
   "source": [
    "The reverse parameter still maintains sort stability (i.e. records with equal keys retain the original order)\n",
    "\n",
    "Interestingly, that effect can be simulated without the parameter by using the builtin reversed function twice\n",
    "\n",
    "    "
   ]
  },
  {
   "cell_type": "code",
   "execution_count": null,
   "metadata": {
    "slideshow": {
     "slide_type": "subslide"
    }
   },
   "outputs": [],
   "source": [
    "data = [('red', 1), ('blue', 1), ('red', 2), ('blue', 2)]\n",
    "print(sorted(data, reverse=True))\n",
    "print(list(reversed(sorted(reversed(data)))))\n"
   ]
  },
  {
   "cell_type": "markdown",
   "metadata": {
    "slideshow": {
     "slide_type": "subslide"
    }
   },
   "source": [
    "To create a standard sort order for a class, just add the appropriate rich comparison methods"
   ]
  },
  {
   "cell_type": "code",
   "execution_count": null,
   "metadata": {
    "slideshow": {
     "slide_type": "subslide"
    }
   },
   "outputs": [],
   "source": [
    "Student.__eq__ = lambda self, other: self.age == other.age\n",
    "Student.__ne__ = lambda self, other: self.age != other.age\n",
    "Student.__lt__ = lambda self, other: self.age < other.age\n",
    "Student.__le__ = lambda self, other: self.age <= other.age\n",
    "Student.__gt__ = lambda self, other: self.age > other.age\n",
    "Student.__ge__ = lambda self, other: self.age >= other.age\n",
    "sorted(student_objects)\n"
   ]
  },
  {
   "cell_type": "markdown",
   "metadata": {
    "slideshow": {
     "slide_type": "subslide"
    }
   },
   "source": [
    "For general purpose comparisons, the recommended approach is to define all six rich comparison operators\n",
    "\n",
    "The functools.total_ordering class decorator makes this easy to implement"
   ]
  },
  {
   "cell_type": "code",
   "execution_count": null,
   "metadata": {
    "collapsed": true,
    "slideshow": {
     "slide_type": "subslide"
    }
   },
   "outputs": [],
   "source": [
    "import functools\n",
    "import inspect\n",
    "from pprint import pprint\n",
    "\n",
    "@functools.total_ordering\n",
    "class MyObject:\n",
    "\n",
    "    def __init__(self, val):\n",
    "        self.val = val\n",
    "\n",
    "    def __eq__(self, other):\n",
    "        print('  testing __eq__({}, {})'.format(\n",
    "            self.val, other.val))\n",
    "        return self.val == other.val\n",
    "\n",
    "    def __gt__(self, other):\n",
    "        print('  testing __gt__({}, {})'.format(\n",
    "            self.val, other.val))\n",
    "        return self.val > other.val"
   ]
  },
  {
   "cell_type": "code",
   "execution_count": null,
   "metadata": {
    "slideshow": {
     "slide_type": "subslide"
    }
   },
   "outputs": [],
   "source": [
    "print('Methods:\\n')\n",
    "pprint(inspect.getmembers(MyObject, inspect.isfunction))\n",
    "\n",
    "a = MyObject(1)\n",
    "b = MyObject(2)\n",
    "\n",
    "print('\\nComparisons:')\n",
    "for expr in ['a < b', 'a <= b', 'a == b', 'a >= b', 'a > b']:\n",
    "    print('\\n{:<6}:'.format(expr))\n",
    "    result = eval(expr)\n",
    "    print('  result of {}: {}'.format(expr, result))"
   ]
  },
  {
   "cell_type": "markdown",
   "metadata": {
    "slideshow": {
     "slide_type": "subslide"
    }
   },
   "source": [
    "Key functions need not access data internal to objects being sorted\n",
    "\n",
    "A key function can also access external resources"
   ]
  },
  {
   "cell_type": "markdown",
   "metadata": {
    "slideshow": {
     "slide_type": "subslide"
    }
   },
   "source": [
    "For instance, if the student grades are stored in a dictionary, they can be used to sort a separate list of student names"
   ]
  },
  {
   "cell_type": "code",
   "execution_count": null,
   "metadata": {
    "slideshow": {
     "slide_type": "subslide"
    }
   },
   "outputs": [],
   "source": [
    "    students = ['dave', 'john', 'jane']\n",
    "    newgrades = {'john': 'F', 'jane':'A', 'dave': 'C'}\n",
    "    sorted(students, key=newgrades.__getitem__)"
   ]
  },
  {
   "cell_type": "code",
   "execution_count": null,
   "metadata": {
    "slideshow": {
     "slide_type": "subslide"
    }
   },
   "outputs": [],
   "source": [
    "from random import random\n",
    "sorted(students, key=lambda _:random())"
   ]
  }
 ],
 "metadata": {
  "anaconda-cloud": {},
  "celltoolbar": "Slideshow",
  "kernelspec": {
   "display_name": "Python 3",
   "language": "python",
   "name": "python3"
  },
  "language_info": {
   "codemirror_mode": {
    "name": "ipython",
    "version": 3
   },
   "file_extension": ".py",
   "mimetype": "text/x-python",
   "name": "python",
   "nbconvert_exporter": "python",
   "pygments_lexer": "ipython3",
   "version": "3.6.8"
  },
  "livereveal": {
   "controls": true,
   "height": 855,
   "history": true,
   "minScale": 1,
   "progress": true,
   "scroll": false,
   "slideNumber": true,
   "start_slideshow_at": "selected",
   "theme": "simple",
   "transition": "linear",
   "width": 1140
  }
 },
 "nbformat": 4,
 "nbformat_minor": 1
}
